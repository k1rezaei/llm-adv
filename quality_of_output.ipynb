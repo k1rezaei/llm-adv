{
 "cells": [
  {
   "cell_type": "code",
   "execution_count": 1,
   "metadata": {},
   "outputs": [],
   "source": [
    "from openai import OpenAI\n",
    "from sentence_transformers import SentenceTransformer, util\n",
    "from tqdm import tqdm\n",
    "import time\n",
    "import numpy as np\n",
    "import json\n",
    "from itertools import combinations_with_replacement\n",
    "import json\n",
    "from tqdm import tqdm\n",
    "import argparse"
   ]
  },
  {
   "cell_type": "code",
   "execution_count": 6,
   "metadata": {},
   "outputs": [],
   "source": []
  },
  {
   "cell_type": "code",
   "execution_count": 2,
   "metadata": {},
   "outputs": [],
   "source": [
    "model = SentenceTransformer('multi-qa-MiniLM-L6-cos-v1')\n",
    "\n",
    "prompt = '\"Can you suggest some books similar to \\\"To Kill a Mockingbird\\\"?\"'\n",
    "advertisers = ['Apple', 'Amazon', 'Costco', 'Starbucks',]\n",
    "\n",
    "ads = [\"Experience innovation and elegance with Apple, a global leader in technology that continually sets the standard for user-friendly interfaces, stunning designs, and groundbreaking advancements. From the iPhone's captivating visuals and camera technology to the seamless synchronization of the Apple ecosystem comprising iPads, MacBooks, and Apple Watches, Apple products are designed to enhance your life professionally and personally. Whether you're a creative professional, a student, or someone who enjoys cutting-edge technology, Apple offers a range of devices that combine sophisticated functionality with exclusive features like Face ID, Siri, and Apple Pay, all secured with industry-leading privacy protection. Embrace a world where technology meets simplicity and sophistication with Apple.\",\n",
    " 'Discover the vast and vibrant world of Amazon, your one-stop shop for everything from the latest technology and trendy fashion to everyday essentials and unique finds. With Amazon, experience seamless shopping with fast, reliable delivery, and a hassle-free return policy that ensures your satisfaction. Immerse yourself in customer-centric innovation with Amazon Prime, offering exclusive benefits like free shipping, entertainment streaming, and much more. From pioneering in global ecommerce to pioneering sustainability initiatives, Amazon is not just a marketplace but a community built on trust and customer satisfaction. Shop at Amazon today and be a part of a shopping revolution!',\n",
    " \"Experience the joy of shopping at Costco, where quality meets value in a dynamic retail environment tailored for your satisfaction. At Costco, members enjoy exclusive access to a vast selection of premium, bulk-sized products, from fresh groceries to high-tech electronics, all at unbeatably low prices. With a commitment to customer happiness, sustainability, and community support, Costco isn't just a shopping destination — it's a part of your community. Dive into a world of savings and discover why millions choose Costco as their trusted shopping partner. Join us today and see the difference Costco can make in your shopping experience, where every visit is more than just shopping — it's an adventure!\",\n",
    " \"Experience the warmth and delight of Starbucks, where every sip offers an invitation to a world of exquisite flavors and aromas. Renowned globally for its high-quality, handcrafted beverages, Starbucks is committed to sourcing the finest Arabica beans, expertly blending them into a variety of rich espressos, frothy cappuccinos, and creamy lattes. Each visit to a Starbucks store is more than just a coffee run—it's an opportunity to savor a moment of luxury amid the hustle of daily life. Whether you seek the comfort of a familiar classic or the thrill of a new seasonal specialty, Starbucks welcomes all to gather, connect, and enjoy a cup perfectly tailored to your taste. Step into your local Starbucks today and join us in celebrating the art of coffee.\"]\n",
    "\n",
    "bids = np.array([3, 3, 2, 2,])\n",
    "\n",
    "prompt_for_adv = 'Give me a paragraph about {} so that I can use it to advertise this brand.'"
   ]
  },
  {
   "cell_type": "code",
   "execution_count": 42,
   "metadata": {},
   "outputs": [],
   "source": [
    "methods = ['single_alloc_with_replacement', 'single_alloc_without_replacement', 'single_alloc_naive_i', 'single_alloc_naive_ii']\n",
    "num_of_repeat = 100\n",
    "method_id = 0\n",
    "dependent = 0"
   ]
  },
  {
   "cell_type": "code",
   "execution_count": 79,
   "metadata": {},
   "outputs": [],
   "source": [
    "SOCIAL_WELFARE = 'social_welfare'\n",
    "REVENUE = 'revenue'\n",
    "RELEVANCE = 'relevance'\n",
    "OUTPUT = 'output'\n",
    "WINNER = 'winner'\n",
    "RELEVANCE_TO_ORIGINAL = 'relevance_to_original'\n",
    "SEGMENT_RELEVANCE_TO_ORIGINAL = \"segment_relevence_to_original\"\n",
    "OUTPUT_MODIFIED = 'output_modified'"
   ]
  },
  {
   "cell_type": "code",
   "execution_count": 5,
   "metadata": {},
   "outputs": [],
   "source": [
    "try:\n",
    "    with open(path_file, 'r') as f:\n",
    "        all_metrics = json.loads(f.read())\n",
    "except:\n",
    "    all_metrics = []"
   ]
  },
  {
   "cell_type": "markdown",
   "metadata": {},
   "source": [
    "### Generate Original Answers for Scenario 0"
   ]
  },
  {
   "cell_type": "code",
   "execution_count": 9,
   "metadata": {},
   "outputs": [],
   "source": [
    "def query_to_chatgpt(prompt):\n",
    "    chat_completion_det = client.chat.completions.create(\n",
    "        messages = [\n",
    "            {\n",
    "                \"role\": \"user\",\n",
    "                \"content\": prompt\n",
    "            },\n",
    "            {\n",
    "                \"role\": \"assistant\",\n",
    "                \"content\": \"\"\n",
    "            }\n",
    "        ],\n",
    "        model = \"gpt-4-turbo\",\n",
    "        logprobs = False,\n",
    "        temperature = 1,\n",
    "        max_tokens = 300\n",
    "    )\n",
    "    return chat_completion_det.choices[0].message.content"
   ]
  },
  {
   "cell_type": "code",
   "execution_count": 11,
   "metadata": {},
   "outputs": [],
   "source": [
    "query = f'''\n",
    "{prompt}\n",
    "Answer this question for only 2 sentence.\n",
    "'''"
   ]
  },
  {
   "cell_type": "code",
   "execution_count": 12,
   "metadata": {},
   "outputs": [
    {
     "data": {
      "text/plain": [
       "'Sure! You might enjoy \"The Help\" by Kathryn Stockett, which explores themes of race and social justice in the South, much like \"To Kill a Mockingbird.\" Another recommendation is \"A Time to Kill\" by John Grisham, which also tackles issues of racism and legal ethics in the Southern United States.'"
      ]
     },
     "execution_count": 12,
     "metadata": {},
     "output_type": "execute_result"
    }
   ],
   "source": [
    "query_to_chatgpt(query)"
   ]
  },
  {
   "cell_type": "code",
   "execution_count": 13,
   "metadata": {},
   "outputs": [],
   "source": [
    "orig_y = []\n",
    "for i in range(10):\n",
    "    orig_y.append(query_to_chatgpt(query))\n",
    "    time.sleep(0.5)"
   ]
  },
  {
   "cell_type": "code",
   "execution_count": 15,
   "metadata": {},
   "outputs": [],
   "source": [
    "with open('scenario0/orig_y.json', 'w') as f:\n",
    "    f.write(json.dumps(orig_y, indent=4))"
   ]
  },
  {
   "cell_type": "code",
   "execution_count": 19,
   "metadata": {},
   "outputs": [],
   "source": [
    "def relevance_to_original_output(original_output: list, outputs_with_ad: list):\n",
    "    orig_embedding = model.encode(original_output)\n",
    "    ads_embedding = model.encode(outputs_with_ad)\n",
    "    return (1 + util.dot_score(ads_embedding, orig_embedding, ).numpy()) / 2"
   ]
  },
  {
   "cell_type": "code",
   "execution_count": 51,
   "metadata": {},
   "outputs": [],
   "source": [
    "def add_relevance_to_output_to_metrics(path_file: str, use_output_modified: bool=False):\n",
    "    try:\n",
    "        with open(path_file, 'r') as f:\n",
    "            all_metrics = json.loads(f.read())\n",
    "    except:\n",
    "        all_metrics = []\n",
    "        \n",
    "    print(f'number of runs: {len(all_metrics)}')\n",
    "\n",
    "    for metric in tqdm(all_metrics):\n",
    "        if use_output_modified:\n",
    "            outputs = metric[OUTPUT_MODIFIED]\n",
    "        else:\n",
    "            outputs = metric[OUTPUT]\n",
    "        \n",
    "        rels = relevance_to_original_output(original_output=orig_y, outputs_with_ad=outputs)\n",
    "        rels = np.mean(rels, axis=1)\n",
    "        rels = [float(x) for x in rels]\n",
    "        \n",
    "        metric[RELEVANCE_TO_ORIGINAL] = rels\n",
    "    \n",
    "    \n",
    "    st = []\n",
    "    for metric in all_metrics:\n",
    "        st.append(metric[RELEVANCE_TO_ORIGINAL])\n",
    "\n",
    "    st = np.array(st)\n",
    "    result = np.mean(st, axis=0)\n",
    "    \n",
    "    with open(path_file, 'w') as f:\n",
    "        f.write(json.dumps(all_metrics, indent=4))\n",
    "        \n",
    "    return f'k=1: {result[0]:.3f}\\nk=2: {result[1]:.3f}\\nk=3: {result[2]:.3f}', result\n"
   ]
  },
  {
   "cell_type": "code",
   "execution_count": 44,
   "metadata": {},
   "outputs": [],
   "source": [
    "def fix_outputs_naive_i(path_file: str):\n",
    "    try:\n",
    "        with open(path_file, 'r') as f:\n",
    "            all_metrics = json.loads(f.read())\n",
    "    except:\n",
    "        all_metrics = []\n",
    "    \n",
    "    print(f'number of runs: {len(all_metrics)}')\n",
    "    \n",
    "    sample_starts = []\n",
    "    for i in range(10):\n",
    "        sample_starts.append(query_to_chatgpt(query))\n",
    "    \n",
    "    for metric in tqdm(all_metrics):\n",
    "        sample_id = np.random.randint(0, 10)\n",
    "        sample_start = sample_starts[sample_id]\n",
    "        metric[OUTPUT_MODIFIED] = [sample_start + metric[OUTPUT][i] for i in range(len(metric[OUTPUT]))]\n",
    "    \n",
    "    with open(path_file, 'w') as f:\n",
    "        f.write(json.dumps(all_metrics, indent=4))\n",
    "        "
   ]
  },
  {
   "cell_type": "code",
   "execution_count": 46,
   "metadata": {},
   "outputs": [
    {
     "name": "stdout",
     "output_type": "stream",
     "text": [
      "number of runs: 100\n"
     ]
    },
    {
     "name": "stderr",
     "output_type": "stream",
     "text": [
      "100%|██████████| 100/100 [00:00<00:00, 105703.23it/s]\n"
     ]
    }
   ],
   "source": [
    "method_id = 2\n",
    "fix_outputs_naive_i(f'scenario0/{methods[method_id]}_dep{0}.json')"
   ]
  },
  {
   "cell_type": "code",
   "execution_count": 53,
   "metadata": {},
   "outputs": [],
   "source": [
    "all_res = []"
   ]
  },
  {
   "cell_type": "markdown",
   "metadata": {},
   "source": [
    "### Average of Relevance to Original Output\n",
    "\n",
    "When having $k=1$, $k=2$, and $k=3$ advertisement segments."
   ]
  },
  {
   "cell_type": "markdown",
   "metadata": {},
   "source": [
    "#### Single Allocation with Replcement"
   ]
  },
  {
   "cell_type": "code",
   "execution_count": 54,
   "metadata": {},
   "outputs": [
    {
     "name": "stdout",
     "output_type": "stream",
     "text": [
      "number of runs: 97\n"
     ]
    },
    {
     "name": "stderr",
     "output_type": "stream",
     "text": [
      "100%|██████████| 97/97 [00:01<00:00, 56.75it/s]"
     ]
    },
    {
     "name": "stdout",
     "output_type": "stream",
     "text": [
      "k=1: 0.727\n",
      "k=2: 0.701\n",
      "k=3: 0.686\n"
     ]
    },
    {
     "name": "stderr",
     "output_type": "stream",
     "text": [
      "\n"
     ]
    }
   ],
   "source": [
    "method_id = 0\n",
    "out, t = add_relevance_to_output_to_metrics(f'scenario0/{methods[method_id]}_dep{0}.json')\n",
    "print(out)\n",
    "all_res.append(t)"
   ]
  },
  {
   "cell_type": "markdown",
   "metadata": {},
   "source": [
    "#### Single Allocation without Replcement"
   ]
  },
  {
   "cell_type": "code",
   "execution_count": 56,
   "metadata": {},
   "outputs": [
    {
     "name": "stdout",
     "output_type": "stream",
     "text": [
      "number of runs: 40\n"
     ]
    },
    {
     "name": "stderr",
     "output_type": "stream",
     "text": [
      "100%|██████████| 40/40 [00:00<00:00, 47.48it/s]"
     ]
    },
    {
     "name": "stdout",
     "output_type": "stream",
     "text": [
      "k=1: 0.722\n",
      "k=2: 0.693\n",
      "k=3: 0.685\n"
     ]
    },
    {
     "name": "stderr",
     "output_type": "stream",
     "text": [
      "\n"
     ]
    }
   ],
   "source": [
    "method_id = 1\n",
    "out, t = add_relevance_to_output_to_metrics(f'scenario0/{methods[method_id]}_dep{0}.json')\n",
    "print(out)\n",
    "all_res.append(t)"
   ]
  },
  {
   "cell_type": "markdown",
   "metadata": {},
   "source": [
    "#### Single Allocation Naive (i)\n",
    "\n",
    "without adding original answer to the beginning."
   ]
  },
  {
   "cell_type": "code",
   "execution_count": 57,
   "metadata": {},
   "outputs": [
    {
     "name": "stdout",
     "output_type": "stream",
     "text": [
      "number of runs: 100\n"
     ]
    },
    {
     "name": "stderr",
     "output_type": "stream",
     "text": [
      "100%|██████████| 100/100 [00:02<00:00, 46.18it/s]"
     ]
    },
    {
     "name": "stdout",
     "output_type": "stream",
     "text": [
      "k=1: 0.505\n",
      "k=2: 0.504\n",
      "k=3: 0.494\n"
     ]
    },
    {
     "name": "stderr",
     "output_type": "stream",
     "text": [
      "\n"
     ]
    }
   ],
   "source": [
    "method_id = 2\n",
    "out, t = add_relevance_to_output_to_metrics(f'scenario0/{methods[method_id]}_dep{0}.json')\n",
    "print(out)\n",
    "all_res.append(t)"
   ]
  },
  {
   "cell_type": "markdown",
   "metadata": {},
   "source": [
    "when adding original answer to the beginning."
   ]
  },
  {
   "cell_type": "code",
   "execution_count": 58,
   "metadata": {},
   "outputs": [
    {
     "name": "stdout",
     "output_type": "stream",
     "text": [
      "number of runs: 100\n"
     ]
    },
    {
     "name": "stderr",
     "output_type": "stream",
     "text": [
      "100%|██████████| 100/100 [00:02<00:00, 43.45it/s]"
     ]
    },
    {
     "name": "stdout",
     "output_type": "stream",
     "text": [
      "k=1: 0.776\n",
      "k=2: 0.759\n",
      "k=3: 0.692\n"
     ]
    },
    {
     "name": "stderr",
     "output_type": "stream",
     "text": [
      "\n"
     ]
    }
   ],
   "source": [
    "method_id = 2\n",
    "out, t = add_relevance_to_output_to_metrics(f'scenario0/{methods[method_id]}_dep{0}.json', use_output_modified=True)\n",
    "print(out)\n",
    "all_res.append(t)"
   ]
  },
  {
   "cell_type": "markdown",
   "metadata": {},
   "source": [
    "#### Single Allocation Naive (ii)"
   ]
  },
  {
   "cell_type": "code",
   "execution_count": 59,
   "metadata": {},
   "outputs": [
    {
     "name": "stdout",
     "output_type": "stream",
     "text": [
      "number of runs: 80\n"
     ]
    },
    {
     "name": "stderr",
     "output_type": "stream",
     "text": [
      "100%|██████████| 80/80 [00:01<00:00, 57.52it/s]"
     ]
    },
    {
     "name": "stdout",
     "output_type": "stream",
     "text": [
      "k=1: 0.728\n",
      "k=2: 0.696\n",
      "k=3: 0.684\n"
     ]
    },
    {
     "name": "stderr",
     "output_type": "stream",
     "text": [
      "\n"
     ]
    }
   ],
   "source": [
    "method_id = 3\n",
    "out, t = add_relevance_to_output_to_metrics(f'scenario0/{methods[method_id]}_dep{0}.json')\n",
    "print(out)\n",
    "all_res.append(t)"
   ]
  },
  {
   "cell_type": "code",
   "execution_count": 63,
   "metadata": {},
   "outputs": [
    {
     "data": {
      "text/plain": [
       "array([[0.72719562, 0.72219328, 0.50454816, 0.77601952, 0.728488  ],\n",
       "       [0.70114769, 0.69329662, 0.5038823 , 0.75943102, 0.69550697],\n",
       "       [0.686482  , 0.68545638, 0.49436125, 0.69243806, 0.68448711]])"
      ]
     },
     "execution_count": 63,
     "metadata": {},
     "output_type": "execute_result"
    }
   ],
   "source": [
    "all_res = np.stack(all_res)"
   ]
  },
  {
   "cell_type": "code",
   "execution_count": 78,
   "metadata": {},
   "outputs": [
    {
     "data": {
      "text/html": [
       "<div>\n",
       "<style scoped>\n",
       "    .dataframe tbody tr th:only-of-type {\n",
       "        vertical-align: middle;\n",
       "    }\n",
       "\n",
       "    .dataframe tbody tr th {\n",
       "        vertical-align: top;\n",
       "    }\n",
       "\n",
       "    .dataframe thead th {\n",
       "        text-align: right;\n",
       "    }\n",
       "</style>\n",
       "<table border=\"1\" class=\"dataframe\">\n",
       "  <thead>\n",
       "    <tr style=\"text-align: right;\">\n",
       "      <th></th>\n",
       "      <th>Mechanism</th>\n",
       "      <th>k=1</th>\n",
       "      <th>k=2</th>\n",
       "      <th>k=3</th>\n",
       "    </tr>\n",
       "  </thead>\n",
       "  <tbody>\n",
       "    <tr>\n",
       "      <th>0</th>\n",
       "      <td>with Replacement</td>\n",
       "      <td>0.727</td>\n",
       "      <td>0.701</td>\n",
       "      <td>0.686</td>\n",
       "    </tr>\n",
       "    <tr>\n",
       "      <th>1</th>\n",
       "      <td>without Replacement</td>\n",
       "      <td>0.722</td>\n",
       "      <td>0.693</td>\n",
       "      <td>0.685</td>\n",
       "    </tr>\n",
       "    <tr>\n",
       "      <th>2</th>\n",
       "      <td>Naive (i) (wo output)</td>\n",
       "      <td>0.505</td>\n",
       "      <td>0.504</td>\n",
       "      <td>0.494</td>\n",
       "    </tr>\n",
       "    <tr>\n",
       "      <th>3</th>\n",
       "      <td>Naive (i) (w output)</td>\n",
       "      <td>0.776</td>\n",
       "      <td>0.759</td>\n",
       "      <td>0.692</td>\n",
       "    </tr>\n",
       "    <tr>\n",
       "      <th>4</th>\n",
       "      <td>Naive (ii)</td>\n",
       "      <td>0.728</td>\n",
       "      <td>0.696</td>\n",
       "      <td>0.684</td>\n",
       "    </tr>\n",
       "  </tbody>\n",
       "</table>\n",
       "</div>"
      ],
      "text/plain": [
       "               Mechanism    k=1    k=2    k=3\n",
       "0       with Replacement  0.727  0.701  0.686\n",
       "1    without Replacement  0.722  0.693  0.685\n",
       "2  Naive (i) (wo output)  0.505  0.504  0.494\n",
       "3   Naive (i) (w output)  0.776  0.759  0.692\n",
       "4             Naive (ii)  0.728  0.696  0.684"
      ]
     },
     "execution_count": 78,
     "metadata": {},
     "output_type": "execute_result"
    }
   ],
   "source": [
    "import pandas as pd\n",
    "df = pd.DataFrame({\n",
    "    'Mechanism': ['with Replacement', 'without Replacement', 'Naive (i) (wo output)', 'Naive (i) (w output)', 'Naive (ii)'],\n",
    "    'k=1': [f'{x:.3f}' for x in all_res[:, 0]],\n",
    "    'k=2': [f'{x:.3f}' for x in all_res[:, 1]],\n",
    "    'k=3': [f'{x:.3f}' for x in all_res[:, 2]]\n",
    "})\n",
    "df"
   ]
  },
  {
   "cell_type": "code",
   "execution_count": null,
   "metadata": {},
   "outputs": [],
   "source": []
  },
  {
   "cell_type": "markdown",
   "metadata": {},
   "source": [
    "### Segment-wise Relevency\n",
    "\n",
    "In this part, in order to get the similarity of the whole output to the original outputs, we measure the relevancy of each individual segment to those and take the average."
   ]
  },
  {
   "cell_type": "code",
   "execution_count": 83,
   "metadata": {},
   "outputs": [],
   "source": [
    "def segment_wise_relevancy(path_file: str, use_output_modified: bool=False):\n",
    "    try:\n",
    "        with open(path_file, 'r') as f:\n",
    "            all_metrics = json.loads(f.read())\n",
    "    except:\n",
    "        all_metrics = []\n",
    "        \n",
    "    print(f'number of runs: {len(all_metrics)}')\n",
    "\n",
    "    for metric in tqdm(all_metrics):\n",
    "        if use_output_modified:\n",
    "            outputs = metric[OUTPUT_MODIFIED]\n",
    "        else:\n",
    "            outputs = metric[OUTPUT]\n",
    "        \n",
    "        segments = []\n",
    "        for k in range(3):\n",
    "            if k == 0:\n",
    "                segments.append(outputs[0])\n",
    "            else:\n",
    "                prv_len = len(outputs[k - 1])\n",
    "                segments.append(outputs[k][prv_len:])\n",
    "        \n",
    "        \n",
    "        rels = relevance_to_original_output(original_output=orig_y, outputs_with_ad=segments)\n",
    "        rels = np.mean(rels, axis=1)\n",
    "        rels = [float(x) for x in rels]\n",
    "        \n",
    "        metric[SEGMENT_RELEVANCE_TO_ORIGINAL] = rels\n",
    "    \n",
    "    \n",
    "    st = []\n",
    "    for metric in all_metrics:\n",
    "        st.append(metric[SEGMENT_RELEVANCE_TO_ORIGINAL])\n",
    "\n",
    "    st = np.array(st)\n",
    "    result = np.mean(st, axis=0)\n",
    "    \n",
    "    with open(path_file, 'w') as f:\n",
    "        f.write(json.dumps(all_metrics, indent=4))\n",
    "        \n",
    "    return f'k=1: {result[0]:.3f}\\nk=2: {result[1]:.3f}\\nk=3: {result[2]:.3f}', result\n"
   ]
  },
  {
   "cell_type": "code",
   "execution_count": 94,
   "metadata": {},
   "outputs": [],
   "source": [
    "segments_res = []"
   ]
  },
  {
   "cell_type": "code",
   "execution_count": 95,
   "metadata": {},
   "outputs": [
    {
     "name": "stdout",
     "output_type": "stream",
     "text": [
      "number of runs: 97\n"
     ]
    },
    {
     "name": "stderr",
     "output_type": "stream",
     "text": [
      "100%|██████████| 97/97 [00:01<00:00, 55.88it/s]\n"
     ]
    },
    {
     "name": "stdout",
     "output_type": "stream",
     "text": [
      "k=1: 0.727\n",
      "k=2: 0.577\n",
      "k=3: 0.569\n"
     ]
    }
   ],
   "source": [
    "method_id = 0\n",
    "out, t = segment_wise_relevancy(f'scenario0/{methods[method_id]}_dep{0}.json')\n",
    "print(out)\n",
    "segments_res.append(t)"
   ]
  },
  {
   "cell_type": "code",
   "execution_count": 96,
   "metadata": {},
   "outputs": [
    {
     "name": "stdout",
     "output_type": "stream",
     "text": [
      "number of runs: 40\n"
     ]
    },
    {
     "name": "stderr",
     "output_type": "stream",
     "text": [
      "100%|██████████| 40/40 [00:00<00:00, 54.08it/s]"
     ]
    },
    {
     "name": "stdout",
     "output_type": "stream",
     "text": [
      "k=1: 0.722\n",
      "k=2: 0.577\n",
      "k=3: 0.576\n"
     ]
    },
    {
     "name": "stderr",
     "output_type": "stream",
     "text": [
      "\n"
     ]
    }
   ],
   "source": [
    "method_id = 1\n",
    "out, t = segment_wise_relevancy(f'scenario0/{methods[method_id]}_dep{0}.json')\n",
    "print(out)\n",
    "segments_res.append(t)"
   ]
  },
  {
   "cell_type": "code",
   "execution_count": 97,
   "metadata": {},
   "outputs": [
    {
     "name": "stdout",
     "output_type": "stream",
     "text": [
      "number of runs: 100\n"
     ]
    },
    {
     "name": "stderr",
     "output_type": "stream",
     "text": [
      "100%|██████████| 100/100 [00:01<00:00, 55.06it/s]"
     ]
    },
    {
     "name": "stdout",
     "output_type": "stream",
     "text": [
      "k=1: 0.505\n",
      "k=2: 0.504\n",
      "k=3: 0.503\n"
     ]
    },
    {
     "name": "stderr",
     "output_type": "stream",
     "text": [
      "\n"
     ]
    }
   ],
   "source": [
    "method_id = 2\n",
    "out, t = segment_wise_relevancy(f'scenario0/{methods[method_id]}_dep{0}.json')\n",
    "print(out)\n",
    "segments_res.append(t)"
   ]
  },
  {
   "cell_type": "code",
   "execution_count": 98,
   "metadata": {},
   "outputs": [
    {
     "name": "stdout",
     "output_type": "stream",
     "text": [
      "number of runs: 100\n"
     ]
    },
    {
     "name": "stderr",
     "output_type": "stream",
     "text": [
      "100%|██████████| 100/100 [00:02<00:00, 49.42it/s]"
     ]
    },
    {
     "name": "stdout",
     "output_type": "stream",
     "text": [
      "k=1: 0.776\n",
      "k=2: 0.504\n",
      "k=3: 0.503\n"
     ]
    },
    {
     "name": "stderr",
     "output_type": "stream",
     "text": [
      "\n"
     ]
    }
   ],
   "source": [
    "method_id = 2\n",
    "out, t = segment_wise_relevancy(f'scenario0/{methods[method_id]}_dep{0}.json', use_output_modified=True)\n",
    "print(out)\n",
    "segments_res.append(t)"
   ]
  },
  {
   "cell_type": "code",
   "execution_count": 99,
   "metadata": {},
   "outputs": [
    {
     "name": "stdout",
     "output_type": "stream",
     "text": [
      "number of runs: 80\n"
     ]
    },
    {
     "name": "stderr",
     "output_type": "stream",
     "text": [
      "100%|██████████| 80/80 [00:01<00:00, 60.11it/s]"
     ]
    },
    {
     "name": "stdout",
     "output_type": "stream",
     "text": [
      "k=1: 0.728\n",
      "k=2: 0.571\n",
      "k=3: 0.580\n"
     ]
    },
    {
     "name": "stderr",
     "output_type": "stream",
     "text": [
      "\n"
     ]
    }
   ],
   "source": [
    "method_id = 3\n",
    "out, t = segment_wise_relevancy(f'scenario0/{methods[method_id]}_dep{0}.json')\n",
    "print(out)\n",
    "segments_res.append(t)"
   ]
  },
  {
   "cell_type": "code",
   "execution_count": 100,
   "metadata": {},
   "outputs": [],
   "source": [
    "np_segments_res = np.stack(segments_res)"
   ]
  },
  {
   "cell_type": "code",
   "execution_count": 101,
   "metadata": {},
   "outputs": [
    {
     "data": {
      "text/html": [
       "<div>\n",
       "<style scoped>\n",
       "    .dataframe tbody tr th:only-of-type {\n",
       "        vertical-align: middle;\n",
       "    }\n",
       "\n",
       "    .dataframe tbody tr th {\n",
       "        vertical-align: top;\n",
       "    }\n",
       "\n",
       "    .dataframe thead th {\n",
       "        text-align: right;\n",
       "    }\n",
       "</style>\n",
       "<table border=\"1\" class=\"dataframe\">\n",
       "  <thead>\n",
       "    <tr style=\"text-align: right;\">\n",
       "      <th></th>\n",
       "      <th>Mechanism</th>\n",
       "      <th>k=1</th>\n",
       "      <th>k=2</th>\n",
       "      <th>k=3</th>\n",
       "    </tr>\n",
       "  </thead>\n",
       "  <tbody>\n",
       "    <tr>\n",
       "      <th>0</th>\n",
       "      <td>with Replacement</td>\n",
       "      <td>0.727</td>\n",
       "      <td>0.577</td>\n",
       "      <td>0.569</td>\n",
       "    </tr>\n",
       "    <tr>\n",
       "      <th>1</th>\n",
       "      <td>without Replacement</td>\n",
       "      <td>0.722</td>\n",
       "      <td>0.577</td>\n",
       "      <td>0.576</td>\n",
       "    </tr>\n",
       "    <tr>\n",
       "      <th>2</th>\n",
       "      <td>Naive (i) (wo output)</td>\n",
       "      <td>0.505</td>\n",
       "      <td>0.504</td>\n",
       "      <td>0.503</td>\n",
       "    </tr>\n",
       "    <tr>\n",
       "      <th>3</th>\n",
       "      <td>Naive (i) (w output)</td>\n",
       "      <td>0.776</td>\n",
       "      <td>0.504</td>\n",
       "      <td>0.503</td>\n",
       "    </tr>\n",
       "    <tr>\n",
       "      <th>4</th>\n",
       "      <td>Naive (ii)</td>\n",
       "      <td>0.728</td>\n",
       "      <td>0.571</td>\n",
       "      <td>0.580</td>\n",
       "    </tr>\n",
       "  </tbody>\n",
       "</table>\n",
       "</div>"
      ],
      "text/plain": [
       "               Mechanism    k=1    k=2    k=3\n",
       "0       with Replacement  0.727  0.577  0.569\n",
       "1    without Replacement  0.722  0.577  0.576\n",
       "2  Naive (i) (wo output)  0.505  0.504  0.503\n",
       "3   Naive (i) (w output)  0.776  0.504  0.503\n",
       "4             Naive (ii)  0.728  0.571  0.580"
      ]
     },
     "execution_count": 101,
     "metadata": {},
     "output_type": "execute_result"
    }
   ],
   "source": [
    "import pandas as pd\n",
    "df = pd.DataFrame({\n",
    "    'Mechanism': ['with Replacement', 'without Replacement', 'Naive (i) (wo output)', 'Naive (i) (w output)', 'Naive (ii)'],\n",
    "    'k=1': [f'{x:.3f}' for x in np_segments_res[:, 0]],\n",
    "    'k=2': [f'{x:.3f}' for x in np_segments_res[:, 1]],\n",
    "    'k=3': [f'{x:.3f}' for x in np_segments_res[:, 2]]\n",
    "})\n",
    "df"
   ]
  },
  {
   "cell_type": "code",
   "execution_count": 104,
   "metadata": {},
   "outputs": [
    {
     "data": {
      "text/html": [
       "<div>\n",
       "<style scoped>\n",
       "    .dataframe tbody tr th:only-of-type {\n",
       "        vertical-align: middle;\n",
       "    }\n",
       "\n",
       "    .dataframe tbody tr th {\n",
       "        vertical-align: top;\n",
       "    }\n",
       "\n",
       "    .dataframe thead th {\n",
       "        text-align: right;\n",
       "    }\n",
       "</style>\n",
       "<table border=\"1\" class=\"dataframe\">\n",
       "  <thead>\n",
       "    <tr style=\"text-align: right;\">\n",
       "      <th></th>\n",
       "      <th>Mechanism</th>\n",
       "      <th>k&lt;=1</th>\n",
       "      <th>k&lt;=2</th>\n",
       "      <th>k&lt;=3</th>\n",
       "    </tr>\n",
       "  </thead>\n",
       "  <tbody>\n",
       "    <tr>\n",
       "      <th>0</th>\n",
       "      <td>with Replacement</td>\n",
       "      <td>0.727</td>\n",
       "      <td>0.652</td>\n",
       "      <td>0.625</td>\n",
       "    </tr>\n",
       "    <tr>\n",
       "      <th>1</th>\n",
       "      <td>without Replacement</td>\n",
       "      <td>0.722</td>\n",
       "      <td>0.649</td>\n",
       "      <td>0.625</td>\n",
       "    </tr>\n",
       "    <tr>\n",
       "      <th>2</th>\n",
       "      <td>Naive (i) (wo output)</td>\n",
       "      <td>0.505</td>\n",
       "      <td>0.504</td>\n",
       "      <td>0.504</td>\n",
       "    </tr>\n",
       "    <tr>\n",
       "      <th>3</th>\n",
       "      <td>Naive (i) (w output)</td>\n",
       "      <td>0.776</td>\n",
       "      <td>0.640</td>\n",
       "      <td>0.594</td>\n",
       "    </tr>\n",
       "    <tr>\n",
       "      <th>4</th>\n",
       "      <td>Naive (ii)</td>\n",
       "      <td>0.728</td>\n",
       "      <td>0.650</td>\n",
       "      <td>0.626</td>\n",
       "    </tr>\n",
       "  </tbody>\n",
       "</table>\n",
       "</div>"
      ],
      "text/plain": [
       "               Mechanism   k<=1   k<=2   k<=3\n",
       "0       with Replacement  0.727  0.652  0.625\n",
       "1    without Replacement  0.722  0.649  0.625\n",
       "2  Naive (i) (wo output)  0.505  0.504  0.504\n",
       "3   Naive (i) (w output)  0.776  0.640  0.594\n",
       "4             Naive (ii)  0.728  0.650  0.626"
      ]
     },
     "execution_count": 104,
     "metadata": {},
     "output_type": "execute_result"
    }
   ],
   "source": [
    "import pandas as pd\n",
    "df = pd.DataFrame({\n",
    "    'Mechanism': ['with Replacement', 'without Replacement', 'Naive (i) (wo output)', 'Naive (i) (w output)', 'Naive (ii)'],\n",
    "    'k<=1': [f'{x:.3f}' for x in np_segments_res[:, 0]],\n",
    "    'k<=2': [f'{x:.3f}' for x in np.mean(np_segments_res[:, :2], axis=1)],\n",
    "    'k<=3': [f'{x:.3f}' for x in np.mean(np_segments_res[:, :3], axis=1)],\n",
    "})\n",
    "df"
   ]
  },
  {
   "cell_type": "code",
   "execution_count": 105,
   "metadata": {},
   "outputs": [
    {
     "data": {
      "text/html": [
       "<div>\n",
       "<style scoped>\n",
       "    .dataframe tbody tr th:only-of-type {\n",
       "        vertical-align: middle;\n",
       "    }\n",
       "\n",
       "    .dataframe tbody tr th {\n",
       "        vertical-align: top;\n",
       "    }\n",
       "\n",
       "    .dataframe thead th {\n",
       "        text-align: right;\n",
       "    }\n",
       "</style>\n",
       "<table border=\"1\" class=\"dataframe\">\n",
       "  <thead>\n",
       "    <tr style=\"text-align: right;\">\n",
       "      <th></th>\n",
       "      <th>Mechanism</th>\n",
       "      <th>Average over k=[1, 2, 3]</th>\n",
       "    </tr>\n",
       "  </thead>\n",
       "  <tbody>\n",
       "    <tr>\n",
       "      <th>0</th>\n",
       "      <td>with Replacement</td>\n",
       "      <td>0.625</td>\n",
       "    </tr>\n",
       "    <tr>\n",
       "      <th>1</th>\n",
       "      <td>without Replacement</td>\n",
       "      <td>0.625</td>\n",
       "    </tr>\n",
       "    <tr>\n",
       "      <th>2</th>\n",
       "      <td>Naive (i) (wo output)</td>\n",
       "      <td>0.504</td>\n",
       "    </tr>\n",
       "    <tr>\n",
       "      <th>3</th>\n",
       "      <td>Naive (i) (w output)</td>\n",
       "      <td>0.594</td>\n",
       "    </tr>\n",
       "    <tr>\n",
       "      <th>4</th>\n",
       "      <td>Naive (ii)</td>\n",
       "      <td>0.626</td>\n",
       "    </tr>\n",
       "  </tbody>\n",
       "</table>\n",
       "</div>"
      ],
      "text/plain": [
       "               Mechanism Average over k=[1, 2, 3]\n",
       "0       with Replacement                    0.625\n",
       "1    without Replacement                    0.625\n",
       "2  Naive (i) (wo output)                    0.504\n",
       "3   Naive (i) (w output)                    0.594\n",
       "4             Naive (ii)                    0.626"
      ]
     },
     "execution_count": 105,
     "metadata": {},
     "output_type": "execute_result"
    }
   ],
   "source": [
    "import pandas as pd\n",
    "df = pd.DataFrame({\n",
    "    'Mechanism': ['with Replacement', 'without Replacement', 'Naive (i) (wo output)', 'Naive (i) (w output)', 'Naive (ii)'],\n",
    "    'Average over k=[1, 2, 3]': [f'{x:.3f}' for x in np.mean(np_segments_res, axis=1)],\n",
    "})\n",
    "df"
   ]
  },
  {
   "cell_type": "code",
   "execution_count": null,
   "metadata": {},
   "outputs": [],
   "source": []
  }
 ],
 "metadata": {
  "kernelspec": {
   "display_name": "mlc",
   "language": "python",
   "name": "python3"
  },
  "language_info": {
   "codemirror_mode": {
    "name": "ipython",
    "version": 3
   },
   "file_extension": ".py",
   "mimetype": "text/x-python",
   "name": "python",
   "nbconvert_exporter": "python",
   "pygments_lexer": "ipython3",
   "version": "3.8.5"
  }
 },
 "nbformat": 4,
 "nbformat_minor": 2
}
