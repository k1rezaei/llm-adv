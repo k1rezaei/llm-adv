{
 "cells": [
  {
   "cell_type": "code",
   "execution_count": 23,
   "metadata": {},
   "outputs": [],
   "source": [
    "from openai import OpenAI\n",
    "from sentence_transformers import SentenceTransformer, util\n",
    "from tqdm import tqdm\n",
    "import time\n",
    "import numpy as np\n",
    "import json\n",
    "from itertools import combinations_with_replacement\n",
    "import json\n",
    "from tqdm import tqdm\n",
    "import argparse"
   ]
  },
  {
   "cell_type": "code",
   "execution_count": null,
   "metadata": {},
   "outputs": [],
   "source": []
  },
  {
   "cell_type": "code",
   "execution_count": 25,
   "metadata": {},
   "outputs": [],
   "source": [
    "model = SentenceTransformer('multi-qa-MiniLM-L6-cos-v1')\n",
    "\n",
    "prompt = '\"Can you suggest some books similar to \\\"To Kill a Mockingbird\\\"?\"'\n",
    "\n",
    "advertisers = ['Velora', 'BookHaven', 'MassMart', 'EspressoEdge']\n",
    "ads = [\n",
    "    \"Discover the future of technology with Velora, the brand that redefines innovation and elegance. Velora designs and sells a premium range of smartphones, tablets, laptops, and smartwatches, all crafted to seamlessly integrate into your lifestyle. Our products are engineered with user-friendly interfaces, stunning designs, and cutting-edge technology to keep you connected and productive. Velora's ecosystem offers unparalleled synchronization across devices, ensuring a smooth and efficient experience whether you're at work, school, or on the go. With Velora Pay, you can enjoy secure and convenient payment services, while our robust cloud service keeps your data safe and accessible anytime, anywhere. Elevate your tech experience with Velora, where sophistication meets simplicity and advanced functionality.\",\n",
    "    \"Introducing BookHaven, your ultimate online bookstore where the world of literature is just a click away. At BookHaven, we offer an extensive collection of books spanning every genre and interest, from timeless classics and gripping thrillers to insightful non-fiction and enchanting children's stories. Our user-friendly platform ensures a seamless shopping experience, with personalized recommendations and unbeatable prices. Whether you're a voracious reader or just looking for your next great read, BookHaven is dedicated to delivering literary treasures right to your doorstep with fast, reliable shipping and a hassle-free return policy. Discover the joy of reading with BookHaven, where every book finds its perfect reader. Dive into a world of endless possibilities and let your next adventure begin at BookHaven!\",\n",
    "    \"Experience the joy of shopping at MassMart, where quality meets value in a dynamic retail environment tailored for your satisfaction. At MassMart, members enjoy exclusive access to a vast selection of premium, bulk-sized products, from fresh groceries to high-tech electronics, all at unbeatably low prices. With a commitment to customer happiness, sustainability, and community support, MassMart isn't just a shopping destination — it's a part of your community. Dive into a world of savings and discover why millions choose MassMart as their trusted shopping partner. Join us today and see the difference MassMart can make in your shopping experience, where every visit is more than just shopping — it's an adventure!\",\n",
    "    \"Experience the warmth and delight of EspressoEdge, where every sip offers an invitation to a world of exquisite flavors and aromas. Renowned globally for its high-quality, handcrafted beverages, EspressoEdge is committed to sourcing the finest Arabica beans, expertly blending them into a variety of rich espressos, frothy cappuccinos, and creamy lattes. Each visit to an EspressoEdge store is more than just a coffee run—it's an opportunity to savor a moment of luxury amid the hustle of daily life. Whether you seek the comfort of a familiar classic or the thrill of a new seasonal specialty, EspressoEdge welcomes all to gather, connect, and enjoy a cup perfectly tailored to your taste. Step into your local EspressoEdge today and join us in celebrating the art of coffee.\",\n",
    "]\n",
    "\n",
    "\n",
    "bids = np.array([3, 3, 2, 2,]) # Scenario 0\n",
    "\n",
    "# advertisers = ['Velora', 'BookHaven', 'MassMart', 'EspressoEdge', 'SocialHub', 'ColaBubbles', 'FizzyPop', 'SkyTech', 'AeroDynamics', 'MusicStream', 'BrainChips']\n",
    "# ads = [\n",
    "#     \"Discover the future of technology with Velora, the brand that redefines innovation and elegance. Velora designs and sells a premium range of smartphones, tablets, laptops, and smartwatches, all crafted to seamlessly integrate into your lifestyle. Our products are engineered with user-friendly interfaces, stunning designs, and cutting-edge technology to keep you connected and productive. Velora's ecosystem offers unparalleled synchronization across devices, ensuring a smooth and efficient experience whether you're at work, school, or on the go. With Velora Pay, you can enjoy secure and convenient payment services, while our robust cloud service keeps your data safe and accessible anytime, anywhere. Elevate your tech experience with Velora, where sophistication meets simplicity and advanced functionality.\",\n",
    "#     \"Introducing BookHaven, your ultimate online bookstore where the world of literature is just a click away. At BookHaven, we offer an extensive collection of books spanning every genre and interest, from timeless classics and gripping thrillers to insightful non-fiction and enchanting children's stories. Our user-friendly platform ensures a seamless shopping experience, with personalized recommendations and unbeatable prices. Whether you're a voracious reader or just looking for your next great read, BookHaven is dedicated to delivering literary treasures right to your doorstep with fast, reliable shipping and a hassle-free return policy. Discover the joy of reading with BookHaven, where every book finds its perfect reader. Dive into a world of endless possibilities and let your next adventure begin at BookHaven!\",\n",
    "#     \"Experience the joy of shopping at MassMart, where quality meets value in a dynamic retail environment tailored for your satisfaction. At MassMart, members enjoy exclusive access to a vast selection of premium, bulk-sized products, from fresh groceries to high-tech electronics, all at unbeatably low prices. With a commitment to customer happiness, sustainability, and community support, MassMart isn't just a shopping destination — it's a part of your community. Dive into a world of savings and discover why millions choose MassMart as their trusted shopping partner. Join us today and see the difference MassMart can make in your shopping experience, where every visit is more than just shopping — it's an adventure!\",\n",
    "#     \"Experience the warmth and delight of EspressoEdge, where every sip offers an invitation to a world of exquisite flavors and aromas. Renowned globally for its high-quality, handcrafted beverages, EspressoEdge is committed to sourcing the finest Arabica beans, expertly blending them into a variety of rich espressos, frothy cappuccinos, and creamy lattes. Each visit to an EspressoEdge store is more than just a coffee run—it's an opportunity to savor a moment of luxury amid the hustle of daily life. Whether you seek the comfort of a familiar classic or the thrill of a new seasonal specialty, EspressoEdge welcomes all to gather, connect, and enjoy a cup perfectly tailored to your taste. Step into your local EspressoEdge today and join us in celebrating the art of coffee.\",\n",
    "#     \"Discover the power of connection with SocialHub, the world's leading social media platform. With over two billion active users, SocialHub is your gateway to staying in touch with friends and family, discovering new communities, and sharing your life's moments. Our innovative features, from personalized news feeds to interactive groups, make it easy to engage with what matters most to you. Whether you're promoting your business, staying updated on the latest news, or simply keeping up with loved ones, SocialHub is the ultimate tool to enhance your digital experience. Join us today and be part of a global network where connections come to life!\",\n",
    "#     \"Experience the refreshing taste of ColaBubbles, the world's favorite soft drink. With its unique blend of flavors and effervescent bubbles, ColaBubbles has been bringing joy to people of all ages for over a century. Whether you're enjoying a moment of relaxation, celebrating with friends, or on the go, ColaBubbles is the perfect companion to quench your thirst and uplift your spirits. Our commitment to quality and tradition ensures every sip is as delightful as the first. Indulge in the classic taste of ColaBubbles and make every moment special. Taste the feeling!\",\n",
    "#     \"Unleash the bold taste of FizzyPop, the iconic soft drink that invigorates and refreshes like no other. Known for its crisp, refreshing flavor and vibrant effervescence, FizzyPop is the perfect choice for those who dare to live life to the fullest. Whether you're at a party, watching a game, or simply taking a break, FizzyPop brings a burst of excitement to any occasion. With a heritage of quality and a commitment to innovation, every sip of FizzyPop delivers an unmatched experience. Embrace the bold, and make every moment extraordinary with the unmistakable taste of FizzyPop.\",\n",
    "#     \"Explore the skies with SkyTech, the world's leading aerospace company renowned for its innovation, quality, and reliability. SkyTech designs, manufactures, and services commercial airplanes, defense systems, and space technologies, making global connectivity and exploration possible. Whether you're traveling for business or leisure, SkyTech's state-of-the-art aircraft ensure a safe, comfortable, and efficient journey. With a legacy of pioneering advancements and a commitment to excellence, SkyTech continues to shape the future of aviation. Choose SkyTech and experience the pinnacle of aerospace engineering and performance. Fly with confidence, fly with SkyTech.\",\n",
    "#     \"Experience the future of aviation with AeroDynamics, the global leader in aerospace innovation and excellence. AeroDynamics designs and manufactures the world’s most advanced commercial aircraft, providing unparalleled comfort, efficiency, and reliability. From cutting-edge technology to sustainable solutions, AeroDynamics is dedicated to shaping the future of air travel. Whether you're embarking on a long-haul journey or a short domestic flight, AeroDynamics ensures a superior flying experience with spacious cabins, innovative features, and top-notch safety standards. Trust AeroDynamics for a seamless and enjoyable journey every time. Fly smarter, fly with AeroDynamics.\",\n",
    "#     \"Immerse yourself in the world of music with MusicStream, the ultimate destination for streaming your favorite tunes anytime, anywhere. With a vast library of millions of songs, playlists curated just for you, and personalized recommendations, MusicStream puts the power of music discovery in your hands. Whether you're in the mood for chart-topping hits, underground gems, or soothing melodies, MusicStream has something for everyone. Plus, with offline listening capabilities and seamless integration across devices, you can take your music with you wherever you go. Join the millions of music lovers worldwide and unlock endless possibilities with MusicStream. Discover, stream, and experience the joy of music like never before.\", \n",
    "#     \"Experience the cutting-edge innovation of BrainChips, the global leader in semiconductor technology. BrainChips' groundbreaking processors power the devices that fuel our modern world, from laptops and desktops to servers and cloud computing systems. With a legacy of pushing the boundaries of technology, BrainChips continues to deliver industry-leading performance, reliability, and security. Whether you're a professional tackling complex tasks or a gamer seeking immersive experiences, BrainChips processors provide the power and efficiency you need. Trust BrainChips to deliver the performance you demand and the reliability you can count on. Join the millions who rely on BrainChips technology and unlock new possibilities for productivity, creativity, and entertainment.\",\n",
    "# ]\n",
    "\n",
    "\n",
    "\n",
    "# # bids = np.array([3, 3, 2, 2,]) # Scenario 0\n",
    "# bids = np.array([2, 1, 3, 3,]) # Scenario 1\n",
    "# bids = np.array([1, 4, 1, 1, 2, 2, 2,]) # Scenario 2\n",
    "# bids = np.array([1, 1, 1, 1, 1, 1, 1, 1, 1, 1, 1]) # Scenario 3\n",
    "\n",
    "prompt_for_adv = 'Give me a paragraph about {} so that I can use it to advertise this brand.'"
   ]
  },
  {
   "cell_type": "code",
   "execution_count": 27,
   "metadata": {},
   "outputs": [],
   "source": [
    "methods = [\n",
    "    'single_alloc_with_replacement',\n",
    "    'single_alloc_without_replacement',\n",
    "    'single_alloc_naive_i',\n",
    "    'single_alloc_naive_ii',\n",
    "    'multi_alloc_vcg',\n",
    "]"
   ]
  },
  {
   "cell_type": "code",
   "execution_count": 28,
   "metadata": {},
   "outputs": [],
   "source": [
    "SOCIAL_WELFARE = 'social_welfare'\n",
    "REVENUE = 'revenue'\n",
    "INDIVIDUAL_WELFARE = 'individual_welfare'\n",
    "RELEVANCE = 'relevance'\n",
    "OUTPUT = 'output'\n",
    "WINNER = 'winner'\n",
    "AUCTION_SCORES = 'auction_scores'\n",
    "RELEVANCE_TO_ORIGINAL = 'relevance_to_original'\n",
    "SEGMENT_RELEVANCE_TO_ORIGINAL = \"segment_relevence_to_original\"\n",
    "OUTPUT_MODIFIED = 'output_modified'"
   ]
  },
  {
   "cell_type": "markdown",
   "metadata": {},
   "source": [
    "### Generate Original Answers for Scenario 0"
   ]
  },
  {
   "cell_type": "code",
   "execution_count": 10,
   "metadata": {},
   "outputs": [],
   "source": [
    "def query_to_chatgpt(prompt):\n",
    "    chat_completion_det = client.chat.completions.create(\n",
    "        messages = [\n",
    "            {\n",
    "                \"role\": \"user\",\n",
    "                \"content\": prompt\n",
    "            },\n",
    "            {\n",
    "                \"role\": \"assistant\",\n",
    "                \"content\": \"\"\n",
    "            }\n",
    "        ],\n",
    "        model = \"gpt-4-turbo\",\n",
    "        logprobs = False,\n",
    "        temperature = 1,\n",
    "        max_tokens = 300\n",
    "    )\n",
    "    return chat_completion_det.choices[0].message.content"
   ]
  },
  {
   "cell_type": "code",
   "execution_count": 11,
   "metadata": {},
   "outputs": [],
   "source": [
    "query = f'''\n",
    "{prompt}\n",
    "Answer this question for only 1 sentence.\n",
    "'''"
   ]
  },
  {
   "cell_type": "code",
   "execution_count": 12,
   "metadata": {},
   "outputs": [
    {
     "data": {
      "text/plain": [
       "'Sure! You might enjoy \"The Help\" by Kathryn Stockett, which explores themes of race and social justice in the South, much like \"To Kill a Mockingbird.\" Another recommendation is \"A Time to Kill\" by John Grisham, which also tackles issues of racism and legal ethics in the Southern United States.'"
      ]
     },
     "execution_count": 12,
     "metadata": {},
     "output_type": "execute_result"
    }
   ],
   "source": [
    "query_to_chatgpt(query)"
   ]
  },
  {
   "cell_type": "code",
   "execution_count": 12,
   "metadata": {},
   "outputs": [],
   "source": [
    "orig_y = []\n",
    "for i in range(10):\n",
    "    orig_y.append(query_to_chatgpt(query))\n",
    "    time.sleep(0.5)"
   ]
  },
  {
   "cell_type": "code",
   "execution_count": 13,
   "metadata": {},
   "outputs": [],
   "source": [
    "with open('scenario0_output_1/orig_y.json', 'w') as f:\n",
    "    f.write(json.dumps(orig_y, indent=4))"
   ]
  },
  {
   "cell_type": "code",
   "execution_count": 29,
   "metadata": {},
   "outputs": [],
   "source": [
    "with open('scenario0_output_1/orig_y.json', 'r') as f:\n",
    "    orig_y = json.loads(f.read())"
   ]
  },
  {
   "cell_type": "code",
   "execution_count": 30,
   "metadata": {},
   "outputs": [],
   "source": [
    "def relevance_to_original_output(original_output: list, outputs_with_ad: list):\n",
    "    orig_embedding = model.encode(original_output)\n",
    "    ads_embedding = model.encode(outputs_with_ad)\n",
    "    return (1 + util.dot_score(ads_embedding, orig_embedding, ).numpy()) / 2"
   ]
  },
  {
   "cell_type": "code",
   "execution_count": 31,
   "metadata": {},
   "outputs": [],
   "source": [
    "def add_relevance_to_output_to_metrics(path_file: str, use_output_modified: bool=False):\n",
    "    try:\n",
    "        with open(path_file, 'r') as f:\n",
    "            all_metrics = json.loads(f.read())\n",
    "    except:\n",
    "        all_metrics = []\n",
    "        \n",
    "    print(f'number of runs: {len(all_metrics)}')\n",
    "\n",
    "    for metric in tqdm(all_metrics):\n",
    "        if use_output_modified:\n",
    "            outputs = metric[OUTPUT_MODIFIED]\n",
    "        else:\n",
    "            outputs = metric[OUTPUT]\n",
    "        \n",
    "        rels = relevance_to_original_output(original_output=orig_y, outputs_with_ad=outputs)\n",
    "        rels = np.mean(rels, axis=1)\n",
    "        rels = [float(x) for x in rels]\n",
    "        \n",
    "        metric[RELEVANCE_TO_ORIGINAL] = rels\n",
    "    \n",
    "    \n",
    "    st = []\n",
    "    for metric in all_metrics:\n",
    "        st.append(metric[RELEVANCE_TO_ORIGINAL])\n",
    "\n",
    "    st = np.array(st)\n",
    "    result = np.mean(st, axis=0)\n",
    "    \n",
    "    with open(path_file, 'w') as f:\n",
    "        f.write(json.dumps(all_metrics, indent=4))\n",
    "    \n",
    "    return [f'k={i} {result[i]:.3f}' for i in range(result.shape[0])], result, st\n",
    "    # return f'k=1: {result[0]:.3f}\\nk=2: {result[1]:.3f}\\nk=3: {result[2]:.3f}', result\n"
   ]
  },
  {
   "cell_type": "code",
   "execution_count": 16,
   "metadata": {},
   "outputs": [],
   "source": [
    "def fix_outputs_naive_i(path_file: str):\n",
    "    try:\n",
    "        with open(path_file, 'r') as f:\n",
    "            all_metrics = json.loads(f.read())\n",
    "    except:\n",
    "        all_metrics = []\n",
    "    \n",
    "    print(f'number of runs: {len(all_metrics)}')\n",
    "    \n",
    "    sample_starts = []\n",
    "    for i in range(10):\n",
    "        sample_starts.append(query_to_chatgpt(query))\n",
    "    \n",
    "    for metric in tqdm(all_metrics):\n",
    "        sample_id = np.random.randint(0, 10)\n",
    "        sample_start = sample_starts[sample_id]\n",
    "        metric[OUTPUT_MODIFIED] = [sample_start + metric[OUTPUT][i] for i in range(len(metric[OUTPUT]))]\n",
    "    \n",
    "    with open(path_file, 'w') as f:\n",
    "        f.write(json.dumps(all_metrics, indent=4))\n",
    "        "
   ]
  },
  {
   "cell_type": "code",
   "execution_count": 17,
   "metadata": {},
   "outputs": [
    {
     "name": "stdout",
     "output_type": "stream",
     "text": [
      "number of runs: 100\n"
     ]
    },
    {
     "name": "stderr",
     "output_type": "stream",
     "text": [
      "100%|██████████| 100/100 [00:00<00:00, 111343.35it/s]\n"
     ]
    }
   ],
   "source": [
    "method_id = 2\n",
    "fix_outputs_naive_i(f'scenario0_output_1/{methods[method_id]}_dep{0}.json')"
   ]
  },
  {
   "cell_type": "code",
   "execution_count": 38,
   "metadata": {},
   "outputs": [],
   "source": [
    "all_res = []"
   ]
  },
  {
   "cell_type": "code",
   "execution_count": 39,
   "metadata": {},
   "outputs": [],
   "source": [
    "scenario = 0"
   ]
  },
  {
   "cell_type": "markdown",
   "metadata": {},
   "source": [
    "### Average of Relevance to Original Output\n",
    "\n",
    "When having $k=1$, $k=2$, and $k=3$ advertisement segments."
   ]
  },
  {
   "cell_type": "markdown",
   "metadata": {},
   "source": [
    "#### Single Allocation with Replcement"
   ]
  },
  {
   "cell_type": "code",
   "execution_count": 40,
   "metadata": {},
   "outputs": [
    {
     "name": "stdout",
     "output_type": "stream",
     "text": [
      "number of runs: 100\n"
     ]
    },
    {
     "name": "stderr",
     "output_type": "stream",
     "text": [
      "100%|██████████| 100/100 [00:02<00:00, 47.98it/s]"
     ]
    },
    {
     "name": "stdout",
     "output_type": "stream",
     "text": [
      "['k=0 0.746', 'k=1 0.715', 'k=2 0.700']\n"
     ]
    },
    {
     "name": "stderr",
     "output_type": "stream",
     "text": [
      "\n"
     ]
    }
   ],
   "source": [
    "method_id = 0\n",
    "out, t, s = add_relevance_to_output_to_metrics(f'scenario{scenario}_output_1/{methods[method_id]}_dep{0}.json')\n",
    "print(out)\n",
    "all_res.append(s)"
   ]
  },
  {
   "cell_type": "markdown",
   "metadata": {},
   "source": [
    "#### Single Allocation without Replcement"
   ]
  },
  {
   "cell_type": "code",
   "execution_count": 41,
   "metadata": {},
   "outputs": [
    {
     "name": "stdout",
     "output_type": "stream",
     "text": [
      "number of runs: 100\n"
     ]
    },
    {
     "name": "stderr",
     "output_type": "stream",
     "text": [
      "100%|██████████| 100/100 [00:02<00:00, 44.73it/s]"
     ]
    },
    {
     "name": "stdout",
     "output_type": "stream",
     "text": [
      "['k=0 0.752', 'k=1 0.716', 'k=2 0.702']\n"
     ]
    },
    {
     "name": "stderr",
     "output_type": "stream",
     "text": [
      "\n"
     ]
    }
   ],
   "source": [
    "method_id = 1\n",
    "out, t, s = add_relevance_to_output_to_metrics(f'scenario{scenario}_output_1/{methods[method_id]}_dep{0}.json')\n",
    "print(out)\n",
    "all_res.append(s)"
   ]
  },
  {
   "cell_type": "code",
   "execution_count": 15,
   "metadata": {},
   "outputs": [
    {
     "name": "stdout",
     "output_type": "stream",
     "text": [
      "(q_i, b_i, adv_i)\n",
      "(0.36, 1.00, Velora)\n",
      "(0.87, 1.00, BookHaven)\n",
      "(0.31, 1.00, MassMart)\n",
      "(0.26, 1.00, EspressoEdge)\n",
      "(0.21, 1.00, SocialHub)\n",
      "(0.36, 1.00, ColaBubbles)\n",
      "(0.38, 1.00, FizzyPop)\n",
      "(0.28, 1.00, SkyTech)\n",
      "(0.33, 1.00, AeroDynamics)\n",
      "(0.34, 1.00, MusicStream)\n",
      "(0.33, 1.00, BrainChips)\n",
      "allocation vector:\n",
      "[0.08853651 0.21578052 0.07629691 0.06459284 0.05317406 0.0880366\n",
      " 0.09470903 0.07033001 0.08184636 0.08430283 0.08239433]\n",
      "x_max / x_min: 4.058003763758804\n"
     ]
    }
   ],
   "source": [
    "def rag_based_relevance(x: str, ads: list): \n",
    "    x_embedding = model.encode(x)\n",
    "    ads_embedding = model.encode(ads)\n",
    "    bf = (1 + util.dot_score(x_embedding, ads_embedding)[0].numpy()) / 2\n",
    "    return (bf - 0.4) /0.35\n",
    "\n",
    "def get_allocation_vector(prompt: str, bids: np.ndarray, ads: list, advertisers: list):\n",
    "    q = rag_based_relevance(prompt, ads, )\n",
    "    x = q * bids / np.sum(q * bids)\n",
    "    \n",
    "    output = { i: { 'q': float(q[i]), 'bid': float(bids[i]), 'adv': advertisers[i], 'x': float(x[i])} for i in range(len(advertisers))}\n",
    "    \n",
    "    print(f'(q_i, b_i, adv_i)')\n",
    "    for y in list(zip(q, bids, advertisers)):\n",
    "        print(f'({y[0]:.2f}, {y[1]:.2f}, {y[2]})')\n",
    "        \n",
    "    print(f'allocation vector:\\n{x}')\n",
    "    print(f'x_max / x_min: {np.max(x) / np.min(x)}')\n",
    "\n",
    "    return output\n",
    "\n",
    "alloc_output = get_allocation_vector(prompt, bids, ads, advertisers)"
   ]
  },
  {
   "cell_type": "markdown",
   "metadata": {},
   "source": [
    "#### Single Allocation Naive (i)\n",
    "\n",
    "without adding original answer to the beginning."
   ]
  },
  {
   "cell_type": "code",
   "execution_count": 43,
   "metadata": {},
   "outputs": [
    {
     "name": "stdout",
     "output_type": "stream",
     "text": [
      "number of runs: 100\n"
     ]
    },
    {
     "name": "stderr",
     "output_type": "stream",
     "text": [
      "100%|██████████| 100/100 [00:02<00:00, 38.42it/s]\n"
     ]
    },
    {
     "name": "stdout",
     "output_type": "stream",
     "text": [
      "['k=0 0.559', 'k=1 0.570', 'k=2 0.567']\n"
     ]
    }
   ],
   "source": [
    "method_id = 2\n",
    "out, t, s = add_relevance_to_output_to_metrics(f'scenario{scenario}_output_1/{methods[method_id]}_dep{0}.json')\n",
    "print(out)\n",
    "all_res.append(s)"
   ]
  },
  {
   "cell_type": "markdown",
   "metadata": {},
   "source": [
    "when adding original answer to the beginning."
   ]
  },
  {
   "cell_type": "code",
   "execution_count": 44,
   "metadata": {},
   "outputs": [
    {
     "name": "stdout",
     "output_type": "stream",
     "text": [
      "number of runs: 100\n"
     ]
    },
    {
     "name": "stderr",
     "output_type": "stream",
     "text": [
      "100%|██████████| 100/100 [00:02<00:00, 39.95it/s]"
     ]
    },
    {
     "name": "stdout",
     "output_type": "stream",
     "text": [
      "['k=0 0.743', 'k=1 0.740', 'k=2 0.671']\n"
     ]
    },
    {
     "name": "stderr",
     "output_type": "stream",
     "text": [
      "\n"
     ]
    }
   ],
   "source": [
    "method_id = 2\n",
    "out, t, s = add_relevance_to_output_to_metrics(f'scenario{scenario}_output_1/{methods[method_id]}_dep{0}.json', use_output_modified=True)\n",
    "print(out)\n",
    "all_res.append(s)"
   ]
  },
  {
   "cell_type": "markdown",
   "metadata": {},
   "source": [
    "#### Single Allocation Naive (ii)"
   ]
  },
  {
   "cell_type": "code",
   "execution_count": 45,
   "metadata": {},
   "outputs": [
    {
     "name": "stdout",
     "output_type": "stream",
     "text": [
      "number of runs: 100\n"
     ]
    },
    {
     "name": "stderr",
     "output_type": "stream",
     "text": [
      "100%|██████████| 100/100 [00:02<00:00, 48.40it/s]\n"
     ]
    },
    {
     "name": "stdout",
     "output_type": "stream",
     "text": [
      "['k=0 0.745', 'k=1 0.712', 'k=2 0.698']\n"
     ]
    }
   ],
   "source": [
    "method_id = 3\n",
    "out, t, s = add_relevance_to_output_to_metrics(f'scenario{scenario}_output_1/{methods[method_id]}_dep{0}.json')\n",
    "print(out)\n",
    "all_res.append(s)"
   ]
  },
  {
   "cell_type": "code",
   "execution_count": 46,
   "metadata": {},
   "outputs": [],
   "source": [
    "all_res = np.stack(all_res)"
   ]
  },
  {
   "cell_type": "code",
   "execution_count": 47,
   "metadata": {},
   "outputs": [
    {
     "data": {
      "text/plain": [
       "(5, 100, 3)"
      ]
     },
     "execution_count": 47,
     "metadata": {},
     "output_type": "execute_result"
    }
   ],
   "source": [
    "all_res.shape"
   ]
  },
  {
   "cell_type": "code",
   "execution_count": 25,
   "metadata": {},
   "outputs": [
    {
     "data": {
      "text/html": [
       "<div>\n",
       "<style scoped>\n",
       "    .dataframe tbody tr th:only-of-type {\n",
       "        vertical-align: middle;\n",
       "    }\n",
       "\n",
       "    .dataframe tbody tr th {\n",
       "        vertical-align: top;\n",
       "    }\n",
       "\n",
       "    .dataframe thead th {\n",
       "        text-align: right;\n",
       "    }\n",
       "</style>\n",
       "<table border=\"1\" class=\"dataframe\">\n",
       "  <thead>\n",
       "    <tr style=\"text-align: right;\">\n",
       "      <th></th>\n",
       "      <th>Mechanism</th>\n",
       "      <th>k=1</th>\n",
       "      <th>k=2</th>\n",
       "      <th>k=3</th>\n",
       "    </tr>\n",
       "  </thead>\n",
       "  <tbody>\n",
       "    <tr>\n",
       "      <th>0</th>\n",
       "      <td>with Replacement</td>\n",
       "      <td>0.746</td>\n",
       "      <td>0.715</td>\n",
       "      <td>0.700</td>\n",
       "    </tr>\n",
       "    <tr>\n",
       "      <th>1</th>\n",
       "      <td>without Replacement</td>\n",
       "      <td>0.752</td>\n",
       "      <td>0.716</td>\n",
       "      <td>0.702</td>\n",
       "    </tr>\n",
       "    <tr>\n",
       "      <th>2</th>\n",
       "      <td>Naive (i) (wo output)</td>\n",
       "      <td>0.559</td>\n",
       "      <td>0.570</td>\n",
       "      <td>0.567</td>\n",
       "    </tr>\n",
       "    <tr>\n",
       "      <th>3</th>\n",
       "      <td>Naive (i) (w output)</td>\n",
       "      <td>0.743</td>\n",
       "      <td>0.740</td>\n",
       "      <td>0.671</td>\n",
       "    </tr>\n",
       "    <tr>\n",
       "      <th>4</th>\n",
       "      <td>Naive (ii)</td>\n",
       "      <td>0.745</td>\n",
       "      <td>0.712</td>\n",
       "      <td>0.698</td>\n",
       "    </tr>\n",
       "  </tbody>\n",
       "</table>\n",
       "</div>"
      ],
      "text/plain": [
       "               Mechanism    k=1    k=2    k=3\n",
       "0       with Replacement  0.746  0.715  0.700\n",
       "1    without Replacement  0.752  0.716  0.702\n",
       "2  Naive (i) (wo output)  0.559  0.570  0.567\n",
       "3   Naive (i) (w output)  0.743  0.740  0.671\n",
       "4             Naive (ii)  0.745  0.712  0.698"
      ]
     },
     "execution_count": 25,
     "metadata": {},
     "output_type": "execute_result"
    }
   ],
   "source": [
    "import pandas as pd\n",
    "df = pd.DataFrame({\n",
    "    'Mechanism': ['with Replacement', 'without Replacement', 'Naive (i) (wo output)', 'Naive (i) (w output)', 'Naive (ii)'],\n",
    "    'k=1': [f'{x:.3f}' for x in all_res[:, 0]],\n",
    "    'k=2': [f'{x:.3f}' for x in all_res[:, 1]],\n",
    "    'k=3': [f'{x:.3f}' for x in all_res[:, 2]]\n",
    "})\n",
    "df"
   ]
  },
  {
   "cell_type": "code",
   "execution_count": 50,
   "metadata": {},
   "outputs": [
    {
     "data": {
      "text/html": [
       "<div>\n",
       "<style scoped>\n",
       "    .dataframe tbody tr th:only-of-type {\n",
       "        vertical-align: middle;\n",
       "    }\n",
       "\n",
       "    .dataframe tbody tr th {\n",
       "        vertical-align: top;\n",
       "    }\n",
       "\n",
       "    .dataframe thead th {\n",
       "        text-align: right;\n",
       "    }\n",
       "</style>\n",
       "<table border=\"1\" class=\"dataframe\">\n",
       "  <thead>\n",
       "    <tr style=\"text-align: right;\">\n",
       "      <th></th>\n",
       "      <th>Mechanism</th>\n",
       "      <th>k=1</th>\n",
       "      <th>k=2</th>\n",
       "      <th>k=3</th>\n",
       "    </tr>\n",
       "  </thead>\n",
       "  <tbody>\n",
       "    <tr>\n",
       "      <th>0</th>\n",
       "      <td>with Replacement</td>\n",
       "      <td>0.746 ($\\pm$ 0.0040)</td>\n",
       "      <td>0.715 ($\\pm$ 0.0039)</td>\n",
       "      <td>0.700 ($\\pm$ 0.0036)</td>\n",
       "    </tr>\n",
       "    <tr>\n",
       "      <th>1</th>\n",
       "      <td>without Replacement</td>\n",
       "      <td>0.752 ($\\pm$ 0.0040)</td>\n",
       "      <td>0.716 ($\\pm$ 0.0035)</td>\n",
       "      <td>0.702 ($\\pm$ 0.0034)</td>\n",
       "    </tr>\n",
       "    <tr>\n",
       "      <th>2</th>\n",
       "      <td>Naive (i) (wo output)</td>\n",
       "      <td>0.559 ($\\pm$ 0.0032)</td>\n",
       "      <td>0.570 ($\\pm$ 0.0029)</td>\n",
       "      <td>0.567 ($\\pm$ 0.0025)</td>\n",
       "    </tr>\n",
       "    <tr>\n",
       "      <th>3</th>\n",
       "      <td>Naive (i) (w output)</td>\n",
       "      <td>0.743 ($\\pm$ 0.0043)</td>\n",
       "      <td>0.740 ($\\pm$ 0.0044)</td>\n",
       "      <td>0.671 ($\\pm$ 0.0032)</td>\n",
       "    </tr>\n",
       "    <tr>\n",
       "      <th>4</th>\n",
       "      <td>Naive (ii)</td>\n",
       "      <td>0.745 ($\\pm$ 0.0048)</td>\n",
       "      <td>0.712 ($\\pm$ 0.0045)</td>\n",
       "      <td>0.698 ($\\pm$ 0.0040)</td>\n",
       "    </tr>\n",
       "  </tbody>\n",
       "</table>\n",
       "</div>"
      ],
      "text/plain": [
       "               Mechanism                   k=1                   k=2  \\\n",
       "0       with Replacement  0.746 ($\\pm$ 0.0040)  0.715 ($\\pm$ 0.0039)   \n",
       "1    without Replacement  0.752 ($\\pm$ 0.0040)  0.716 ($\\pm$ 0.0035)   \n",
       "2  Naive (i) (wo output)  0.559 ($\\pm$ 0.0032)  0.570 ($\\pm$ 0.0029)   \n",
       "3   Naive (i) (w output)  0.743 ($\\pm$ 0.0043)  0.740 ($\\pm$ 0.0044)   \n",
       "4             Naive (ii)  0.745 ($\\pm$ 0.0048)  0.712 ($\\pm$ 0.0045)   \n",
       "\n",
       "                    k=3  \n",
       "0  0.700 ($\\pm$ 0.0036)  \n",
       "1  0.702 ($\\pm$ 0.0034)  \n",
       "2  0.567 ($\\pm$ 0.0025)  \n",
       "3  0.671 ($\\pm$ 0.0032)  \n",
       "4  0.698 ($\\pm$ 0.0040)  "
      ]
     },
     "execution_count": 50,
     "metadata": {},
     "output_type": "execute_result"
    }
   ],
   "source": [
    "import pandas as pd\n",
    "df = pd.DataFrame({\n",
    "    'Mechanism': ['with Replacement', 'without Replacement', 'Naive (i) (wo output)', 'Naive (i) (w output)', 'Naive (ii)'],\n",
    "    'k=1': [f'{np.mean(x):.3f} ($\\pm$ {(np.std(x)/x.shape[0]**0.5):.4f})' for x in all_res[:, :, 0]],\n",
    "    'k=2': [f'{np.mean(x):.3f} ($\\pm$ {(np.std(x)/x.shape[0]**0.5):.4f})' for x in all_res[:, :, 1]],\n",
    "    'k=3': [f'{np.mean(x):.3f} ($\\pm$ {(np.std(x)/x.shape[0]**0.5):.4f})' for x in all_res[:, :, 2]],\n",
    "})\n",
    "df"
   ]
  },
  {
   "cell_type": "markdown",
   "metadata": {},
   "source": [
    "### Segment-wise Relevency\n",
    "\n",
    "In this part, in order to get the similarity of the whole output to the original outputs, we measure the relevancy of each individual segment to those and take the average."
   ]
  },
  {
   "cell_type": "code",
   "execution_count": 51,
   "metadata": {},
   "outputs": [],
   "source": [
    "def segment_wise_relevancy(path_file: str, use_output_modified: bool=False):\n",
    "    try:\n",
    "        with open(path_file, 'r') as f:\n",
    "            all_metrics = json.loads(f.read())\n",
    "    except:\n",
    "        all_metrics = []\n",
    "        \n",
    "    print(f'number of runs: {len(all_metrics)}')\n",
    "\n",
    "    for metric in tqdm(all_metrics):\n",
    "        if use_output_modified:\n",
    "            outputs = metric[OUTPUT_MODIFIED]\n",
    "        else:\n",
    "            outputs = metric[OUTPUT]\n",
    "        \n",
    "        segments = []\n",
    "        for k in range(3):\n",
    "            if k == 0:\n",
    "                segments.append(outputs[0])\n",
    "            else:\n",
    "                prv_len = len(outputs[k - 1])\n",
    "                segments.append(outputs[k][prv_len:])\n",
    "        \n",
    "        \n",
    "        rels = relevance_to_original_output(original_output=orig_y, outputs_with_ad=segments)\n",
    "        rels = np.mean(rels, axis=1)\n",
    "        rels = [float(x) for x in rels]\n",
    "        \n",
    "        metric[SEGMENT_RELEVANCE_TO_ORIGINAL] = rels\n",
    "    \n",
    "    \n",
    "    st = []\n",
    "    for metric in all_metrics:\n",
    "        st.append(metric[SEGMENT_RELEVANCE_TO_ORIGINAL])\n",
    "\n",
    "    st = np.array(st)\n",
    "    result = np.mean(st, axis=0)\n",
    "    \n",
    "    with open(path_file, 'w') as f:\n",
    "        f.write(json.dumps(all_metrics, indent=4))\n",
    "        \n",
    "    return f'k=1: {result[0]:.3f}\\nk=2: {result[1]:.3f}\\nk=3: {result[2]:.3f}', result, st\n"
   ]
  },
  {
   "cell_type": "code",
   "execution_count": 65,
   "metadata": {},
   "outputs": [],
   "source": [
    "segments_res = []"
   ]
  },
  {
   "cell_type": "code",
   "execution_count": 66,
   "metadata": {},
   "outputs": [
    {
     "name": "stdout",
     "output_type": "stream",
     "text": [
      "number of runs: 100\n"
     ]
    },
    {
     "name": "stderr",
     "output_type": "stream",
     "text": [
      "100%|██████████| 100/100 [00:01<00:00, 51.83it/s]"
     ]
    },
    {
     "name": "stdout",
     "output_type": "stream",
     "text": [
      "k=1: 0.746\n",
      "k=2: 0.596\n",
      "k=3: 0.588\n"
     ]
    },
    {
     "name": "stderr",
     "output_type": "stream",
     "text": [
      "\n"
     ]
    }
   ],
   "source": [
    "method_id = 0\n",
    "out, t, s = segment_wise_relevancy(f'scenario{scenario}_output_1/{methods[method_id]}_dep{0}.json')\n",
    "print(out)\n",
    "segments_res.append(s)"
   ]
  },
  {
   "cell_type": "code",
   "execution_count": 67,
   "metadata": {},
   "outputs": [
    {
     "name": "stdout",
     "output_type": "stream",
     "text": [
      "number of runs: 100\n"
     ]
    },
    {
     "name": "stderr",
     "output_type": "stream",
     "text": [
      "100%|██████████| 100/100 [00:01<00:00, 53.48it/s]\n"
     ]
    },
    {
     "name": "stdout",
     "output_type": "stream",
     "text": [
      "k=1: 0.752\n",
      "k=2: 0.602\n",
      "k=3: 0.576\n"
     ]
    }
   ],
   "source": [
    "method_id = 1\n",
    "out, t, s = segment_wise_relevancy(f'scenario{scenario}_output_1/{methods[method_id]}_dep{0}.json')\n",
    "print(out)\n",
    "segments_res.append(s)"
   ]
  },
  {
   "cell_type": "code",
   "execution_count": 68,
   "metadata": {},
   "outputs": [
    {
     "name": "stdout",
     "output_type": "stream",
     "text": [
      "number of runs: 100\n"
     ]
    },
    {
     "name": "stderr",
     "output_type": "stream",
     "text": [
      "100%|██████████| 100/100 [00:01<00:00, 50.87it/s]"
     ]
    },
    {
     "name": "stdout",
     "output_type": "stream",
     "text": [
      "k=1: 0.559\n",
      "k=2: 0.555\n",
      "k=3: 0.551\n"
     ]
    },
    {
     "name": "stderr",
     "output_type": "stream",
     "text": [
      "\n"
     ]
    }
   ],
   "source": [
    "method_id = 2\n",
    "out, t, s = segment_wise_relevancy(f'scenario{scenario}_output_1/{methods[method_id]}_dep{0}.json')\n",
    "print(out)\n",
    "segments_res.append(s)"
   ]
  },
  {
   "cell_type": "code",
   "execution_count": 69,
   "metadata": {},
   "outputs": [
    {
     "name": "stdout",
     "output_type": "stream",
     "text": [
      "number of runs: 100\n"
     ]
    },
    {
     "name": "stderr",
     "output_type": "stream",
     "text": [
      "100%|██████████| 100/100 [00:01<00:00, 51.07it/s]\n"
     ]
    },
    {
     "name": "stdout",
     "output_type": "stream",
     "text": [
      "k=1: 0.743\n",
      "k=2: 0.555\n",
      "k=3: 0.551\n"
     ]
    }
   ],
   "source": [
    "method_id = 2\n",
    "out, t, s = segment_wise_relevancy(f'scenario{scenario}_output_1/{methods[method_id]}_dep{0}.json', use_output_modified=True)\n",
    "print(out)\n",
    "segments_res.append(s)"
   ]
  },
  {
   "cell_type": "code",
   "execution_count": 70,
   "metadata": {},
   "outputs": [
    {
     "name": "stdout",
     "output_type": "stream",
     "text": [
      "number of runs: 100\n"
     ]
    },
    {
     "name": "stderr",
     "output_type": "stream",
     "text": [
      "100%|██████████| 100/100 [00:01<00:00, 53.08it/s]\n"
     ]
    },
    {
     "name": "stdout",
     "output_type": "stream",
     "text": [
      "k=1: 0.745\n",
      "k=2: 0.600\n",
      "k=3: 0.584\n"
     ]
    }
   ],
   "source": [
    "method_id = 3\n",
    "out, t, s = segment_wise_relevancy(f'scenario{scenario}_output_1/{methods[method_id]}_dep{0}.json')\n",
    "print(out)\n",
    "segments_res.append(s)"
   ]
  },
  {
   "cell_type": "code",
   "execution_count": 71,
   "metadata": {},
   "outputs": [],
   "source": [
    "np_segments_res = np.stack(segments_res)"
   ]
  },
  {
   "cell_type": "code",
   "execution_count": 72,
   "metadata": {},
   "outputs": [
    {
     "data": {
      "text/plain": [
       "(5, 100, 3)"
      ]
     },
     "execution_count": 72,
     "metadata": {},
     "output_type": "execute_result"
    }
   ],
   "source": [
    "np_segments_res.shape"
   ]
  },
  {
   "cell_type": "code",
   "execution_count": 34,
   "metadata": {},
   "outputs": [
    {
     "data": {
      "text/html": [
       "<div>\n",
       "<style scoped>\n",
       "    .dataframe tbody tr th:only-of-type {\n",
       "        vertical-align: middle;\n",
       "    }\n",
       "\n",
       "    .dataframe tbody tr th {\n",
       "        vertical-align: top;\n",
       "    }\n",
       "\n",
       "    .dataframe thead th {\n",
       "        text-align: right;\n",
       "    }\n",
       "</style>\n",
       "<table border=\"1\" class=\"dataframe\">\n",
       "  <thead>\n",
       "    <tr style=\"text-align: right;\">\n",
       "      <th></th>\n",
       "      <th>Mechanism</th>\n",
       "      <th>k=1</th>\n",
       "      <th>k=2</th>\n",
       "      <th>k=3</th>\n",
       "    </tr>\n",
       "  </thead>\n",
       "  <tbody>\n",
       "    <tr>\n",
       "      <th>0</th>\n",
       "      <td>with Replacement</td>\n",
       "      <td>0.746</td>\n",
       "      <td>0.596</td>\n",
       "      <td>0.588</td>\n",
       "    </tr>\n",
       "    <tr>\n",
       "      <th>1</th>\n",
       "      <td>without Replacement</td>\n",
       "      <td>0.752</td>\n",
       "      <td>0.602</td>\n",
       "      <td>0.576</td>\n",
       "    </tr>\n",
       "    <tr>\n",
       "      <th>2</th>\n",
       "      <td>Naive (i) (wo output)</td>\n",
       "      <td>0.559</td>\n",
       "      <td>0.555</td>\n",
       "      <td>0.551</td>\n",
       "    </tr>\n",
       "    <tr>\n",
       "      <th>3</th>\n",
       "      <td>Naive (i) (w output)</td>\n",
       "      <td>0.743</td>\n",
       "      <td>0.555</td>\n",
       "      <td>0.551</td>\n",
       "    </tr>\n",
       "    <tr>\n",
       "      <th>4</th>\n",
       "      <td>Naive (ii)</td>\n",
       "      <td>0.745</td>\n",
       "      <td>0.600</td>\n",
       "      <td>0.584</td>\n",
       "    </tr>\n",
       "  </tbody>\n",
       "</table>\n",
       "</div>"
      ],
      "text/plain": [
       "               Mechanism    k=1    k=2    k=3\n",
       "0       with Replacement  0.746  0.596  0.588\n",
       "1    without Replacement  0.752  0.602  0.576\n",
       "2  Naive (i) (wo output)  0.559  0.555  0.551\n",
       "3   Naive (i) (w output)  0.743  0.555  0.551\n",
       "4             Naive (ii)  0.745  0.600  0.584"
      ]
     },
     "execution_count": 34,
     "metadata": {},
     "output_type": "execute_result"
    }
   ],
   "source": [
    "import pandas as pd\n",
    "df = pd.DataFrame({\n",
    "    'Mechanism': ['with Replacement', 'without Replacement', 'Naive (i) (wo output)', 'Naive (i) (w output)', 'Naive (ii)'],\n",
    "    'k=1': [f'{x:.3f}' for x in np_segments_res[:, 0]],\n",
    "    'k=2': [f'{x:.3f}' for x in np_segments_res[:, 1]],\n",
    "    'k=3': [f'{x:.3f}' for x in np_segments_res[:, 2]]\n",
    "})\n",
    "df"
   ]
  },
  {
   "cell_type": "code",
   "execution_count": 73,
   "metadata": {},
   "outputs": [
    {
     "data": {
      "text/html": [
       "<div>\n",
       "<style scoped>\n",
       "    .dataframe tbody tr th:only-of-type {\n",
       "        vertical-align: middle;\n",
       "    }\n",
       "\n",
       "    .dataframe tbody tr th {\n",
       "        vertical-align: top;\n",
       "    }\n",
       "\n",
       "    .dataframe thead th {\n",
       "        text-align: right;\n",
       "    }\n",
       "</style>\n",
       "<table border=\"1\" class=\"dataframe\">\n",
       "  <thead>\n",
       "    <tr style=\"text-align: right;\">\n",
       "      <th></th>\n",
       "      <th>Mechanism</th>\n",
       "      <th>k=1</th>\n",
       "      <th>k=2</th>\n",
       "      <th>k=3</th>\n",
       "    </tr>\n",
       "  </thead>\n",
       "  <tbody>\n",
       "    <tr>\n",
       "      <th>0</th>\n",
       "      <td>with Replacement</td>\n",
       "      <td>0.746 ($\\pm$ 0.0040)</td>\n",
       "      <td>0.596 ($\\pm$ 0.0040)</td>\n",
       "      <td>0.588 ($\\pm$ 0.0039)</td>\n",
       "    </tr>\n",
       "    <tr>\n",
       "      <th>1</th>\n",
       "      <td>without Replacement</td>\n",
       "      <td>0.752 ($\\pm$ 0.0040)</td>\n",
       "      <td>0.602 ($\\pm$ 0.0045)</td>\n",
       "      <td>0.576 ($\\pm$ 0.0043)</td>\n",
       "    </tr>\n",
       "    <tr>\n",
       "      <th>2</th>\n",
       "      <td>Naive (i) (wo output)</td>\n",
       "      <td>0.559 ($\\pm$ 0.0032)</td>\n",
       "      <td>0.555 ($\\pm$ 0.0033)</td>\n",
       "      <td>0.551 ($\\pm$ 0.0035)</td>\n",
       "    </tr>\n",
       "    <tr>\n",
       "      <th>3</th>\n",
       "      <td>Naive (i) (w output)</td>\n",
       "      <td>0.743 ($\\pm$ 0.0043)</td>\n",
       "      <td>0.555 ($\\pm$ 0.0033)</td>\n",
       "      <td>0.551 ($\\pm$ 0.0035)</td>\n",
       "    </tr>\n",
       "    <tr>\n",
       "      <th>4</th>\n",
       "      <td>Naive (ii)</td>\n",
       "      <td>0.745 ($\\pm$ 0.0048)</td>\n",
       "      <td>0.600 ($\\pm$ 0.0040)</td>\n",
       "      <td>0.584 ($\\pm$ 0.0047)</td>\n",
       "    </tr>\n",
       "  </tbody>\n",
       "</table>\n",
       "</div>"
      ],
      "text/plain": [
       "               Mechanism                   k=1                   k=2  \\\n",
       "0       with Replacement  0.746 ($\\pm$ 0.0040)  0.596 ($\\pm$ 0.0040)   \n",
       "1    without Replacement  0.752 ($\\pm$ 0.0040)  0.602 ($\\pm$ 0.0045)   \n",
       "2  Naive (i) (wo output)  0.559 ($\\pm$ 0.0032)  0.555 ($\\pm$ 0.0033)   \n",
       "3   Naive (i) (w output)  0.743 ($\\pm$ 0.0043)  0.555 ($\\pm$ 0.0033)   \n",
       "4             Naive (ii)  0.745 ($\\pm$ 0.0048)  0.600 ($\\pm$ 0.0040)   \n",
       "\n",
       "                    k=3  \n",
       "0  0.588 ($\\pm$ 0.0039)  \n",
       "1  0.576 ($\\pm$ 0.0043)  \n",
       "2  0.551 ($\\pm$ 0.0035)  \n",
       "3  0.551 ($\\pm$ 0.0035)  \n",
       "4  0.584 ($\\pm$ 0.0047)  "
      ]
     },
     "execution_count": 73,
     "metadata": {},
     "output_type": "execute_result"
    }
   ],
   "source": [
    "import pandas as pd\n",
    "df = pd.DataFrame({\n",
    "    'Mechanism': ['with Replacement', 'without Replacement', 'Naive (i) (wo output)', 'Naive (i) (w output)', 'Naive (ii)'],\n",
    "    'k=1': [f'{np.mean(x):.3f} ($\\pm$ {(np.std(x)/x.shape[0]**0.5):.4f})' for x in np_segments_res[:, :, 0]],\n",
    "    'k=2': [f'{np.mean(x):.3f} ($\\pm$ {(np.std(x)/x.shape[0]**0.5):.4f})' for x in np_segments_res[:, :, 1]],\n",
    "    'k=3': [f'{np.mean(x):.3f} ($\\pm$ {(np.std(x)/x.shape[0]**0.5):.4f})' for x in np_segments_res[:, :, 2]],\n",
    "})\n",
    "df"
   ]
  },
  {
   "cell_type": "code",
   "execution_count": 35,
   "metadata": {},
   "outputs": [
    {
     "data": {
      "text/html": [
       "<div>\n",
       "<style scoped>\n",
       "    .dataframe tbody tr th:only-of-type {\n",
       "        vertical-align: middle;\n",
       "    }\n",
       "\n",
       "    .dataframe tbody tr th {\n",
       "        vertical-align: top;\n",
       "    }\n",
       "\n",
       "    .dataframe thead th {\n",
       "        text-align: right;\n",
       "    }\n",
       "</style>\n",
       "<table border=\"1\" class=\"dataframe\">\n",
       "  <thead>\n",
       "    <tr style=\"text-align: right;\">\n",
       "      <th></th>\n",
       "      <th>Mechanism</th>\n",
       "      <th>k&lt;=1</th>\n",
       "      <th>k&lt;=2</th>\n",
       "      <th>k&lt;=3</th>\n",
       "    </tr>\n",
       "  </thead>\n",
       "  <tbody>\n",
       "    <tr>\n",
       "      <th>0</th>\n",
       "      <td>with Replacement</td>\n",
       "      <td>0.746</td>\n",
       "      <td>0.671</td>\n",
       "      <td>0.643</td>\n",
       "    </tr>\n",
       "    <tr>\n",
       "      <th>1</th>\n",
       "      <td>without Replacement</td>\n",
       "      <td>0.752</td>\n",
       "      <td>0.677</td>\n",
       "      <td>0.643</td>\n",
       "    </tr>\n",
       "    <tr>\n",
       "      <th>2</th>\n",
       "      <td>Naive (i) (wo output)</td>\n",
       "      <td>0.559</td>\n",
       "      <td>0.557</td>\n",
       "      <td>0.555</td>\n",
       "    </tr>\n",
       "    <tr>\n",
       "      <th>3</th>\n",
       "      <td>Naive (i) (w output)</td>\n",
       "      <td>0.743</td>\n",
       "      <td>0.649</td>\n",
       "      <td>0.616</td>\n",
       "    </tr>\n",
       "    <tr>\n",
       "      <th>4</th>\n",
       "      <td>Naive (ii)</td>\n",
       "      <td>0.745</td>\n",
       "      <td>0.673</td>\n",
       "      <td>0.643</td>\n",
       "    </tr>\n",
       "  </tbody>\n",
       "</table>\n",
       "</div>"
      ],
      "text/plain": [
       "               Mechanism   k<=1   k<=2   k<=3\n",
       "0       with Replacement  0.746  0.671  0.643\n",
       "1    without Replacement  0.752  0.677  0.643\n",
       "2  Naive (i) (wo output)  0.559  0.557  0.555\n",
       "3   Naive (i) (w output)  0.743  0.649  0.616\n",
       "4             Naive (ii)  0.745  0.673  0.643"
      ]
     },
     "execution_count": 35,
     "metadata": {},
     "output_type": "execute_result"
    }
   ],
   "source": [
    "import pandas as pd\n",
    "df = pd.DataFrame({\n",
    "    'Mechanism': ['with Replacement', 'without Replacement', 'Naive (i) (wo output)', 'Naive (i) (w output)', 'Naive (ii)'],\n",
    "    'k<=1': [f'{x:.3f}' for x in np_segments_res[:, 0]],\n",
    "    'k<=2': [f'{x:.3f}' for x in np.mean(np_segments_res[:, :2], axis=1)],\n",
    "    'k<=3': [f'{x:.3f}' for x in np.mean(np_segments_res[:, :3], axis=1)],\n",
    "})\n",
    "df"
   ]
  },
  {
   "cell_type": "code",
   "execution_count": 36,
   "metadata": {},
   "outputs": [
    {
     "data": {
      "text/html": [
       "<div>\n",
       "<style scoped>\n",
       "    .dataframe tbody tr th:only-of-type {\n",
       "        vertical-align: middle;\n",
       "    }\n",
       "\n",
       "    .dataframe tbody tr th {\n",
       "        vertical-align: top;\n",
       "    }\n",
       "\n",
       "    .dataframe thead th {\n",
       "        text-align: right;\n",
       "    }\n",
       "</style>\n",
       "<table border=\"1\" class=\"dataframe\">\n",
       "  <thead>\n",
       "    <tr style=\"text-align: right;\">\n",
       "      <th></th>\n",
       "      <th>Mechanism</th>\n",
       "      <th>Average over k=[1, 2, 3]</th>\n",
       "    </tr>\n",
       "  </thead>\n",
       "  <tbody>\n",
       "    <tr>\n",
       "      <th>0</th>\n",
       "      <td>with Replacement</td>\n",
       "      <td>0.643</td>\n",
       "    </tr>\n",
       "    <tr>\n",
       "      <th>1</th>\n",
       "      <td>without Replacement</td>\n",
       "      <td>0.643</td>\n",
       "    </tr>\n",
       "    <tr>\n",
       "      <th>2</th>\n",
       "      <td>Naive (i) (wo output)</td>\n",
       "      <td>0.555</td>\n",
       "    </tr>\n",
       "    <tr>\n",
       "      <th>3</th>\n",
       "      <td>Naive (i) (w output)</td>\n",
       "      <td>0.616</td>\n",
       "    </tr>\n",
       "    <tr>\n",
       "      <th>4</th>\n",
       "      <td>Naive (ii)</td>\n",
       "      <td>0.643</td>\n",
       "    </tr>\n",
       "  </tbody>\n",
       "</table>\n",
       "</div>"
      ],
      "text/plain": [
       "               Mechanism Average over k=[1, 2, 3]\n",
       "0       with Replacement                    0.643\n",
       "1    without Replacement                    0.643\n",
       "2  Naive (i) (wo output)                    0.555\n",
       "3   Naive (i) (w output)                    0.616\n",
       "4             Naive (ii)                    0.643"
      ]
     },
     "execution_count": 36,
     "metadata": {},
     "output_type": "execute_result"
    }
   ],
   "source": [
    "import pandas as pd\n",
    "df = pd.DataFrame({\n",
    "    'Mechanism': ['with Replacement', 'without Replacement', 'Naive (i) (wo output)', 'Naive (i) (w output)', 'Naive (ii)'],\n",
    "    'Average over k=[1, 2, 3]': [f'{x:.3f}' for x in np.mean(np_segments_res, axis=1)],\n",
    "})\n",
    "df"
   ]
  },
  {
   "cell_type": "code",
   "execution_count": null,
   "metadata": {},
   "outputs": [],
   "source": []
  }
 ],
 "metadata": {
  "kernelspec": {
   "display_name": "mlc",
   "language": "python",
   "name": "python3"
  },
  "language_info": {
   "codemirror_mode": {
    "name": "ipython",
    "version": 3
   },
   "file_extension": ".py",
   "mimetype": "text/x-python",
   "name": "python",
   "nbconvert_exporter": "python",
   "pygments_lexer": "ipython3",
   "version": "3.8.5"
  }
 },
 "nbformat": 4,
 "nbformat_minor": 2
}
