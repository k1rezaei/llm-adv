{
 "cells": [
  {
   "cell_type": "markdown",
   "metadata": {},
   "source": [
    "### Scenario 0\n",
    "\n",
    "Advertisers = ['Velora', 'BookHaven', 'MassMart', 'EspressoEdge']\n",
    "+ Velora: made-up name for Apple\n",
    "+ BookHaven: made-up name for an online book store\n",
    "+ MassMart: made-up name for Costco\n",
    "+ EspressoEdge: made-up name for Starbucks\n"
   ]
  },
  {
   "cell_type": "markdown",
   "metadata": {},
   "source": [
    "This table shows the bids, relevency of ads to the prompt, and rag-based allocation vector, i.e., $x_i = \\frac{q_i b_i}{\\sum_j q_j b_j}$."
   ]
  },
  {
   "cell_type": "markdown",
   "metadata": {},
   "source": [
    "| Advertiser    | Bids | $q_i$ | $x_i$ | \n",
    "| --------      | ------- | -------- | ------- |\n",
    "| Velora        | 3    | 0.36   | 0.22  |\n",
    "| BookHaven     | 3    | 0.87   | 0.54  |\n",
    "| MassMart      | 2    | 0.31   | 0.13  |\n",
    "| EspressoEdge  | 2    | 0.26   | 0.11  |"
   ]
  },
  {
   "cell_type": "markdown",
   "metadata": {},
   "source": [
    "#### Auction statistics\n",
    "Here we have $3$ different scenarios.\n",
    "\n",
    "Note that:\n",
    "\n",
    "+ we divide SW by maximum possible SW $(\\max_i q_i b_i \\cdot \\text{count}_{\\text{segments}})$\n",
    "+ Revenue by maximum possible revenue $(\\max_i b_i \\cdot \\text{count}_{\\text{segments}})$\n",
    "+ Relevency by maximum releveance $(\\max_i q_i \\cdot \\text{count}_{\\text{segments}})$\n",
    "\n",
    "\n",
    "|   Mechanism                       |   Social Welfare  |\tRevenue\t            |   Relevence           |\tMin. Social Welfare |\n",
    "|    --------                       |   -------         |   --------            |   -------             |   -------             |\n",
    "|\tsingle_alloc_with_replacement\t|   0.660           |\t0.371               |\t0.688               |\t0.185               |\n",
    "|\tsingle_alloc_without_replacement|\t0.521           |\t0.333               |\t0.565               |\t0.294               |\n",
    "|\tsingle_alloc_naive_ii           |\t0.508           |\t0.379               |\t0.552               |\t0.329               |"
   ]
  },
  {
   "cell_type": "markdown",
   "metadata": {},
   "source": [
    "Standard deviation of above metrics over $500$ runs of the randomized algorithm is as follows:\n",
    "\n",
    "|   Mechanism                       |   Social Welfare  |\tRevenue\t            |   Relevence           |\n",
    "|    --------                       |   -------         |   --------            |   -------             |\n",
    "|\tsingle_alloc_with_replacement\t|   0.204           |\t0.157               |\t0.184               |\n",
    "|\tsingle_alloc_without_replacement|  \t0.057\t        |   0.136\t            |   0.047               |\n",
    "|\tsingle_alloc_naive_ii\t        |   0.191\t        |   0.146\t            |   0.171               |"
   ]
  },
  {
   "cell_type": "markdown",
   "metadata": {},
   "source": [
    "#### Quality of output\n",
    "Here are the results regarding quality of output: we measure the relevancy of output (including 3 segments with ad) to a set of outputs without any ads.\n",
    "Higher score means more relevancy to original output, thereby indicating higher quality.\n",
    "\n",
    "\n",
    "At this table, we measure the relevency of each individual segment to the orignal outputs.\n",
    "\n",
    "|   Mechanism                       |   $1$-st segment  |\t$2$-nd segment  |   $3$-rd segment  |\n",
    "|    --------                       |   -------         |   --------        |   -------         |\n",
    "|\twith Replacement                |\t0.746           |\t0.596           |\t0.588           |\n",
    "|\twithout Replacement\t            |   0.752           |\t0.602\t        |   0.576           |\n",
    "|\tNaive (i)           \t        |   0.743\t        |   0.555\t        |   0.551           |\n",
    "|\tNaive (ii)\t                    |   0.745\t        |   0.600\t        |   0.584           |\n",
    "\n",
    "\n",
    "\n",
    "At this one, we measure the relevancy of first $k$ segments of the modified output to the origian outputs.\n",
    "\n",
    "|   Mechanism                       |   $k = 1$         |\t$k = 2$         |   $k=3$           |\n",
    "|    --------                       |   -------         |   --------        |   -------         |\n",
    "|\twith Replacement\t            |   0.746   |\t0.715   |\t0.700\n",
    "|\twithout Replacement\t            |   0.752\t|   0.716   |\t0.702   |   \n",
    "|\tNaive (i)           \t        |   0.743\t|   0.740\t|   0.671   |\n",
    "|\tNaive (ii)\t                    |   0.745   |\t0.712   |\t0.698   |\n"
   ]
  },
  {
   "cell_type": "markdown",
   "metadata": {},
   "source": [
    "### Scenario 1\n",
    "\n",
    "Advertisers = ['Velora', 'BookHaven', 'MassMart', 'EspressoEdge']\n",
    "\n",
    "In this scenraio, $q_i b_i$ is roughly same for all advertiser."
   ]
  },
  {
   "cell_type": "markdown",
   "metadata": {},
   "source": [
    "| Advertiser    | Bids | $q_i$ | $x_i$ | \n",
    "| --------      | ------- | -------- | ------- |\n",
    "| Velora        | 2    | 0.36   | 0.22  |\n",
    "| BookHaven     | 1    | 0.87   | 0.26  |\n",
    "| MassMart      | 3    | 0.31   | 0.28  |\n",
    "| EspressoEdge  | 3    | 0.26   | 0.24  |"
   ]
  },
  {
   "cell_type": "markdown",
   "metadata": {},
   "source": [
    "On $3$ different scenarios, here are the results:"
   ]
  },
  {
   "cell_type": "markdown",
   "metadata": {},
   "source": [
    "\n",
    "|   Mechanism                       |   Social Welfare  |\tRevenue\t            |   Relevence           |\tMin. Social Welfare |\n",
    "|    --------                       |   -------         |   --------            |   -------             |   -------             |\n",
    "|\tsingle_alloc_with_replacement   |\t0.898           |\t0.347               |\t0.527               |\t0.439\n",
    "|\tsingle_alloc_without_replacement|\t0.896\t        |   0.317\t            |   0.521\t            |   0.490\n",
    "|\tsingle_alloc_naive_ii\t        |   0.897\t        |   0.378\t            |   0.418\t            |   0.287"
   ]
  },
  {
   "cell_type": "markdown",
   "metadata": {},
   "source": [
    "Standard deviation of above metrics over $500$ runs of the randomized algorithm is as follows:\n",
    "\n",
    "|   Mechanism                       |   Social Welfare  |\tRevenue\t            |   Relevence           |\n",
    "|    --------                       |   -------         |   --------            |   -------             |\n",
    "|\tsingle_alloc_with_replacement   |\t0.049           |\t0.159               |\t0.173\n",
    "|\tsingle_alloc_without_replacement|\t0.029\t        |   0.135\t            |   0.090\n",
    "|\tsingle_alloc_naive_ii           |\t0.051\t        |   0.155\t            |   0.119"
   ]
  },
  {
   "cell_type": "markdown",
   "metadata": {},
   "source": []
  }
 ],
 "metadata": {
  "language_info": {
   "name": "python"
  }
 },
 "nbformat": 4,
 "nbformat_minor": 2
}
