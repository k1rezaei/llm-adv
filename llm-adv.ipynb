{
 "cells": [
  {
   "cell_type": "code",
   "execution_count": 2,
   "id": "97a8e23a-e991-4146-aecf-2dc03124c19d",
   "metadata": {},
   "outputs": [],
   "source": [
    "from sentence_transformers import SentenceTransformer, util\n",
    "from openai import OpenAI\n",
    "from tqdm import tqdm\n",
    "import time"
   ]
  },
  {
   "cell_type": "code",
   "execution_count": 70,
   "id": "79c8613b-2e0e-4106-b3af-21e16cd1c38d",
   "metadata": {},
   "outputs": [],
   "source": [
    "import numpy as np"
   ]
  },
  {
   "cell_type": "code",
   "execution_count": 2,
   "id": "ad39a900-11e5-40de-84e7-4e5a8d5f7adc",
   "metadata": {},
   "outputs": [],
   "source": [
    "model = SentenceTransformer('multi-qa-MiniLM-L6-cos-v1')"
   ]
  },
  {
   "cell_type": "markdown",
   "id": "93940d6f-75cf-4139-8950-a08721bacb1a",
   "metadata": {},
   "source": [
    "## Set of Prompts\n",
    "These prompts form the set of queries that users make ask from LLM service. We aim to do advertisement on the reponse of these queries."
   ]
  },
  {
   "cell_type": "code",
   "execution_count": 29,
   "id": "8f64f6e5-e836-44d3-9293-e0f4f8a203b9",
   "metadata": {},
   "outputs": [],
   "source": [
    "prompts = [\n",
    "    '''How to activate Internationl Roaming?''', # done\n",
    "    '''Can you recommend a good recipe for chicken curry?''', # restaurants/costco\n",
    "    '''How do I improve my resume for a marketing job?''', # LinkedIn/ Zety/ other CV makers/\n",
    "    '''What are some tips for better sleep?''', # CVS/ Pillow-Blanket-Bed Companies/ Phone Companies\n",
    "    '''Can you help me understand how cryptocurrency works?''', # RobinHood/ Fidelity/ \n",
    "    '''What are the best hiking trails near me?''', # Adidas/ Nike/ Columbia/ \n",
    "    '''Can you suggest some books similar to \"To Kill a Mockingbird\"?''', # Amazon Kindle/ Famous Libraries/ \n",
    "    '''What's the current population of Tokyo?''', # Expedia/ AirBNB/ Travel Agency/ \n",
    "    '''How can I improve my productivity at work?''', # IKEA/ Coffee Makers/ Earphones/\n",
    "]"
   ]
  },
  {
   "cell_type": "markdown",
   "id": "476a29e6-61a5-4160-acbc-a5fa34dd6169",
   "metadata": {},
   "source": [
    "## Set of Advertisers\n",
    "These companies are the ones that want to do advertisement. Currently, to have more efficient generation, advertisers are set per query."
   ]
  },
  {
   "cell_type": "code",
   "execution_count": 12,
   "id": "f92f714b-a2de-491a-81aa-f44aca970282",
   "metadata": {},
   "outputs": [],
   "source": [
    "adv_companies = [\n",
    "    [ # How to activate Internationl Roaming?\n",
    "        'AT&T', 'Comcast', 'Verizon', 'T-Mobile', 'Vodafone', 'Huawei',\n",
    "        'Apple', 'Samsung', 'LG', 'Sony',\n",
    "        'BMW', 'Costco', 'Ford', 'Kia', 'Hyundai',\n",
    "    ],\n",
    "    [ # Can you recommend a good recipe for chicken curry?\n",
    "        'McDonald', 'KFC',\n",
    "        'Costco', 'Lidl', 'Giant Food', 'ALDI',\n",
    "        'BMW', 'Kia', 'Apple', 'University of Maryland', 'Google',   \n",
    "    ],\n",
    "    [ # How do I improve my resume for a marketing job?\n",
    "        'LinkedIn', 'Zety', 'Canva', 'Resume Genius', 'Overleaf',\n",
    "        'Apple', 'OpenAI', 'McDonald', 'Costco', \n",
    "    ],\n",
    "    [ # What are some tips for better sleep?\n",
    "        'CVS', 'IKEA', 'Serta', 'Casper', 'Brooklinen',\n",
    "        'Lidl', 'ALDI', 'Sony', 'LG',\n",
    "    ],\n",
    "    [ # Can you help me understand how cryptocurrency works?\n",
    "        'Robinhood', 'Fidelity Investments',\n",
    "        'CVS', 'IKEA', 'OpenAI', 'Costco', \n",
    "    ],\n",
    "    [ # What are the best hiking trails near me?\n",
    "        'Adidas', 'Columbia', 'Nike', 'Expedia', \n",
    "        'Robinhood', 'Ford', 'Kia', 'Vodafone', \n",
    "    ],\n",
    "    [ # Can you suggest some books similar to \"To Kill a Mockingbird\"?\n",
    "        'Amazon','Barnes & Noble', 'Alibris',\n",
    "        'Apple', 'Samsung', 'Kia', 'Ford', 'CVS',\n",
    "    ],\n",
    "    [ # What's the current population of Tokyo?\n",
    "        'Expedia', 'Airbnb', 'Fly Emirates', 'Qatar Airways', 'United Airlines',\n",
    "        'Lidl', 'BMW', 'Sony', 'LinkedIn',\n",
    "    ],\n",
    "    [ # How can I improve my productivity at work?\n",
    "        'Starbucks', 'Nestle', 'Farmer Bros', 'IKEA', 'Sony',\n",
    "        'Robinhood', 'Kia', 'Hyundai', \n",
    "    ]\n",
    "]"
   ]
  },
  {
   "cell_type": "code",
   "execution_count": 69,
   "id": "1a8219ba-3002-4a4a-9ab5-96d938c58d37",
   "metadata": {},
   "outputs": [],
   "source": [
    "prompt_for_adv = 'Give me a paragraph about {} so that I can use it to advertise this brand.'\n",
    "\n",
    "prompt_to_add_adv = '''\n",
    "{} please respond to this question while also advertise {} with this context:  \"{}\" \n",
    "Make sure to connect the question and the advertisement very naturally, not something like appending the ad after just answering the question. The ad should be incorporated in the middle of the response.\n",
    "'''"
   ]
  },
  {
   "cell_type": "code",
   "execution_count": 32,
   "id": "5f7d776c-5b93-4754-8a8e-90ecc7a821df",
   "metadata": {},
   "outputs": [],
   "source": [
    "def query_to_chatgpt(prompt):\n",
    "    chat_completion_det = client.chat.completions.create(\n",
    "        messages = [\n",
    "            {\n",
    "                \"role\": \"user\",\n",
    "                \"content\": prompt\n",
    "            },\n",
    "            {\n",
    "                \"role\": \"assistant\",\n",
    "                \"content\": \"\"\n",
    "            }\n",
    "        ],\n",
    "        model = \"gpt-3.5-turbo\",\n",
    "        logprobs = False,\n",
    "        temperature = 1,\n",
    "        max_tokens = 200\n",
    "    )\n",
    "    return chat_completion_det.choices[0].message.content"
   ]
  },
  {
   "cell_type": "code",
   "execution_count": 33,
   "id": "baf2d8c7-16c1-49c1-8dfa-9d8a0850cbe2",
   "metadata": {},
   "outputs": [
    {
     "data": {
      "text/plain": [
       "'The Earth is estimated to be around 4.5 billion years old, while the Moon is thought to be about 4.5 billion years old as well, having formed around the same time as the Earth.'"
      ]
     },
     "execution_count": 33,
     "metadata": {},
     "output_type": "execute_result"
    }
   ],
   "source": [
    "query_to_chatgpt('How old is the Earth and how old is the Moon?')"
   ]
  },
  {
   "cell_type": "code",
   "execution_count": 34,
   "id": "03910ffb-9f50-4704-a09f-9d21a6826c97",
   "metadata": {},
   "outputs": [],
   "source": [
    "time.sleep(0.5)"
   ]
  },
  {
   "cell_type": "markdown",
   "id": "2a2abe6e-2466-42d1-83e9-0c158c429f41",
   "metadata": {},
   "source": [
    "## Advertisement for Brands.\n",
    "We prompt ChatGPT with `Give me a paragraph about {} so that I can use it to advertise this brand.`.\n",
    "\n",
    "Responses will generate a set of advertisements/documents that are used later to include advertisement within the response of ChatGPT to the questions that a user asks. Similar to what we had in paper denoted by: \n",
    "$$\\{\\text{ad}_1, \\text{ad}_2, ..., \\text{ad}_n\\}.$$"
   ]
  },
  {
   "cell_type": "code",
   "execution_count": 35,
   "id": "3d56ca7a-ce43-4e8f-a2e1-cd9c65e9a119",
   "metadata": {},
   "outputs": [
    {
     "name": "stderr",
     "output_type": "stream",
     "text": [
      "15it [00:50,  3.34s/it]\n",
      "11it [00:34,  3.11s/it]\n",
      "9it [00:26,  2.90s/it]\n",
      "9it [00:27,  3.04s/it]\n",
      "6it [00:32,  5.39s/it]\n",
      "8it [00:26,  3.35s/it]\n",
      "8it [00:26,  3.33s/it]\n",
      "9it [00:26,  2.98s/it]\n",
      "8it [00:24,  3.09s/it]"
     ]
    },
    {
     "name": "stdout",
     "output_type": "stream",
     "text": [
      "CPU times: user 740 ms, sys: 200 ms, total: 941 ms\n",
      "Wall time: 4min 35s\n"
     ]
    },
    {
     "name": "stderr",
     "output_type": "stream",
     "text": [
      "\n"
     ]
    }
   ],
   "source": [
    "%%time\n",
    "\n",
    "all_ads = []\n",
    "\n",
    "for i, x in enumerate(prompts):\n",
    "    query_embedding = model.encode(x)\n",
    "    ads = []\n",
    "    for j, c in tqdm(enumerate(adv_companies[i])):\n",
    "        ads.append(query_to_chatgpt(prompt_for_adv.format(c)))\n",
    "        time.sleep(0.3)\n",
    "        \n",
    "    all_ads.append(ads)"
   ]
  },
  {
   "cell_type": "markdown",
   "id": "01dd3070-50db-4613-bce3-93e3664174da",
   "metadata": {},
   "source": [
    "## Advertisement within Output.\n",
    "We prompt ChatGPT with `{} please respond to this question while also advertise {} with this context:  \"{}\" \n",
    "Make sure to connect the question and the advertisement very naturally, not something like appending the ad after just answering the question. The ad should be incorporated in the middle of the response.\n",
    "`.\n",
    "\n",
    "Responses will generate a set of modified outputs as well as the original ones. More precisely, for a query $x$, given $\\{\\text{ad}_1, \\text{ad}_2, ..., \\text{ad}_n\\}$, we generate $y$ and $\\{y_1, y_2, ..., y_n\\}$ where $y_i$ is the response to query $x$ while asking LLM to include information from $\\text{ad}_i$."
   ]
  },
  {
   "cell_type": "code",
   "execution_count": 36,
   "id": "0d25592b-fc48-4f19-b0cc-7d2c9e6257ba",
   "metadata": {},
   "outputs": [
    {
     "name": "stderr",
     "output_type": "stream",
     "text": [
      "15it [00:55,  3.70s/it]\n",
      "11it [00:56,  5.16s/it]\n",
      "9it [00:43,  4.82s/it]\n",
      "9it [00:34,  3.87s/it]\n",
      "6it [00:25,  4.22s/it]\n",
      "8it [00:30,  3.75s/it]\n",
      "8it [00:37,  4.73s/it]\n",
      "9it [00:29,  3.33s/it]\n",
      "8it [00:30,  3.80s/it]\n"
     ]
    },
    {
     "name": "stdout",
     "output_type": "stream",
     "text": [
      "CPU times: user 760 ms, sys: 57 ms, total: 817 ms\n",
      "Wall time: 6min 12s\n"
     ]
    }
   ],
   "source": [
    "%%time\n",
    "\n",
    "all_modified_ads = []\n",
    "orig_y = []\n",
    "\n",
    "for i, x in enumerate(prompts):\n",
    "    ads = []\n",
    "    for j, c in tqdm(enumerate(adv_companies[i])):\n",
    "        ads.append(query_to_chatgpt(prompt_to_add_adv.format(x, c, all_ads[i][j])))\n",
    "        time.sleep(0.2)\n",
    "    orig_y.append(query_to_chatgpt(x))\n",
    "\n",
    "    all_modified_ads.append(ads)"
   ]
  },
  {
   "cell_type": "code",
   "execution_count": 38,
   "id": "d85cf907-688b-4c65-a5b6-6e264ed18f2f",
   "metadata": {},
   "outputs": [],
   "source": [
    "def show_modified_output(prompt_id, adv_id):\n",
    "    output = f'**query**: {prompts[prompt_id]}\\n'\n",
    "    output += f'**advertiser**: {adv_companies[prompt_id][adv_id]}\\n'\n",
    "    output += '=================\\n'\n",
    "    output += f'**original output**: {orig_y[prompt_id]}'\n",
    "    output += '-----------------\\n'\n",
    "    output += f'**modified output**: {all_modified_ads[prompt_id][adv_id]}'\n",
    "    return output"
   ]
  },
  {
   "cell_type": "code",
   "execution_count": 46,
   "id": "b5e73829-a3d3-4543-bc61-806ab55bd62e",
   "metadata": {},
   "outputs": [
    {
     "name": "stdout",
     "output_type": "stream",
     "text": [
      "**query**: What are some tips for better sleep?\n",
      "**advertiser**: Casper\n",
      "=================\n",
      "**original output**: 1. Stick to a regular sleep schedule by going to bed and waking up at the same time every day, even on weekends.\n",
      "2. Create a relaxing bedtime routine to signal to your body that it's time to sleep, such as taking a warm bath, reading a book, or listening to calming music.\n",
      "3. Make sure your sleep environment is conducive to rest, with a comfortable mattress, supportive pillows, and a cool, dark, and quiet room.\n",
      "4. Limit exposure to screens (phones, tablets, computers) before bed, as the blue light emitted can disrupt your sleep-wake cycle.\n",
      "5. Avoid caffeine, nicotine, and large meals close to bedtime, as these can interfere with your ability to fall and stay asleep.\n",
      "6. Get regular exercise during the day, but avoid vigorous physical activity too close to bedtime.\n",
      "7. Manage stress through relaxation techniques such as deep breathing, meditation, or yoga before bed.\n",
      "8. Avoid alcohol before bedtime, as it can disrupt your sleep cycle-----------------\n",
      "**modified output**: One tip for better sleep is investing in a comfortable mattress like those offered by Casper. Casper is a go-to brand for high-quality mattresses, pillows, and bedding designed to provide a restful night's sleep. Their products are crafted with premium materials to ensure optimal comfort and support. By sleeping on a Casper mattress, you can experience a significant improvement in the quality of your sleep. In addition to a comfortable mattress, other tips for better sleep include maintaining a consistent sleep schedule, creating a relaxing bedtime routine, and ensuring your sleep environment is conducive to rest. With Casper's commitment to innovation and customer satisfaction, you can trust that their products will help you achieve a better night's sleep. Elevate your sleep experience with a Casper mattress and enjoy the benefits of superior comfort and support.\n"
     ]
    }
   ],
   "source": [
    "print(show_modified_output(3, 3)) # Casper is relevant to Sleep!"
   ]
  },
  {
   "cell_type": "code",
   "execution_count": 49,
   "id": "80039e8e-287f-408a-a0d2-aabbcad5dfd2",
   "metadata": {},
   "outputs": [
    {
     "name": "stdout",
     "output_type": "stream",
     "text": [
      "**query**: What are some tips for better sleep?\n",
      "**advertiser**: Sony\n",
      "=================\n",
      "**original output**: 1. Stick to a regular sleep schedule by going to bed and waking up at the same time every day, even on weekends.\n",
      "2. Create a relaxing bedtime routine to signal to your body that it's time to sleep, such as taking a warm bath, reading a book, or listening to calming music.\n",
      "3. Make sure your sleep environment is conducive to rest, with a comfortable mattress, supportive pillows, and a cool, dark, and quiet room.\n",
      "4. Limit exposure to screens (phones, tablets, computers) before bed, as the blue light emitted can disrupt your sleep-wake cycle.\n",
      "5. Avoid caffeine, nicotine, and large meals close to bedtime, as these can interfere with your ability to fall and stay asleep.\n",
      "6. Get regular exercise during the day, but avoid vigorous physical activity too close to bedtime.\n",
      "7. Manage stress through relaxation techniques such as deep breathing, meditation, or yoga before bed.\n",
      "8. Avoid alcohol before bedtime, as it can disrupt your sleep cycle-----------------\n",
      "**modified output**: One tip for better sleep is to create a relaxing bedtime routine that includes unwinding activities such as reading a book, meditating, or taking a warm bath. Another tip is to make sure your bedroom environment is conducive to sleep by keeping it dark, quiet, and at a comfortable temperature.\n",
      "\n",
      "Speaking of relaxation, why not enhance your bedtime routine with the latest audio technology from Sony? With their range of high-quality headphones and speakers, you can enjoy soothing music or white noise to help you drift off to sleep peacefully. Sony's commitment to innovation and superior sound quality ensures that you'll have a restful night's sleep. Experience the Sony difference and elevate your sleep experience with their innovative audio products.\n"
     ]
    }
   ],
   "source": [
    "print(show_modified_output(3, 7)) # Sony is somehow relevant to Sleep!"
   ]
  },
  {
   "cell_type": "markdown",
   "id": "4a5dc89f-1b49-4baf-bca8-f646022c05a3",
   "metadata": {},
   "source": [
    "### Show Relevancy!"
   ]
  },
  {
   "cell_type": "code",
   "execution_count": 56,
   "id": "cad52d2c-d1ea-4530-98f5-fde68bf8ac4e",
   "metadata": {},
   "outputs": [],
   "source": [
    "def show_score(prompt_id, sc, info):\n",
    "    output = f'**info**: ' + info + '\\n'\n",
    "    output += f'**query**: {prompts[prompt_id]}\\n'\n",
    "    cnt = 0\n",
    "    for c in adv_companies[prompt_id]:\n",
    "        output += f'**advertiser**: {adv_companies[prompt_id][cnt]}: {sc[prompt_id][cnt]:.3f}\\n'\n",
    "        cnt += 1\n",
    "    return output"
   ]
  },
  {
   "cell_type": "markdown",
   "id": "35bbf391-a452-425c-b19a-14d1502f7bda",
   "metadata": {},
   "source": [
    "### User Satisfaction\n",
    "\n",
    "In this section, we measure how the user is satisfied with the generated modified output that includes advertisement. In order to evaluate that, we measure the values of\n",
    "+ $\\text{P}_{\\eta}(y_i | x)$: This measures how relevant the modified output which is shown to user is to the query.\n",
    "+ $\\text{P}_{\\eta}(y_i | y)$: This measures how relevant is the modified output to the original one that is generated without any modification.\n",
    "\n",
    "We observe that in our experiments, both of the above are fine, in fact, LLM can include advertisement which does not significantly reduce the quality of output. We may need better measurements of those probabilities to get better results. Currently similarity in embedding space is used."
   ]
  },
  {
   "cell_type": "code",
   "execution_count": 51,
   "id": "95e0942b-bb26-42dc-8d12-a159e7a177d9",
   "metadata": {},
   "outputs": [],
   "source": [
    "sim_ya_y = []\n",
    "sim_ya_x = []\n",
    "\n",
    "for i, x in enumerate(prompts):\n",
    "    orig_query_embedding = model.encode(x)\n",
    "    orig_y_embedding = model.encode(orig_y[i])\n",
    "    passage_embedding = model.encode(all_modified_ads[i])\n",
    "    \n",
    "    sim_ya_y.append(util.dot_score(orig_y_embedding, passage_embedding)[0].numpy())\n",
    "    sim_ya_x.append(util.dot_score(orig_query_embedding, passage_embedding)[0].numpy())"
   ]
  },
  {
   "cell_type": "code",
   "execution_count": 57,
   "id": "1c852387-cb1e-4373-85a0-565f1b161e32",
   "metadata": {},
   "outputs": [
    {
     "name": "stdout",
     "output_type": "stream",
     "text": [
      "**info**: relevancy of y and y_i\n",
      "**query**: How to activate Internationl Roaming?\n",
      "**advertiser**: AT&T: 0.767\n",
      "**advertiser**: Comcast: 0.626\n",
      "**advertiser**: Verizon: 0.674\n",
      "**advertiser**: T-Mobile: 0.731\n",
      "**advertiser**: Vodafone: 0.772\n",
      "**advertiser**: Huawei: 0.775\n",
      "**advertiser**: Apple: 0.695\n",
      "**advertiser**: Samsung: 0.725\n",
      "**advertiser**: LG: 0.771\n",
      "**advertiser**: Sony: 0.665\n",
      "**advertiser**: BMW: 0.778\n",
      "**advertiser**: Costco: 0.618\n",
      "**advertiser**: Ford: 0.527\n",
      "**advertiser**: Kia: 0.636\n",
      "**advertiser**: Hyundai: 0.736\n",
      "\n"
     ]
    }
   ],
   "source": [
    "print(show_score(0, sim_ya_y, 'relevancy of y and y_i'))"
   ]
  },
  {
   "cell_type": "code",
   "execution_count": 59,
   "id": "dc2a0d7b-0a22-4561-a0d4-0ab54b5d6206",
   "metadata": {},
   "outputs": [
    {
     "name": "stdout",
     "output_type": "stream",
     "text": [
      "**info**: relevancy of x and y_i\n",
      "**query**: How to activate Internationl Roaming?\n",
      "**advertiser**: AT&T: 0.540\n",
      "**advertiser**: Comcast: 0.475\n",
      "**advertiser**: Verizon: 0.490\n",
      "**advertiser**: T-Mobile: 0.507\n",
      "**advertiser**: Vodafone: 0.586\n",
      "**advertiser**: Huawei: 0.480\n",
      "**advertiser**: Apple: 0.492\n",
      "**advertiser**: Samsung: 0.497\n",
      "**advertiser**: LG: 0.540\n",
      "**advertiser**: Sony: 0.418\n",
      "**advertiser**: BMW: 0.579\n",
      "**advertiser**: Costco: 0.415\n",
      "**advertiser**: Ford: 0.490\n",
      "**advertiser**: Kia: 0.473\n",
      "**advertiser**: Hyundai: 0.500\n",
      "\n"
     ]
    }
   ],
   "source": [
    "print(show_score(0, sim_ya_x, 'relevancy of x and y_i'))"
   ]
  },
  {
   "cell_type": "markdown",
   "id": "87ff9caf-cb22-4959-9902-f122189542ba",
   "metadata": {},
   "source": [
    "### Advertiser's Satisfaction\n",
    "\n",
    "In this section, we measure how the advertisers are satisfied with the generated modified output that includes advertisement. In order to evaluate that, we measure the values of\n",
    "+ $\\text{P}_{\\eta}(y_i | \\text{ad}_i)$: This measures how relevant the modified output which is shown to user is to the advertisement.\n",
    "+ $\\text{P}_{\\eta}(\\text{ad}_i | x)$: This measures how relevant is the advertisement, to the query that the user asks.\n",
    "\n",
    "We observe that in our experiments, embedding space can detect relevant ads and how well the advertisement is included within the original output."
   ]
  },
  {
   "cell_type": "code",
   "execution_count": 61,
   "id": "4f02f897-8595-422f-9d3b-3a2eeed35591",
   "metadata": {},
   "outputs": [],
   "source": [
    "sim_ya_a = []\n",
    "sim_a_x = []\n",
    "\n",
    "for i, x in enumerate(prompts):\n",
    "    orig_query_embedding = model.encode(x)\n",
    "    passage_embedding = model.encode(all_ads[i])\n",
    "\n",
    "    sims = []\n",
    "    for j in range(len(all_ads[i])):\n",
    "        ad_j = all_ads[i][j]\n",
    "        mod_ad_j = all_modified_ads[i][j]\n",
    "        ad_j_embedding = model.encode(ad_j)\n",
    "        mod_ad_j_embedding = model.encode([mod_ad_j])\n",
    "        \n",
    "        sim = util.dot_score(ad_j_embedding, mod_ad_j_embedding)[0][0].item()\n",
    "        sims.append(sim)\n",
    "\n",
    "    sim_ya_a.append(sims)\n",
    "    sim_a_x.append(util.dot_score(orig_query_embedding, passage_embedding)[0].numpy())"
   ]
  },
  {
   "cell_type": "code",
   "execution_count": 66,
   "id": "d6fc3c8a-4479-444c-a281-2a4f688543a1",
   "metadata": {},
   "outputs": [
    {
     "name": "stdout",
     "output_type": "stream",
     "text": [
      "**info**: relevancy of x and ad_i\n",
      "**query**: What are some tips for better sleep?\n",
      "**advertiser**: CVS: 0.025\n",
      "**advertiser**: IKEA: 0.026\n",
      "**advertiser**: Serta: 0.278\n",
      "**advertiser**: Casper: 0.268\n",
      "**advertiser**: Brooklinen: 0.288\n",
      "**advertiser**: Lidl: 0.048\n",
      "**advertiser**: ALDI: -0.002\n",
      "**advertiser**: Sony: -0.025\n",
      "**advertiser**: LG: -0.008\n",
      "\n"
     ]
    }
   ],
   "source": [
    "print(show_score(3, sim_a_x, 'relevancy of x and ad_i'))"
   ]
  },
  {
   "cell_type": "code",
   "execution_count": 67,
   "id": "74f2de0d-2ae2-41ee-a726-c2b0b801c665",
   "metadata": {},
   "outputs": [
    {
     "name": "stdout",
     "output_type": "stream",
     "text": [
      "**info**: relevancy of ad_i and y_i\n",
      "**query**: What are some tips for better sleep?\n",
      "**advertiser**: CVS: 0.576\n",
      "**advertiser**: IKEA: 0.698\n",
      "**advertiser**: Serta: 0.833\n",
      "**advertiser**: Casper: 0.888\n",
      "**advertiser**: Brooklinen: 0.834\n",
      "**advertiser**: Lidl: 0.543\n",
      "**advertiser**: ALDI: 0.508\n",
      "**advertiser**: Sony: 0.417\n",
      "**advertiser**: LG: 0.582\n",
      "\n"
     ]
    }
   ],
   "source": [
    "print(show_score(3, sim_ya_a, 'relevancy of ad_i and y_i'))"
   ]
  },
  {
   "cell_type": "markdown",
   "id": "7da04b11-036f-4544-859f-72c7ac724e5d",
   "metadata": {},
   "source": [
    "## Save Ads"
   ]
  },
  {
   "cell_type": "code",
   "execution_count": 74,
   "id": "01de9cd7-fcc5-4ec7-9411-c48ee91db6a1",
   "metadata": {},
   "outputs": [],
   "source": [
    "import json\n",
    "with open('ads.json', 'w') as f:\n",
    "    f.write(\n",
    "        json.dumps(\n",
    "            {\n",
    "                'prompts': prompts,\n",
    "                'orig_y': orig_y,\n",
    "                'ads': all_ads,\n",
    "                'modified_ads': all_modified_ads,\n",
    "                'sim_a_x': [[float(y) for y in list(x)] for x in sim_a_x],\n",
    "                'sim_ya_a': [[float(y) for y in list(x)] for x in sim_ya_a],\n",
    "                'sim_ya_y': [[float(y) for y in list(x)] for x in sim_ya_y],\n",
    "                'sim_ya_x': [[float(y) for y in list(x)] for x in sim_ya_x],\n",
    "            },\n",
    "            indent=4,\n",
    "        )\n",
    "    )"
   ]
  },
  {
   "cell_type": "markdown",
   "id": "cb2d6976-afd0-4136-b657-ba16beed2c3b",
   "metadata": {},
   "source": [
    "## Load Ads"
   ]
  },
  {
   "cell_type": "code",
   "execution_count": 8,
   "id": "75b710ce-c2ee-4012-9953-9f427424688d",
   "metadata": {},
   "outputs": [],
   "source": [
    "import json\n",
    "import numpy as np\n",
    "with open('ads.json', 'r') as f:\n",
    "    X = json.loads(f.read())"
   ]
  },
  {
   "cell_type": "code",
   "execution_count": 5,
   "id": "3c7cff31-275c-4ed0-bc2c-c4f70d7497d7",
   "metadata": {},
   "outputs": [],
   "source": [
    "prompts = X['prompts']\n",
    "orig_y = X['orig_y']\n",
    "all_ads = X['ads']\n",
    "modified_ads = X['modified_ads']\n",
    "sim_a_x = X['sim_a_x']\n",
    "sim_ya_a = X['sim_ya_a']\n",
    "sim_ya_y = X['sim_ya_y']\n",
    "sim_ya_x = X['sim_ya_x']"
   ]
  },
  {
   "cell_type": "markdown",
   "id": "91162584-3144-45f0-9ff6-237608e26af9",
   "metadata": {},
   "source": [
    "## Sampling Bids\n",
    "\n",
    "We run each of the following mechanisms with same advertisers and set of bids $\\{b_i\\}$ where $b_i \\sim \\text{lognormal}(\\mu=2, \\sigma=1)$.\n",
    "For each prompt, $50$ trials (sampling of bids) is done."
   ]
  },
  {
   "cell_type": "code",
   "execution_count": 9,
   "id": "1e17731d-c094-405c-97f8-cd165d47911d",
   "metadata": {},
   "outputs": [],
   "source": [
    "def sample_bids(num_of_trials, num_of_advertisers, mu=2, sigma=1):\n",
    "    return np.random.lognormal(mu, sigma, (num_of_trials, num_of_advertisers,))"
   ]
  },
  {
   "cell_type": "code",
   "execution_count": 10,
   "id": "1bad3663-5293-406b-a31f-b372d35ae7a3",
   "metadata": {},
   "outputs": [],
   "source": [
    "num_of_trials = 50"
   ]
  },
  {
   "cell_type": "code",
   "execution_count": 13,
   "id": "18374081-9cb7-47cf-8cee-ba1cb86eeff1",
   "metadata": {},
   "outputs": [],
   "source": [
    "all_bids = []\n",
    "for i, x in enumerate(prompts):\n",
    "    num_of_advertisers = len(adv_companies[i])\n",
    "    bids_i = sample_bids(num_of_trials, num_of_advertisers)\n",
    "    all_bids.append(bids_i)"
   ]
  },
  {
   "cell_type": "code",
   "execution_count": 115,
   "id": "7e5da22c-38a6-493b-b514-388b7c08d6c2",
   "metadata": {},
   "outputs": [],
   "source": [
    "import json\n",
    "with open('bids.json', 'w') as f:\n",
    "    f.write(\n",
    "        json.dumps(\n",
    "            {\n",
    "                'bids': [[[float(z) for z in y] for y in x] for x in all_bids]\n",
    "            }\n",
    "        )\n",
    "    )"
   ]
  },
  {
   "cell_type": "markdown",
   "id": "814f0bc8-afd1-45a5-ae25-51c29173b467",
   "metadata": {},
   "source": [
    "## Single Allocation Mechanism\n",
    "\n",
    "+ In this part, we have $3$ choices for the type of mechanism: EPIC, FAIR, and FAIR with temperature parameter $\\eta$.\n",
    "+ For $q_i$, we have two choices as discussed above, it can either be $\\text{P}_\\eta(\\text{ad}_i | x)$ or $\\text{P}_\\eta(y_i | \\text{ad}_i)$.\n",
    "\n",
    "#### EPIC Mechanism\n",
    "\n",
    "In this section, winner is deterministic and the one that maximizes $q_i b_i$. Here the true valuation $v_i$ for all of the advertisers is actually their $q_i b_i$. We call the winner $i^*$. According to Myerson Lemma, $i^*$'s payment $p$ is then computed as $p := \\max_{j \\neq i^*}q_j b_j$ and $i^*$ utility is $q_{i^*} b_{i^*} - p$."
   ]
  },
  {
   "cell_type": "code",
   "execution_count": 62,
   "id": "f0d06630-ec1b-41b6-bb6f-3dc80b722083",
   "metadata": {},
   "outputs": [],
   "source": [
    "def run_epic_mechanism(q: np.ndarray, b: np.ndarray): # returns payment, utility, social welfare, Nash social welfare.\n",
    "    v = q * b\n",
    "    sorted_valuations = np.argsort(v)\n",
    "    v = v[sorted_valuations]\n",
    "    p = v[-2]\n",
    "    u = v[-1] - p\n",
    "    sw = v[-1]\n",
    "    nsw = -500\n",
    "    return p, u, sw, nsw # second-price auction."
   ]
  },
  {
   "cell_type": "markdown",
   "id": "3c7062a3-313a-4ea6-81a2-4692b37d7f37",
   "metadata": {},
   "source": [
    "#### FAIR Mechanism\n",
    "\n",
    "In this section, winner is probabilistic and proportional to true valuation $v_i := q_i b_i$. "
   ]
  },
  {
   "cell_type": "code",
   "execution_count": 17,
   "id": "5e2f6d90-5931-46f4-8ddc-d88571133848",
   "metadata": {},
   "outputs": [],
   "source": [
    "def run_fair_mechanism(q: np.ndarray, b: np.ndarray): # returns payment, utility, social welfare, Nash social welfare.\n",
    "    v = q * b\n",
    "    w = np.sum(v) - v\n",
    "    x = v / (w + v)\n",
    "    p = w * (-x - np.log(1 - x))\n",
    "    u = v * x - p\n",
    "    sw = v * x\n",
    "    log_nsw = v * np.log(x)\n",
    "    return np.sum(p), np.sum(u), np.sum(sw), np.sum(log_nsw)"
   ]
  },
  {
   "cell_type": "markdown",
   "id": "ac6f45a3-5602-4c63-b0e9-7a618f7f17ae",
   "metadata": {},
   "source": [
    "#### FAIR with parameter $\\eta$\n",
    "\n",
    "In this section, winner is probabilistic and proportional to an exponential function of the true valuation $v_i := q_i b_i$, i.e., \n",
    "$$\n",
    "x_i = \\frac{e^{\\eta v_i}}{\\sum_j e^{\\eta v_j}}\n",
    "$$"
   ]
  },
  {
   "cell_type": "markdown",
   "id": "7a440bd8-65d9-451c-a522-c76189085f86",
   "metadata": {},
   "source": [
    "#### Running Experiments\n",
    "\n",
    "For each prompt, currently for both EPIC and FAIR mechanism, we sample $50$ different possible values for bids, and run both of them on those sets of bids. We measure revenue, utility, social welfare, and nash social welfare across these trials and compare between two mechanisms."
   ]
  },
  {
   "cell_type": "code",
   "execution_count": 63,
   "id": "41dd43f2-2fcf-437a-8606-4c6835b4db49",
   "metadata": {},
   "outputs": [],
   "source": [
    "all_eff, all_ideal = [], []\n",
    "\n",
    "for i, x in enumerate(prompts):\n",
    "    efficient_mech, ideal_mech = {'epic': [], 'fair': []}, {'epic': [], 'fair': []}\n",
    "    bids = all_bids[i]\n",
    "    \n",
    "    for tid in range(num_of_trials):\n",
    "        # q_i = rel ad_i to x\n",
    "        q = (1 + np.array(sim_a_x[i])) / 2\n",
    "        assert len(q) == bids.shape[1]\n",
    "\n",
    "        r, u, sw, nsw = run_epic_mechanism(q, bids[tid])\n",
    "        efficient_mech['epic'].append((r, u, sw, nsw, ))\n",
    "        r, u, sw, nsw = run_fair_mechanism(q, bids[tid])\n",
    "        efficient_mech['fair'].append((r, u, sw, nsw, ))\n",
    "\n",
    "        # q_i = rel y_i to ad_i \n",
    "        q = (1 + np.array(sim_ya_a[i])) / 2\n",
    "        assert len(q) == bids.shape[1]\n",
    "\n",
    "        r, u, sw, nsw = run_epic_mechanism(q, bids[tid])\n",
    "        ideal_mech['epic'].append((r, u, sw, nsw, ))\n",
    "        r, u, sw, nsw = run_fair_mechanism(q, bids[tid])\n",
    "        ideal_mech['fair'].append((r, u, sw, nsw,))\n",
    "\n",
    "\n",
    "    all_eff.append(efficient_mech)\n",
    "    all_ideal.append(ideal_mech)\n"
   ]
  },
  {
   "cell_type": "markdown",
   "id": "fd8dbac6-8b00-4f33-81d0-bae661b33e19",
   "metadata": {},
   "source": [
    "### Ideal Mechanism\n",
    "In this mechanism, we define\n",
    "$$\n",
    "q_i = \\text{P}_\\eta(y_i | \\text{ad}_i).\n",
    "$$"
   ]
  },
  {
   "cell_type": "code",
   "execution_count": 103,
   "id": "95aa20bc-053f-417e-ae5c-b8e5960f6fa2",
   "metadata": {},
   "outputs": [],
   "source": [
    "prompt_id = 1"
   ]
  },
  {
   "cell_type": "code",
   "execution_count": 104,
   "id": "17c240be-3302-4f42-980f-7d5134dcfb66",
   "metadata": {},
   "outputs": [],
   "source": [
    "ideal = all_ideal[prompt_id]"
   ]
  },
  {
   "cell_type": "code",
   "execution_count": 105,
   "id": "23e4c739-bf44-4601-b997-f2cc645ff95f",
   "metadata": {},
   "outputs": [],
   "source": [
    "import matplotlib.pyplot as plt\n",
    "import seaborn as sns\n",
    "import pandas as pd"
   ]
  },
  {
   "cell_type": "code",
   "execution_count": 106,
   "id": "4493d44d-42cb-4c20-b16a-95cbbc951272",
   "metadata": {},
   "outputs": [],
   "source": [
    "metrics = [\"auctioneer revenue\", \"advertisers' utility\", 'social welfare', 'log of nash social welfare']"
   ]
  },
  {
   "cell_type": "code",
   "execution_count": 107,
   "id": "9de97ce6-d521-4fbb-a7b8-c85d04c59342",
   "metadata": {},
   "outputs": [],
   "source": [
    "epic = [0] * len(metrics)\n",
    "fair = [0] * len(metrics)"
   ]
  },
  {
   "cell_type": "code",
   "execution_count": 108,
   "id": "38ee980f-fdcf-46e5-8e88-d4381f53734e",
   "metadata": {},
   "outputs": [],
   "source": [
    "for m_id in range(len(metrics)):\n",
    "    epic[m_id] = [x[m_id] for x in ideal['epic']]\n",
    "    fair[m_id] = [x[m_id] for x in ideal['fair']]"
   ]
  },
  {
   "cell_type": "code",
   "execution_count": 109,
   "id": "82568ef3-9fd1-4ef4-9abc-e7977c8fc128",
   "metadata": {},
   "outputs": [
    {
     "data": {
      "image/png": "[encoded data removed]",
      "text/plain": [
       "<Figure size 640x480 with 4 Axes>"
      ]
     },
     "metadata": {},
     "output_type": "display_data"
    }
   ],
   "source": [
    "num_of_trials = 50\n",
    "fig, axs = plt.subplots(2, 2)\n",
    "plt.subplots_adjust(left=0.1, bottom=0.1, right=0.9, top=0.9, wspace=0.5,hspace=0.5)\n",
    "\n",
    "for m_id in range(4):\n",
    "    i = m_id // 2\n",
    "    j = m_id % 2\n",
    "    values = np.array(epic[m_id] + fair[m_id])\n",
    "    hues = ['EPIC'] * num_of_trials + ['FAIR'] * num_of_trials\n",
    "    \n",
    "    df = pd.DataFrame(data=list(zip(values, hues)), columns=[f'{metrics[m_id]}', 'Mechanism Type'])\n",
    "    \n",
    "    if m_id == 0:    \n",
    "        sns.histplot(data=df, x=metrics[m_id], hue='Mechanism Type', ax=axs[i, j])\n",
    "    else:\n",
    "        sns.histplot(data=df, x=metrics[m_id], hue='Mechanism Type', ax=axs[i, j], legend=False)\n",
    "        \n",
    "    axs[i, j].xaxis.set_tick_params(labelsize=7)\n",
    "    axs[i, j].yaxis.set_tick_params(labelsize=7)\n",
    "    axs[i, j].set_xlabel(metrics[m_id], fontsize=7)\n",
    "    axs[i, j].set_ylabel('count', fontsize=7)\n",
    "    axs[i, j].set_title(f'Metric: {metrics[m_id]} over {num_of_trials} trials.', fontsize=8)\n",
    "\n",
    "plt.tight_layout()\n",
    "plt.savefig(f'epic_vs_fair_ideal_prompt_{prompt_id}.pdf')\n",
    "plt.show()"
   ]
  },
  {
   "cell_type": "markdown",
   "id": "2a1f36c6-056a-4504-9eca-dd68cf6e45cf",
   "metadata": {},
   "source": [
    "### Efficient Mechanism\n",
    "In this mechanism, we define\n",
    "$$\n",
    "q_i = \\text{P}_\\eta(a_i | x).\n",
    "$$"
   ]
  },
  {
   "cell_type": "code",
   "execution_count": 110,
   "id": "3b4f8e66-4fbf-43db-86b7-aa74f0f1faf7",
   "metadata": {},
   "outputs": [],
   "source": [
    "eff = all_eff[prompt_id]"
   ]
  },
  {
   "cell_type": "code",
   "execution_count": 111,
   "id": "647552e6-a037-4144-a16c-19eedf9876a5",
   "metadata": {},
   "outputs": [],
   "source": [
    "for m_id in range(len(metrics)):\n",
    "    epic[m_id] = [x[m_id] for x in eff['epic']]\n",
    "    fair[m_id] = [x[m_id] for x in eff['fair']]"
   ]
  },
  {
   "cell_type": "code",
   "execution_count": 112,
   "id": "6f50f88d-1844-46c9-8202-ff5b861839aa",
   "metadata": {},
   "outputs": [
    {
     "data": {
      "image/png": "[encoded data removed]",
      "text/plain": [
       "<Figure size 640x480 with 4 Axes>"
      ]
     },
     "metadata": {},
     "output_type": "display_data"
    }
   ],
   "source": [
    "num_of_trials = 50\n",
    "fig, axs = plt.subplots(2, 2)\n",
    "plt.subplots_adjust(left=0.1, bottom=0.1, right=0.9, top=0.9, wspace=0.5,hspace=0.5)\n",
    "\n",
    "for m_id in range(4):\n",
    "    i = m_id // 2\n",
    "    j = m_id % 2\n",
    "    values = np.array(epic[m_id] + fair[m_id])\n",
    "    hues = ['EPIC'] * num_of_trials + ['FAIR'] * num_of_trials\n",
    "    \n",
    "    df = pd.DataFrame(data=list(zip(values, hues)), columns=[f'{metrics[m_id]}', 'Mechanism Type'])\n",
    "    \n",
    "    if m_id == 0:    \n",
    "        sns.histplot(data=df, x=metrics[m_id], hue='Mechanism Type', ax=axs[i, j])\n",
    "    else:\n",
    "        sns.histplot(data=df, x=metrics[m_id], hue='Mechanism Type', ax=axs[i, j], legend=False)\n",
    "        \n",
    "    axs[i, j].xaxis.set_tick_params(labelsize=7)\n",
    "    axs[i, j].yaxis.set_tick_params(labelsize=7)\n",
    "    axs[i, j].set_xlabel(metrics[m_id], fontsize=7)\n",
    "    axs[i, j].set_ylabel('count', fontsize=7)\n",
    "    axs[i, j].set_title(f'Metric: {metrics[m_id]} over {num_of_trials} trials.', fontsize=8)\n",
    "\n",
    "plt.tight_layout()\n",
    "plt.savefig(f'epic_vs_fair_efficient_prompt_{prompt_id}.pdf')\n",
    "plt.show()"
   ]
  },
  {
   "cell_type": "code",
   "execution_count": null,
   "id": "09c45ea9-83d1-4a8f-a2e9-88597785b33c",
   "metadata": {},
   "outputs": [],
   "source": []
  }
 ],
 "metadata": {
  "kernelspec": {
   "display_name": "Python 3 (ipykernel)",
   "language": "python",
   "name": "python3"
  },
  "language_info": {
   "codemirror_mode": {
    "name": "ipython",
    "version": 3
   },
   "file_extension": ".py",
   "mimetype": "text/x-python",
   "name": "python",
   "nbconvert_exporter": "python",
   "pygments_lexer": "ipython3",
   "version": "3.8.5"
  }
 },
 "nbformat": 4,
 "nbformat_minor": 5
}
