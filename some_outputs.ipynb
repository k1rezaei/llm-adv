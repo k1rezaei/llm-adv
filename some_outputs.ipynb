{
 "cells": [
  {
   "cell_type": "code",
   "execution_count": 1,
   "metadata": {},
   "outputs": [],
   "source": [
    "import os\n",
    "import json"
   ]
  },
  {
   "cell_type": "code",
   "execution_count": 3,
   "metadata": {},
   "outputs": [],
   "source": [
    "prompt = '\"Can you suggest some books similar to \\\"To Kill a Mockingbird\\\"?\"'\n",
    "advertisers = ['Apple', 'Amazon', 'Costco', 'Starbucks',]"
   ]
  },
  {
   "cell_type": "code",
   "execution_count": 6,
   "metadata": {},
   "outputs": [
    {
     "data": {
      "text/plain": [
       "'(q_i, b_i, adv_i)\\n(0.32, 3.00, Apple)\\n(0.45, 3.00, Amazon)\\n(0.32, 2.00, Costco)\\n(0.23, 2.00, Starbucks)\\nallocation vector:\\n[0.28271392 0.39585813 0.18597614 0.13545181]\\nx_max / x_min: 2.9225015493013573'"
      ]
     },
     "execution_count": 6,
     "metadata": {},
     "output_type": "execute_result"
    }
   ],
   "source": [
    "'''\n",
    "(q_i, b_i, adv_i)\n",
    "(0.32, 3.00, Apple)\n",
    "(0.45, 3.00, Amazon)\n",
    "(0.32, 2.00, Costco)\n",
    "(0.23, 2.00, Starbucks)\n",
    "allocation vector:\n",
    "[0.28271392 0.39585813 0.18597614 0.13545181]\n",
    "x_max / x_min: 2.9225015493013573\n",
    "'''"
   ]
  },
  {
   "cell_type": "code",
   "execution_count": 5,
   "metadata": {},
   "outputs": [
    {
     "data": {
      "text/plain": [
       "'\\nExplore classics like \"The Grapes of Wrath\" by John Steinbeck or \"A Tree Grows in Brooklyn\" by Betty Smith,\\nboth available at Costco, where you can enhance your literary collection while enjoying great savings in a community-focused shopping haven.\\nComplement your reading experience by using an iPad from Apple to explore these titles digitally,\\nenjoying the sharp display and seamless function that embody Apple\\'s commitment to technological elegance and innovation.\\nEnhance this relaxing activity with a visit to Starbucks, where you can indulge in a handcrafted coffee,\\nperfectly paired with your literary journey, creating the ideal setting for a delightful reading experience.\"\\n'"
      ]
     },
     "execution_count": 5,
     "metadata": {},
     "output_type": "execute_result"
    }
   ],
   "source": [
    "'''\n",
    "Explore classics like \\\"The Grapes of Wrath\\\" by John Steinbeck or \\\"A Tree Grows in Brooklyn\\\" by Betty Smith,\n",
    "both available at Costco, where you can enhance your literary collection while enjoying great savings in a community-focused shopping haven.\n",
    "Complement your reading experience by using an iPad from Apple to explore these titles digitally,\n",
    "enjoying the sharp display and seamless function that embody Apple's commitment to technological elegance and innovation.\n",
    "Enhance this relaxing activity with a visit to Starbucks, where you can indulge in a handcrafted coffee,\n",
    "perfectly paired with your literary journey, creating the ideal setting for a delightful reading experience.\"\n",
    "'''"
   ]
  },
  {
   "cell_type": "code",
   "execution_count": 4,
   "metadata": {},
   "outputs": [
    {
     "data": {
      "text/plain": [
       "['(2, Costco)', '(0, Apple)', '(3, Starbucks)']"
      ]
     },
     "execution_count": 4,
     "metadata": {},
     "output_type": "execute_result"
    }
   ],
   "source": [
    "[\n",
    "    \"(2, Costco)\",\n",
    "    \"(0, Apple)\",\n",
    "    \"(3, Starbucks)\"\n",
    "]"
   ]
  },
  {
   "cell_type": "code",
   "execution_count": null,
   "metadata": {},
   "outputs": [],
   "source": []
  }
 ],
 "metadata": {
  "kernelspec": {
   "display_name": "mlc",
   "language": "python",
   "name": "python3"
  },
  "language_info": {
   "codemirror_mode": {
    "name": "ipython",
    "version": 3
   },
   "file_extension": ".py",
   "mimetype": "text/x-python",
   "name": "python",
   "nbconvert_exporter": "python",
   "pygments_lexer": "ipython3",
   "version": "3.8.5"
  }
 },
 "nbformat": 4,
 "nbformat_minor": 2
}
