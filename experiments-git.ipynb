{
 "cells": [
  {
   "cell_type": "markdown",
   "metadata": {},
   "source": [
    "## Ad Auctions for LLMs via Retrieval Augmented Genearation\n",
    "\n",
    "Here is the outline of the experiments we plan to run on this notebook:\n",
    "\n",
    "1. Given a query $x$, we generate fictional advertisers $\\text{ad}_1, \\text{ad}_2, ..., \\text{ad}_n$ with their ads.\n",
    "2. We sample bids $b_1, b_2, ..., b_n$ from a lognormal distribution (mean and std of this should be adjusted w.r.t. values of $q_i$)\n",
    "3. We run different mechanism for this LLM query/ads configuration, *i.e.*, $(x, \\{ad_i\\}_{i=1}^{n}, \\{b_i\\}_{i=1}^{n}$.\n",
    "\n",
    "    + single-allocation segment auction with replacement\n",
    "    + single-allocation segment auction without replacement\n",
    "    + multi-allocation greedy mechanism\n",
    "    + naive (i) mechanism where $y = y_{\\text{orig}} + \\text{ad}_1 + \\text{ad}_2 + ... + \\text{ad}_k$\n",
    "    + naive (ii) mechanism where we run 2nd price auction in each round\n",
    "\n",
    "4. We run $N$ times each of the above mechanisms as they are randomized, we report the expectation of the following metrics:\n",
    "    + social welfare (sum of $v_{i_t} q_{i_t}$)\n",
    "    + revenue (sum of $p_{i_t}$)\n",
    "    + relevance (sum of $q_{i_t}$)\n",
    "    + output quality; we think of the following metrics\n",
    "        + distance of output including ad to the original output -- measures if the output including ad answers the query or not.\n",
    "        + we ask an off-the-shelf LLM to evaluate the output including ads has too much advertisement or not, probably asking it to rate from $1$ to $10$.\n",
    "        + we ask an off-the-shelf LLM to evaluate paragraphs are coherent or not, probably asking it to rate from $1$ to $10$.\n",
    "\n",
    "\n",
    "There are several design choices that we consider:\n",
    "+ How long each segment should be, we first run with a paragraph.\n",
    "+ dependant/independent segment auction\n",
    "+ distribution that $x_i$ (allocation vector) comes from. Since we use RAG-based aggregation function on bids to get the allocation vector, we need to control how this allocation vector looks like, *e.g.*, we were thinking of putting some ratio for $\\frac{x_{\\max}}{x_{\\min}}$.\n",
    "+ how many segments should we consider? we put $k=3$ in our experiments, this further gives us the results for $k = 1, 2$.\n",
    "+ design choices for multi-allocation greedy mechanism."
   ]
  },
  {
   "cell_type": "markdown",
   "metadata": {},
   "source": [
    "### GPT-4 API Access"
   ]
  },
  {
   "cell_type": "code",
   "execution_count": null,
   "metadata": {},
   "outputs": [],
   "source": [
    "from openai import OpenAI\n",
    "\n",
    "\n",
    "\n",
    "\n",
    "def query_to_chatgpt(prompt):\n",
    "    chat_completion_det = client.chat.completions.create(\n",
    "        messages = [\n",
    "            {\n",
    "                \"role\": \"user\",\n",
    "                \"content\": prompt\n",
    "            },\n",
    "            {\n",
    "                \"role\": \"assistant\",\n",
    "                \"content\": \"\"\n",
    "            }\n",
    "        ],\n",
    "        model = \"gpt-4-turbo\",\n",
    "        logprobs = False,\n",
    "        temperature = 1,\n",
    "        max_tokens = 200\n",
    "    )\n",
    "    return chat_completion_det.choices[0].message.content"
   ]
  },
  {
   "cell_type": "markdown",
   "metadata": {},
   "source": [
    "### Libraries"
   ]
  },
  {
   "cell_type": "code",
   "execution_count": null,
   "metadata": {},
   "outputs": [],
   "source": [
    "from sentence_transformers import SentenceTransformer, util\n",
    "from tqdm import tqdm\n",
    "import time\n",
    "import numpy as np\n",
    "import json\n",
    "from itertools import combinations_with_replacement"
   ]
  },
  {
   "cell_type": "markdown",
   "metadata": {},
   "source": [
    "### Models"
   ]
  },
  {
   "cell_type": "code",
   "execution_count": null,
   "metadata": {},
   "outputs": [],
   "source": [
    "model = SentenceTransformer('multi-qa-MiniLM-L6-cos-v1')"
   ]
  },
  {
   "cell_type": "markdown",
   "metadata": {},
   "source": [
    "### Initiating query and advertisers\n",
    "I borrow samples from the previous experiments we did -- we may need to generate fictional advertisers (ask Sebastien)."
   ]
  },
  {
   "cell_type": "code",
   "execution_count": 1,
   "metadata": {},
   "outputs": [],
   "source": [
    "prompt = 'How to activate Internationl Roaming?'\n",
    "advertisers = [\n",
    "    'AT&T', 'T-Mobile', 'Vodafone', 'Huawei',\n",
    "    'Apple', 'Samsung', 'LG', 'Sony',\n",
    "    'BMW', 'Costco', 'Starbucks', 'ALDI', 'Lidl',\n",
    "]\n",
    "prompt_for_adv = 'Give me a paragraph about {} so that I can use it to advertise this brand.'"
   ]
  },
  {
   "cell_type": "markdown",
   "metadata": {},
   "source": [
    "### Obtaining $\\text{ad}_i$ For All Advertisers\n",
    "\n",
    "Here, we use the `prompt_for_adv` above to get a paragraph describing each of the advertisers.\n",
    "Responses will generate a set of advertisements/documents that are used according to RAG to include advertisement within the output. Similar to what we had in paper denoted by: \n",
    "$$\\{\\text{ad}_1, \\text{ad}_2, ..., \\text{ad}_n\\}.$$"
   ]
  },
  {
   "cell_type": "code",
   "execution_count": null,
   "metadata": {},
   "outputs": [],
   "source": [
    "%%time\n",
    "ads = []\n",
    "for c in tqdm(advertisers):\n",
    "    ads.append(query_to_chatgpt(prompt_for_adv.format(c)))"
   ]
  },
  {
   "cell_type": "markdown",
   "metadata": {},
   "source": [
    "### Segment-wise RAG-based Output Modification"
   ]
  },
  {
   "cell_type": "code",
   "execution_count": 2,
   "metadata": {},
   "outputs": [],
   "source": [
    "prompt_to_init_answer = '''\n",
    "{} please respond to this question for only 1 paragraph while also advertise {} with this context:  \"{}\" \n",
    "Make sure to connect the answer and the advertisement very naturally, not something like appending the ads after just answering the question.\n",
    "Focus on answering the question, there shouldn't be too much advertisment in the output.\n",
    "Your output must be 1 paragraph.\n",
    "'''\n",
    "\n",
    "prompt_to_continue_answer = '''\n",
    "please answer the question \"{}\" by continuing this response \"{}\". please write only 1 paragraph while also advertise {} with this context:  \"{}\" \n",
    "Make sure to connect the answer and the advertisement very naturally, not something like appending the ads after just answering the question.\n",
    "Focus on answering the question, there shouldn't be too much advertisment in the output. Ads should be minimal.\n",
    "Your output must be 1 paragraph.\n",
    "'''\n",
    "\n",
    "prompt_to_init_multi_ad_k3 = '''\n",
    "{} please respond to this question for only 1 paragraph while minimally advertise {}, {}, and {} with these three contexts:  1) \"{}\" \\n 2) \"{}\" \\n 3) \"{}\".\n",
    "Make sure that you advertise all of them and connect the answer and the advertisement very naturally, not something like appending the ads after just answering the question.\n",
    "Focus on answering the question, there shouldn't be too much advertisment in the output.\n",
    "Your output must be 1 paragraph.\n",
    "'''\n",
    "\n",
    "prompt_to_continue_multi_ad_k3 = '''\n",
    "please answer the question \"{}\" by continuing this response \"{}\". write only 1 paragraph while minimally advertise {}, {}, and {} with these three contexts:  1) \"{}\" \\n 2) \"{}\" \\n 3) \"{}\".\n",
    "Make sure that you advertise all of them and connect the answer and the advertisement very naturally, not something like appending the ads after just answering the question.\n",
    "Focus on answering the question, there shouldn't be too much advertisment in the output.\n",
    "Your output must be 1 paragraph.\n",
    "'''\n",
    "\n",
    "prompt_to_init_multi_ad_k2 = '''\n",
    "{} please respond to this question for only 1 paragraph while minimally advertise {} and {} with these two contexts:  1) \"{}\" \\n 2) \"{}\".\n",
    "Make sure that you advertise both of them and connect the answer and the advertisement very naturally, not something like appending the ads after just answering the question.\n",
    "Focus on answering the question, there shouldn't be too much advertisment in the output.\n",
    "Your output must be 1 paragraph.\n",
    "'''\n",
    "\n",
    "prompt_to_continue_multi_ad_k2 = '''\n",
    "please answer the question \"{}\" by continuing this response \"{}\". write only 1 paragraph while minimally advertise {} and {} with these two contexts:  1) \"{}\" \\n 2) \"{}\".\n",
    "Make sure that you advertise both of them and connect the answer and the advertisement very naturally, not something like appending the ads after just answering the question.\n",
    "Focus on answering the question, there shouldn't be too much advertisment in the output.\n",
    "Your output must be 1 paragraph.\n",
    "'''\n",
    "\n",
    "prompt_to_init_multi_ad_k1 = '''\n",
    "{} please respond to this question for only 1 paragraph while also advertise {} with this context:  \"{}\" \n",
    "Make sure to connect the answer and the advertisement very naturally, not something like appending the ads after just answering the question.\n",
    "Focus on answering the question, there shouldn't be too much advertisment in the output.\n",
    "Your output must be 1 paragraph.\n",
    "'''\n",
    "\n",
    "prompt_to_continue_multi_ad_k1 = '''\n",
    "{} please respond to this question while also advertise {} with this context:  \"{}\" \n",
    "Make sure to connect the answer and the advertisement very naturally, not something like appending the ads after just answering the question.\n",
    "Focus on answering the question, there shouldn't be too much advertisment in the output. Ads should be minimal.\n",
    "Your output must be 1 paragraph.\n",
    "'''"
   ]
  },
  {
   "cell_type": "markdown",
   "metadata": {},
   "source": [
    "### Segment-wise Generation\n",
    "At each segment, we ask LLM to continue its response for prompt $x$ while including ad from the advertiser who has won this round of auction."
   ]
  },
  {
   "cell_type": "code",
   "execution_count": null,
   "metadata": {},
   "outputs": [],
   "source": [
    "def segment_based_RAG_generation(prompt: str, advertiser: str, ad: str, curr_y=None):\n",
    "    if curr_y is None:\n",
    "        curr_y = query_to_chatgpt(prompt_to_init_answer.format(prompt, advertiser, ad))\n",
    "    else:\n",
    "        curr_y += '\\n' + query_to_chatgpt(prompt_to_continue_answer.format(prompt, curr_y, advertiser, ad))\n",
    "    return curr_y"
   ]
  },
  {
   "cell_type": "code",
   "execution_count": null,
   "metadata": {},
   "outputs": [],
   "source": [
    "def segment_based_multi_ad_generation(prompt: str, advertisers: list, ads: str, curr_y=None):\n",
    "    if len(advertisers) == 1:\n",
    "        if curr_y is None:\n",
    "            curr_y = query_to_chatgpt(prompt_to_init_multi_ad_k1.format(prompt, advertisers[0], ads[0]))\n",
    "        else:\n",
    "            curr_y += '\\n' + query_to_chatgpt(prompt_to_init_multi_ad_k1.format(prompt, curr_y, advertisers[0], ads[0]))\n",
    "        \n",
    "    elif len(advertisers) == 2:\n",
    "        if curr_y is None:\n",
    "            curr_y = query_to_chatgpt(prompt_to_init_multi_ad_k2.format(prompt, advertisers[0], advertisers[1], ads[0], ads[1]))\n",
    "        else:\n",
    "            curr_y += '\\n' + query_to_chatgpt(prompt_to_init_multi_ad_k2.format(prompt, curr_y, advertisers[0], advertisers[1], ads[0], ads[1]))\n",
    "    elif len(advertisers) == 3:\n",
    "        if curr_y is None:\n",
    "            curr_y = query_to_chatgpt(prompt_to_init_multi_ad_k2.format(prompt, advertisers[0], advertisers[1], advertisers[2], ads[0], ads[1], ads[2]))\n",
    "        else:\n",
    "            curr_y += '\\n' + query_to_chatgpt(prompt_to_init_multi_ad_k2.format(prompt, curr_y, advertisers[0], advertisers[1], advertisers[2], ads[0], ads[1], ads[2]))\n",
    "    else:\n",
    "        assert 1 == 0\n",
    "        \n",
    "    return curr_y    "
   ]
  },
  {
   "cell_type": "markdown",
   "metadata": {},
   "source": [
    "### Relevance Measure\n",
    "\n",
    "Below code finds $\\text{P}_{\\eta}\\left[\\text{ad}_i\\ |\\ x\\right]$ using embedding space of `SentenceTransformer`."
   ]
  },
  {
   "cell_type": "code",
   "execution_count": null,
   "metadata": {},
   "outputs": [],
   "source": [
    "def rag_based_relevance(x: str, ads: list):\n",
    "    pass"
   ]
  },
  {
   "cell_type": "markdown",
   "metadata": {},
   "source": [
    "### Metrics\n",
    "\n",
    "We compare different mechanisms w.r.t below metrics. For an auction with $k$ segments, they are defined as follows:\n",
    "$$\\begin{align*}\n",
    "    \\texttt{Revenue}:& \\sum_{t=1}^{k} p_{i_t} \\\\\n",
    "    \\texttt{Social Welfare}:& \\sum_{t=1}^{k} v_{i_t} q_{i_t} \\\\\n",
    "    \\texttt{Relevance}:& \\sum_{t=1}^{k} q_{i_t} \\\\\n",
    "\\end{align*}$$\n"
   ]
  },
  {
   "cell_type": "code",
   "execution_count": 3,
   "metadata": {},
   "outputs": [],
   "source": [
    "SOCIAL_WELFARE = 'social_welfare'\n",
    "REVENUE = 'revenue'\n",
    "RELEVANCE = 'relevance'\n",
    "OUTPUT = 'output'"
   ]
  },
  {
   "cell_type": "code",
   "execution_count": 4,
   "metadata": {},
   "outputs": [],
   "source": [
    "def init_metrics():\n",
    "    return {\n",
    "        SOCIAL_WELFARE: [],\n",
    "        REVENUE: [],\n",
    "        RELEVANCE: [],\n",
    "        OUTPUT: [],\n",
    "    }\n",
    "\n",
    "def update_metrics(metrics: dict, payment: float, value: float, rel: float, output: str):\n",
    "    metrics[REVENUE].append(payment)\n",
    "    metrics[SOCIAL_WELFARE].append(value * rel)\n",
    "    metrics[RELEVANCE].append(rel)\n",
    "    metrics[OUTPUT].append(output)"
   ]
  },
  {
   "cell_type": "markdown",
   "metadata": {},
   "source": [
    "### Running Auction\n",
    "\n",
    "We adjust bids $\\{b_i\\}_{i=1}^{n}$ according to scores coming from RAG, *i.e.*, $q_i$. This is implemented using pages 4 and 5 of the draft."
   ]
  },
  {
   "cell_type": "code",
   "execution_count": null,
   "metadata": {},
   "outputs": [],
   "source": [
    "def randomized_selection(q: np.ndarray, b: np.ndarray):\n",
    "    adjusted_bids = (q * b) / np.dot(q, b)\n",
    "    n = b.shape[0] # number of ads\n",
    "    \n",
    "    k , u = None, np.random.uniform()\n",
    "    \n",
    "    for i in range(n):\n",
    "        W_i = (np.sum(adjusted_bids[: i]), np.sum(adjusted_bids[:, i+1]))\n",
    "        if W_i[0] <= u <= W_i[1]:\n",
    "            k = i\n",
    "    \n",
    "    all_other_than_k = np.sum(adjusted_bids) - adjusted_bids[k]\n",
    "    aux_value = (np.sum(adjusted_bids[:k])) / all_other_than_k\n",
    "    \n",
    "    if aux_value >= u:\n",
    "        payment = (np.sum(adjusted_bids[:k]) - u * all_other_than_k) / (u * q[k])\n",
    "    else:\n",
    "        payment = (np.sum(adjusted_bids[:k]) - u * all_other_than_k) / ((u - 1) * q[k])\n",
    "    \n",
    "    return k, payment\n",
    "        "
   ]
  },
  {
   "cell_type": "markdown",
   "metadata": {},
   "source": [
    "### Mechanisms\n",
    "+ single-allocation segment auction with replacement\n",
    "+ single-allocation segment auction without replacement\n",
    "+ multi-allocation greedy mechanism\n",
    "+ naive (i) mechanism where $y = y_{\\text{orig}} + \\text{ad}_1 + \\text{ad}_2 + ... + \\text{ad}_k$\n",
    "+ naive (ii) mechanism where we run 2nd price auction in each round\n",
    "\n",
    "For each of these mechanisms, we need to have a set of bids $\\{b_i\\}_{i=1}^{n}$ from all advertisers, as well as RAG-based relevancy metric $q_i^{(t)}$. We compute RAG-based relevancy by measuring the similarity of current generated response (or query $x$) with ads (documents). Mechanism is run for $k$ iterations. We store metrics meanwhile that are later reported as properties of different mechanisms."
   ]
  },
  {
   "cell_type": "code",
   "execution_count": null,
   "metadata": {},
   "outputs": [],
   "source": [
    "def single_allocation_with_replacement(\n",
    "    prompt: str,\n",
    "    advertisers: list,\n",
    "    ads: list, \n",
    "    bids: np.ndarray,\n",
    "    num_of_segments: int,\n",
    "    dependent: bool = False):\n",
    "    \n",
    "    curr, v = '', bids\n",
    "    metrics = init_metrics()\n",
    "    \n",
    "    for t in range(num_of_segments):\n",
    "        q = rag_based_relevance(prompt + '\\n' + curr if dependent else prompt, ads, )\n",
    "        k, payment = randomized_selection(q, bids)\n",
    "        # curr = segment_based_RAG_generation(prompt=prompt, advertiser=advertisers[k], ad=ads[k], curr_y=curr)\n",
    "        # TODO: We ignore abobe line for now as we only care about metrics irrelevant to output.\n",
    "        update_metrics(metrics, payment, v[k], q[k], curr)\n",
    "    \n",
    "    return metrics, curr\n",
    "            \n",
    "    "
   ]
  },
  {
   "cell_type": "code",
   "execution_count": null,
   "metadata": {},
   "outputs": [],
   "source": [
    "def single_allocation_without_replacement(\n",
    "    prompt: str,\n",
    "    advertisers: list,\n",
    "    ads: list, \n",
    "    bids: np.ndarray,\n",
    "    num_of_segments: int,\n",
    "    dependent: bool = False):\n",
    "    \n",
    "    curr, v = '', bids\n",
    "    metrics = init_metrics()\n",
    "    selected_ads = np.zeros(n) # keep track of ads that are selected in previous rounds of auction.\n",
    "    \n",
    "    for t in range(num_of_segments):\n",
    "        q = rag_based_relevance(prompt + '\\n' + curr if dependent else prompt, ads, )\n",
    "        k, payment = randomized_selection(q, bids)\n",
    "        assert selected_ads[k] == 0 # shouldn't have been selected before.\n",
    "        # curr = segment_based_RAG_generation(prompt=prompt, advertiser=advertisers[k], ad=ads[k], curr_y=curr)\n",
    "        # TODO: We ignore abobe line for now as we only care about metrics irrelevant to output.\n",
    "        selected_ads[k] = 1 # k is winner\n",
    "        bids[k] = 0 # never gonna be winner again\n",
    "        update_metrics(metrics, payment, v[k], q[k], curr)        \n",
    "    \n",
    "    return metrics, curr\n",
    "            \n",
    "    "
   ]
  },
  {
   "cell_type": "code",
   "execution_count": null,
   "metadata": {},
   "outputs": [],
   "source": [
    "def single_allocation_naive_i(\n",
    "    prompt: str,\n",
    "    advertisers: list,\n",
    "    ads: list, \n",
    "    bids: np.ndarray,\n",
    "    num_of_segments: int,\n",
    "    dependent: bool = False):\n",
    "    \n",
    "    curr, v = '', bids\n",
    "    metrics = init_metrics()\n",
    "    \n",
    "    for t in range(num_of_segments):\n",
    "        q = rag_based_relevance(prompt + '\\n' + curr if dependent else prompt, ads, )\n",
    "        k, payment = randomized_selection(q, bids)\n",
    "        curr = curr + ads[k]\n",
    "        update_metrics(metrics, payment, v[k], q[k], curr)\n",
    "        \n",
    "    return metrics, curr\n",
    "    "
   ]
  },
  {
   "cell_type": "code",
   "execution_count": null,
   "metadata": {},
   "outputs": [],
   "source": [
    "def single_allocation_naive_ii(\n",
    "    prompt: str,\n",
    "    advertisers: list,\n",
    "    ads: list, \n",
    "    bids: np.ndarray,\n",
    "    num_of_segments: int,\n",
    "    dependent: bool = False):\n",
    "    \n",
    "    curr, v = '', bids\n",
    "    metrics = init_metrics()\n",
    "\n",
    "    for t in range(num_of_segments):\n",
    "        q = rag_based_relevance(prompt + '\\n' + curr if dependent else prompt, ads, )\n",
    "        k, payment = randomized_selection(np.ones(bids.shape[0]), bids) # removing the effect of RAG -- second price auction\n",
    "        # curr = segment_based_RAG_generation(prompt=prompt, advertiser=advertisers[k], ad=ads[k], curr_y=curr)\n",
    "        # TODO: We ignore abobe line for now as we only care about metrics irrelevant to output.\n",
    "        update_metrics(metrics, payment, v[k], q[k], curr)\n",
    "        \n",
    "    return metrics, curr\n",
    "    "
   ]
  },
  {
   "cell_type": "code",
   "execution_count": null,
   "metadata": {},
   "outputs": [],
   "source": [
    "prompt_to_add_adv_k_2 = '''\n",
    "{} please respond to this question for 1 paragraph while minimally advertise {} and {} with these two contexts:  1) \"{}\" \\n 2) \"{}\".\n",
    "Make sure that you advertise both of them and connect the answer and the advertisement very naturally, not something like appending the ads after just answering the question.\n",
    "'''\n",
    "\n",
    "prompt_to_add_adv_k_1 = '''\n",
    "{} please respond to this question for 1 paragraph while also advertise {} with this context:  \"{}\". Make sure to connect the answer and the advertisement very naturally, not something like appending the ads after just answering the question.\n",
    "'''"
   ]
  },
  {
   "cell_type": "code",
   "execution_count": null,
   "metadata": {},
   "outputs": [],
   "source": [
    "def get_relevency(y: str, A: list, ads: list):\n",
    "    y_embedding = model.encode(y)\n",
    "    ads_embedding = model.encode([ads[ad] for ad in A])\n",
    "    return util.dot_score(y_embedding, ads_embedding)[0].numpy()\n",
    "    "
   ]
  },
  {
   "cell_type": "code",
   "execution_count": null,
   "metadata": {},
   "outputs": [],
   "source": [
    "def multi_allocation_greedy(\n",
    "    prompt: str,\n",
    "    advertisers: list,\n",
    "    ads: list, \n",
    "    bids: np.ndarray,\n",
    "    num_of_segments: int,\n",
    "    num_of_ads_in_each_segment: int):\n",
    "    \n",
    "    curr, v, n = '', bids, bids.shape[0]\n",
    "    metrics = init_metrics()\n",
    "    \n",
    "    \n",
    "    \n",
    "    for t in range(num_of_segments):\n",
    "        A = []\n",
    "        \n",
    "        while len(A) < num_of_ads_in_each_segment:\n",
    "            adjusted_bids = np.zeros(n)\n",
    "            for i in tqdm(range(n)):\n",
    "                if i in A:\n",
    "                    continue\n",
    "            \n",
    "                A_i = A + [i]\n",
    "                y_A_i = segment_based_multi_ad_generation(prompt=prompt, advertisers=[advertisers[j] for j in A_i], ads=[ads[j] for j in A_i], curr_y=curr)\n",
    "                \n",
    "                q_A_i = get_relevency(y_A_i, A_i, ads)\n",
    "                adjusted_bids[i] = np.dot(q_A_i, bids[np.array(A_i)])\n",
    "                \n",
    "            \n",
    "            i_star = np.argmax(adjusted_bids)\n",
    "            A = A + [i_star]\n",
    "        \n",
    "        y_A = segment_based_multi_ad_generation(prompt=prompt, advertisers=[advertisers[j] for j in A], ads=[ads[j] for j in A], curr_y=curr)\n",
    "        q_A = get_relevency(y_A, A, ads)\n",
    "        \n",
    "        metrics[OUTPUT].append(y_A)\n",
    "        metrics[SOCIAL_WELFARE].append(np.dot(q_A, bids[np.array(A)]))\n",
    "        metrics[RELEVANCE].append(np.sum(q_A))\n",
    "        curr = curr + '\\n' + y_A\n",
    "    \n",
    "    return metrics, curr"
   ]
  }
 ],
 "metadata": {
  "kernelspec": {
   "display_name": "mlc",
   "language": "python",
   "name": "python3"
  },
  "language_info": {
   "codemirror_mode": {
    "name": "ipython",
    "version": 3
   },
   "file_extension": ".py",
   "mimetype": "text/x-python",
   "name": "python",
   "nbconvert_exporter": "python",
   "pygments_lexer": "ipython3",
   "version": "3.8.5"
  }
 },
 "nbformat": 4,
 "nbformat_minor": 2
}
