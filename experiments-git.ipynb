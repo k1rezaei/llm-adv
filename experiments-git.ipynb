{
 "cells": [
  {
   "cell_type": "markdown",
   "metadata": {},
   "source": [
    "## Ad Auctions for LLMs via Retrieval Augmented Genearation\n",
    "\n",
    "Here is the outline of the experiments we plan to run on this notebook:\n",
    "\n",
    "1. Given a query $x$, we generate fictional advertisers $\\text{ad}_1, \\text{ad}_2, ..., \\text{ad}_n$ with their ads.\n",
    "2. We sample bids $b_1, b_2, ..., b_n$ from a lognormal distribution (mean and std of this should be adjusted w.r.t. values of $q_i$)\n",
    "3. We run different mechanism for this LLM query/ads configuration, *i.e.*, $(x, \\{ad_i\\}_{i=1}^{n}, \\{b_i\\}_{i=1}^{n}$.\n",
    "\n",
    "    + single-allocation segment auction with replacement\n",
    "    + single-allocation segment auction without replacement\n",
    "    + multi-allocation greedy mechanism\n",
    "    + naive (i) mechanism where $y = y_{\\text{orig}} + \\text{ad}_1 + \\text{ad}_2 + ... + \\text{ad}_k$\n",
    "    + naive (ii) mechanism where we run 2nd price auction in each round\n",
    "\n",
    "4. We run $N$ times each of the above mechanisms as they are randomized, we report the expectation of the following metrics:\n",
    "    + social welfare (sum of $v_{i_t} q_{i_t}$)\n",
    "    + revenue (sum of $p_{i_t}$)\n",
    "    + relevance (sum of $q_{i_t}$)\n",
    "    + output quality; we think of the following metrics\n",
    "        + distance of output including ad to the original output -- measures if the output including ad answers the query or not.\n",
    "        + we ask an off-the-shelf LLM to evaluate the output including ads has too much advertisement or not, probably asking it to rate from $1$ to $10$.\n",
    "        + we ask an off-the-shelf LLM to evaluate paragraphs are coherent or not, probably asking it to rate from $1$ to $10$.\n",
    "\n",
    "\n",
    "There are several design choices that we consider:\n",
    "+ How long each segment should be, we first run with a paragraph.\n",
    "+ dependant/independent segment auction\n",
    "+ distribution that $x_i$ (allocation vector) comes from. Since we use RAG-based aggregation function on bids to get the allocation vector, we need to control how this allocation vector looks like, *e.g.*, we were thinking of putting some ratio for $\\frac{x_{\\max}}{x_{\\min}}$.\n",
    "+ how many segments should we consider? we put $k=3$ in our experiments, this further gives us the results for $k = 1, 2$.\n",
    "+ design choices for multi-allocation greedy mechanism."
   ]
  },
  {
   "cell_type": "markdown",
   "metadata": {},
   "source": [
    "### GPT-4 API Access"
   ]
  },
  {
   "cell_type": "code",
   "execution_count": 1,
   "metadata": {},
   "outputs": [],
   "source": [
    "from openai import OpenAI\n",
    "\n",
    "def query_to_chatgpt(prompt):\n",
    "    chat_completion_det = client.chat.completions.create(\n",
    "        messages = [\n",
    "            {\n",
    "                \"role\": \"user\",\n",
    "                \"content\": prompt\n",
    "            },\n",
    "            {\n",
    "                \"role\": \"assistant\",\n",
    "                \"content\": \"\"\n",
    "            }\n",
    "        ],\n",
    "        model = \"gpt-4-turbo\",\n",
    "        logprobs = False,\n",
    "        temperature = 1,\n",
    "        max_tokens = 200\n",
    "    )\n",
    "    return chat_completion_det.choices[0].message.content"
   ]
  },
  {
   "cell_type": "markdown",
   "metadata": {},
   "source": [
    "### Libraries"
   ]
  },
  {
   "cell_type": "code",
   "execution_count": 2,
   "metadata": {},
   "outputs": [],
   "source": [
    "from sentence_transformers import SentenceTransformer, util\n",
    "from tqdm import tqdm\n",
    "import time\n",
    "import numpy as np\n",
    "import json\n",
    "from itertools import combinations_with_replacement"
   ]
  },
  {
   "cell_type": "markdown",
   "metadata": {},
   "source": [
    "### Models"
   ]
  },
  {
   "cell_type": "code",
   "execution_count": 3,
   "metadata": {},
   "outputs": [],
   "source": [
    "model = SentenceTransformer('multi-qa-MiniLM-L6-cos-v1')"
   ]
  },
  {
   "cell_type": "markdown",
   "metadata": {},
   "source": [
    "### Initiating query and advertisers\n",
    "I borrow samples from the previous experiments we did -- we may need to generate fictional advertisers (ask Sebastien)."
   ]
  },
  {
   "cell_type": "code",
   "execution_count": 4,
   "metadata": {},
   "outputs": [],
   "source": [
    "prompt = 'How to activate Internationl Roaming?'\n",
    "advertisers = [\n",
    "    'AT&T', 'T-Mobile', 'Vodafone', 'Huawei',\n",
    "    'Apple', 'Samsung', 'LG', 'Sony',\n",
    "    'BMW', 'Costco', 'Starbucks', 'ALDI', 'Lidl',\n",
    "]\n",
    "prompt_for_adv = 'Give me a paragraph about {} so that I can use it to advertise this brand.'"
   ]
  },
  {
   "cell_type": "markdown",
   "metadata": {},
   "source": [
    "### Obtaining $\\text{ad}_i$ For All Advertisers\n",
    "\n",
    "Here, we use the `prompt_for_adv` above to get a paragraph describing each of the advertisers.\n",
    "Responses will generate a set of advertisements/documents that are used according to RAG to include advertisement within the output. Similar to what we had in paper denoted by: \n",
    "$$\\{\\text{ad}_1, \\text{ad}_2, ..., \\text{ad}_n\\}.$$"
   ]
  },
  {
   "cell_type": "code",
   "execution_count": 5,
   "metadata": {},
   "outputs": [
    {
     "name": "stderr",
     "output_type": "stream",
     "text": [
      "100%|██████████| 13/13 [01:43<00:00,  7.97s/it]"
     ]
    },
    {
     "name": "stdout",
     "output_type": "stream",
     "text": [
      "CPU times: user 128 ms, sys: 15.1 ms, total: 143 ms\n",
      "Wall time: 1min 43s\n"
     ]
    },
    {
     "name": "stderr",
     "output_type": "stream",
     "text": [
      "\n"
     ]
    }
   ],
   "source": [
    "%%time\n",
    "ads = []\n",
    "for c in tqdm(advertisers):\n",
    "    ads.append(query_to_chatgpt(prompt_for_adv.format(c)))"
   ]
  },
  {
   "cell_type": "code",
   "execution_count": 8,
   "metadata": {},
   "outputs": [
    {
     "data": {
      "text/plain": [
       "[\"Experience the power of connection with AT&T, America's reliable network. Whether you're calling your loved ones, streaming your favorite series, or managing your business remotely, AT&T provides seamless service and cutting-edge technology to keep you connected in more places. With our fast 5G speeds, comprehensive coverage, and a range of flexible plans tailored to fit your needs, AT&T ensures that every call is clear and every connection is strong. Join millions who trust AT&T to stay connected to the world around them — because with AT&T, it's not just about communication; it's about connecting with confidence.\",\n",
       " \"Experience the power of connectivity with T-Mobile, the leader in 5G technology. At T-Mobile, we're committed to providing the best mobile experience, with lightning-fast speeds, unparalleled reliability, and nationwide coverage that keeps you connected wherever you go. Whether you're streaming, browsing, gaming, or just staying in touch with loved ones, T-Mobile ensures a smooth, uninterrupted mobile experience. With award-winning customer service and plans customized to fit your needs, T-Mobile doesn't just promise exceptional service and value — we deliver it. Join the network that puts you first. Join T-Mobile today and unlock the potential of mobile technology.\",\n",
       " \"Experience the future of connectivity with Vodafone! As a global leader in telecommunications, Vodafone offers innovative solutions that connect over 300 million people worldwide. With a commitment to providing unmatched customer service and high-speed network performance, Vodafone empowers you to stay in touch with friends and family, stream your favorite content, and grow your business with ease. Whether you're looking for the latest smartphones, competitive data plans, or reliable broadband, Vodafone has you covered. Join the millions who trust Vodafone to keep them connected to what matters most.\",\n",
       " \"Explore the world of Huawei — a global leader in technology-driven solutions that are designed to enhance your lifestyle at every turn. With a steadfast commitment to innovation, Huawei offers a wide array of products including cutting-edge smartphones, tablets, wearables, and broadband devices. Each product is crafted with precision, utilizing exceptional materials and the latest technology to deliver performance and reliability. Whether you're capturing life's moments with a Leica camera-equipped smartphone or staying connected in the most remote locations, Huawei's devices are built to elevate your technology experience. Choose Huawei and embrace the future of communication and technology today.\",\n",
       " 'Experience innovation and sophistication with Apple, a global leader in technology. Apple stands at the forefront of design and functionality, offering a wide range of products from the advanced iPhone, the versatile iPad, and the powerful Mac, to the health-focused Apple Watch and the immersive audio experience of AirPods. Known for its cutting-edge technology and high-quality aesthetics, Apple not only continually evolves to meet consumer needs but also sets the trends in the tech industry. Join millions of satisfied users worldwide who trust Apple to stay connected, productive, and entertained.',\n",
       " \"Discover the innovative world of Samsung! As a global leader in technology, Samsung offers cutting-edge electronics designed to enhance your life. From the sleek and powerful Galaxy smartphones to ultra-high-definition smart TVs, cutting-edge home appliances, and beyond, Samsung is synonymous with quality and innovation. Each product is crafted with the future in mind, packed with features that deliver convenience and efficiency. Whether you're looking for a world-class entertainment experience, user-friendly gadgets, or home devices that integrate seamlessly into your daily life, Samsung is dedicated to pushing the boundaries of what technology can do for you. Choose Samsung, and step into a whole new era of digital brilliance.\",\n",
       " 'Step into the future with LG, a global leader in technology and innovation. With a commitment to delivering quality and cutting-edge technology, LG offers a diverse range of products designed to enrich your life. From stunning OLED TVs that redefine visual experience, efficient home appliances that streamline household tasks, to smart mobile devices and groundbreaking IT products, LG is at the forefront of technological advancement. With LG, experience reliability and creativity in solutions that enhance convenience and bring you closer to the future. Choose LG, and elevate your standard of living with products that are not only sophisticated but also tailored to meet your modern demands.',\n",
       " \"Elevate your entertainment experience with Sony, a global leader in electronics and entertainment that delivers cutting-edge technology and groundbreaking innovations. Whether you're enjoying your favorite films on a high-definition Sony TV, capturing precious moments with a state-of-the-art Sony camera, or immersing yourself in thrilling soundscapes with Sony audio devices, you're guaranteed top-tier quality and performance. Sony products are crafted with an unmatched attention to detail and a relentless pursuit of perfection, ensuring superior user experiences that connect you to the future of digital entertainment. Choose Sony and step into a world where technology meets artistry, creating unforgettable moments every day.\",\n",
       " \"Unleash sheer driving pleasure with BMW, a brand distinguished by its commitment to exceptional quality and innovative technology. Known globally for its luxurious design and superior engineering, BMW stands as a hallmark of performance, durability, and safety. Whether it's the sleek allure of the Series models or the powerful grace of the X series SUVs, each BMW vehicle is crafted to elevate every journey. Experience the ultimate driving machine that combines aesthetic elegance with dynamic capability, ensuring every road beckons with promise and excitement. Choose BMW, and drive into a world where limits are redefined and every drive is an indulgence.\",\n",
       " \"Experience the joy of shopping at Costco, where premium quality meets exceptional value. As a trusted leader in warehouse club membership, Costco offers a wide array of products ranging from fresh organic produce and high-end electronics to designer apparel and gourmet food items, all at incredible wholesale prices. Our members enjoy exclusive savings on top-tier products, ensuring a satisfying shopping experience with unbeatable deals. Additionally, Costco is committed to sustainability and consistently seeks ways to provide environmentally friendly products. Experience the Costco difference today - where every visit is more than just shopping; it's a journey to discover quality and value beyond compare.\",\n",
       " \"Starbucks is more than just a coffee company; it's an experience that connects millions daily. Step into any Starbucks location and immerse yourself in the inviting aromas of freshly brewed coffees and exquisite teas, offering both classic and innovative blends tailored to suit every taste. Known for its welcoming atmosphere, Starbucks provides the perfect backdrop for catching up with friends, tackling work outside of the office, or simply enjoying a moment to oneself. With a commitment to ethically sourced beans and a menu crafted to cater to all dietary preferences including vegan and gluten-free options, Starbucks is dedicated to serving not just beverages, but a broader community ethos. Discover why Starbucks is a worldwide favorite – where every sip is a step towards a more connected, inspired world.\",\n",
       " \"Discover the joy of shopping at ALDI, where quality meets affordability! At ALDI, we take pride in curating a selection of high-quality products that don't break the bank. From fresh produce sourced from local farmers to our exclusive brands that cover everything from organic foods to gluten-free options, ALDI is dedicated to sustainability and your health. Our easy-to-navigate stores and efficient shopping model minimize overhead costs, allowing us to pass the savings directly to you. Experience unbeatable value, exceptional customer service, and a genuinely delightful shopping experience only at ALDI. Why pay more for premium quality when ALDI brings it to you for less? Shop with us today and smartly save on your groceries every time!\",\n",
       " \"Experience quality, affordability, and convenience like never before at Lidl! From our unique selection of high-quality groceries and exclusive brands to our fresh produce delivered daily, Lidl goes beyond expectations to offer premium products at low prices. Whether you're planning a gourmet meal or shopping for everyday essentials, our easy-to-navigate stores and friendly staff ensure a seamless shopping experience. Discover why millions trust Lidl as their go-to supermarket for incredible value and exceptional goods. Shop at Lidl today — where quality meets affordability!\"]"
      ]
     },
     "execution_count": 8,
     "metadata": {},
     "output_type": "execute_result"
    }
   ],
   "source": [
    "ads"
   ]
  },
  {
   "cell_type": "markdown",
   "metadata": {},
   "source": [
    "### Segment-wise RAG-based Output Modification"
   ]
  },
  {
   "cell_type": "code",
   "execution_count": 50,
   "metadata": {},
   "outputs": [],
   "source": [
    "prompt_to_init_answer = '''\n",
    "{} please respond to this question for only 1 paragraph while also advertise {} with this context:  \"{}\" \n",
    "Make sure to connect the answer and the advertisement very naturally, not something like appending the ads after just answering the question.\n",
    "Focus on answering the question, there shouldn't be too much advertisment in the output.\n",
    "Your output must be 1 paragraph, 4 sentences please.\n",
    "'''\n",
    "\n",
    "prompt_to_continue_answer = '''\n",
    "please answer the question \"{}\" by continuing your response \"{}\". please write only 1 paragraph while also advertise {} with this context:  \"{}\" \n",
    "Make sure to connect the answer and the advertisement very naturally, not something like appending the ads after just answering the question.\n",
    "Focus on answering the question, there shouldn't be too much advertisment in the output. Ads should be minimal.\n",
    "Your output must be 1 paragraph, 4 sentences please.\n",
    "'''\n",
    "\n",
    "prompt_to_init_multi_ad_k3 = '''\n",
    "{} please respond to this question for only 1 paragraph while minimally advertise {}, {}, and {} with these three contexts:  1) \"{}\" \\n 2) \"{}\" \\n 3) \"{}\".\n",
    "Make sure that you advertise all of them and connect the answer and the advertisement very naturally, not something like appending the ads after just answering the question.\n",
    "Focus on answering the question, there shouldn't be too much advertisment in the output.\n",
    "Your output must be 1 paragraph.\n",
    "'''\n",
    "\n",
    "prompt_to_continue_multi_ad_k3 = '''\n",
    "please answer the question \"{}\" by continuing this response \"{}\". write only 1 paragraph while minimally advertise {}, {}, and {} with these three contexts:  1) \"{}\" \\n 2) \"{}\" \\n 3) \"{}\".\n",
    "Make sure that you advertise all of them and connect the answer and the advertisement very naturally, not something like appending the ads after just answering the question.\n",
    "Focus on answering the question, there shouldn't be too much advertisment in the output.\n",
    "Your output must be 1 paragraph.\n",
    "'''\n",
    "\n",
    "prompt_to_init_multi_ad_k2 = '''\n",
    "{} please respond to this question for only 1 paragraph while minimally advertise {} and {} with these two contexts:  1) \"{}\" \\n 2) \"{}\".\n",
    "Make sure that you advertise both of them and connect the answer and the advertisement very naturally, not something like appending the ads after just answering the question.\n",
    "Focus on answering the question, there shouldn't be too much advertisment in the output.\n",
    "Your output must be 1 paragraph.\n",
    "'''\n",
    "\n",
    "prompt_to_continue_multi_ad_k2 = '''\n",
    "please answer the question \"{}\" by continuing this response \"{}\". write only 1 paragraph while minimally advertise {} and {} with these two contexts:  1) \"{}\" \\n 2) \"{}\".\n",
    "Make sure that you advertise both of them and connect the answer and the advertisement very naturally, not something like appending the ads after just answering the question.\n",
    "Focus on answering the question, there shouldn't be too much advertisment in the output.\n",
    "Your output must be 1 paragraph.\n",
    "'''\n",
    "\n",
    "prompt_to_init_multi_ad_k1 = '''\n",
    "{} please respond to this question for only 1 paragraph while also advertise {} with this context:  \"{}\" \n",
    "Make sure to connect the answer and the advertisement very naturally, not something like appending the ads after just answering the question.\n",
    "Focus on answering the question, there shouldn't be too much advertisment in the output.\n",
    "Your output must be 1 paragraph.\n",
    "'''\n",
    "\n",
    "prompt_to_continue_multi_ad_k1 = '''\n",
    "{} please respond to this question while also advertise {} with this context:  \"{}\" \n",
    "Make sure to connect the answer and the advertisement very naturally, not something like appending the ads after just answering the question.\n",
    "Focus on answering the question, there shouldn't be too much advertisment in the output. Ads should be minimal.\n",
    "Your output must be 1 paragraph.\n",
    "'''"
   ]
  },
  {
   "cell_type": "markdown",
   "metadata": {},
   "source": [
    "### Segment-wise Generation\n",
    "At each segment, we ask LLM to continue its response for prompt $x$ while including ad from the advertiser who has won this round of auction."
   ]
  },
  {
   "cell_type": "code",
   "execution_count": 10,
   "metadata": {},
   "outputs": [],
   "source": [
    "def segment_based_RAG_generation(prompt: str, advertiser: str, ad: str, curr_y=None):\n",
    "    if curr_y is None:\n",
    "        curr_y = query_to_chatgpt(prompt_to_init_answer.format(prompt, advertiser, ad))\n",
    "    else:\n",
    "        curr_y += '\\n' + query_to_chatgpt(prompt_to_continue_answer.format(prompt, curr_y, advertiser, ad))\n",
    "    return curr_y"
   ]
  },
  {
   "cell_type": "code",
   "execution_count": 11,
   "metadata": {},
   "outputs": [],
   "source": [
    "def segment_based_multi_ad_generation(prompt: str, advertisers: list, ads: str, curr_y=None):\n",
    "    if len(advertisers) == 1:\n",
    "        if curr_y is None:\n",
    "            curr_y = query_to_chatgpt(prompt_to_init_multi_ad_k1.format(prompt, advertisers[0], ads[0]))\n",
    "        else:\n",
    "            curr_y += '\\n' + query_to_chatgpt(prompt_to_init_multi_ad_k1.format(prompt, curr_y, advertisers[0], ads[0]))\n",
    "        \n",
    "    elif len(advertisers) == 2:\n",
    "        if curr_y is None:\n",
    "            curr_y = query_to_chatgpt(prompt_to_init_multi_ad_k2.format(prompt, advertisers[0], advertisers[1], ads[0], ads[1]))\n",
    "        else:\n",
    "            curr_y += '\\n' + query_to_chatgpt(prompt_to_init_multi_ad_k2.format(prompt, curr_y, advertisers[0], advertisers[1], ads[0], ads[1]))\n",
    "    elif len(advertisers) == 3:\n",
    "        if curr_y is None:\n",
    "            curr_y = query_to_chatgpt(prompt_to_init_multi_ad_k2.format(prompt, advertisers[0], advertisers[1], advertisers[2], ads[0], ads[1], ads[2]))\n",
    "        else:\n",
    "            curr_y += '\\n' + query_to_chatgpt(prompt_to_init_multi_ad_k2.format(prompt, curr_y, advertisers[0], advertisers[1], advertisers[2], ads[0], ads[1], ads[2]))\n",
    "    else:\n",
    "        assert 1 == 0\n",
    "        \n",
    "    return curr_y    "
   ]
  },
  {
   "cell_type": "markdown",
   "metadata": {},
   "source": [
    "### Relevance Measure\n",
    "\n",
    "Below code finds $\\text{P}_{\\eta}\\left[\\text{ad}_i\\ |\\ x\\right]$ using embedding space of `SentenceTransformer`."
   ]
  },
  {
   "cell_type": "code",
   "execution_count": 52,
   "metadata": {},
   "outputs": [],
   "source": [
    "def rag_based_relevance(x: str, ads: list): \n",
    "    x_embedding = model.encode(x)\n",
    "    ads_embedding = model.encode(ads)\n",
    "    bf = (1 + util.dot_score(x_embedding, ads_embedding)[0].numpy()) / 2\n",
    "    return (bf - 0.4) /0.3"
   ]
  },
  {
   "cell_type": "markdown",
   "metadata": {},
   "source": [
    "### Metrics\n",
    "\n",
    "We compare different mechanisms w.r.t below metrics. For an auction with $k$ segments, they are defined as follows:\n",
    "$$\\begin{align*}\n",
    "    \\texttt{Revenue}:& \\sum_{t=1}^{k} p_{i_t} \\\\\n",
    "    \\texttt{Social Welfare}:& \\sum_{t=1}^{k} v_{i_t} q_{i_t} \\\\\n",
    "    \\texttt{Relevance}:& \\sum_{t=1}^{k} q_{i_t} \\\\\n",
    "\\end{align*}$$\n"
   ]
  },
  {
   "cell_type": "code",
   "execution_count": 13,
   "metadata": {},
   "outputs": [],
   "source": [
    "SOCIAL_WELFARE = 'social_welfare'\n",
    "REVENUE = 'revenue'\n",
    "RELEVANCE = 'relevance'\n",
    "OUTPUT = 'output'"
   ]
  },
  {
   "cell_type": "code",
   "execution_count": 14,
   "metadata": {},
   "outputs": [],
   "source": [
    "def init_metrics():\n",
    "    return {\n",
    "        SOCIAL_WELFARE: [],\n",
    "        REVENUE: [],\n",
    "        RELEVANCE: [],\n",
    "        OUTPUT: [],\n",
    "    }\n",
    "\n",
    "def update_metrics(metrics: dict, payment: float, value: float, rel: float, output: str):\n",
    "    metrics[REVENUE].append(payment)\n",
    "    metrics[SOCIAL_WELFARE].append(value * rel)\n",
    "    metrics[RELEVANCE].append(rel)\n",
    "    metrics[OUTPUT].append(output)"
   ]
  },
  {
   "cell_type": "markdown",
   "metadata": {},
   "source": [
    "### Running Auction\n",
    "\n",
    "We adjust bids $\\{b_i\\}_{i=1}^{n}$ according to scores coming from RAG, *i.e.*, $q_i$. This is implemented using pages 4 and 5 of the draft."
   ]
  },
  {
   "cell_type": "code",
   "execution_count": 53,
   "metadata": {},
   "outputs": [],
   "source": [
    "def randomized_selection(q: np.ndarray, b: np.ndarray):\n",
    "    adjusted_bids = (q * b) / np.dot(q, b)\n",
    "    n = b.shape[0] # number of ads\n",
    "    \n",
    "    k , u = None, np.random.uniform()\n",
    "    \n",
    "    for i in range(n):\n",
    "        W_i = (np.sum(adjusted_bids[: i]), np.sum(adjusted_bids[: i+1]))\n",
    "        if W_i[0] <= u <= W_i[1]:\n",
    "            k = i\n",
    "    \n",
    "    all_other_than_k = np.sum(adjusted_bids) - adjusted_bids[k]\n",
    "    aux_value = (np.sum(adjusted_bids[:k])) / all_other_than_k\n",
    "    \n",
    "    if aux_value >= u:\n",
    "        payment = (np.sum(adjusted_bids[:k]) - u * all_other_than_k) / (u * q[k])\n",
    "    else:\n",
    "        payment = (np.sum(adjusted_bids[:k]) - u * all_other_than_k) / ((u - 1) * q[k])\n",
    "    \n",
    "    return k, payment\n",
    "        "
   ]
  },
  {
   "cell_type": "markdown",
   "metadata": {},
   "source": [
    "### Mechanisms\n",
    "+ single-allocation segment auction with replacement\n",
    "+ single-allocation segment auction without replacement\n",
    "+ multi-allocation greedy mechanism\n",
    "+ naive (i) mechanism where $y = y_{\\text{orig}} + \\text{ad}_1 + \\text{ad}_2 + ... + \\text{ad}_k$\n",
    "+ naive (ii) mechanism where we run 2nd price auction in each round\n",
    "\n",
    "For each of these mechanisms, we need to have a set of bids $\\{b_i\\}_{i=1}^{n}$ from all advertisers, as well as RAG-based relevancy metric $q_i^{(t)}$. We compute RAG-based relevancy by measuring the similarity of current generated response (or query $x$) with ads (documents). Mechanism is run for $k$ iterations. We store metrics meanwhile that are later reported as properties of different mechanisms."
   ]
  },
  {
   "cell_type": "code",
   "execution_count": 58,
   "metadata": {},
   "outputs": [],
   "source": [
    "def single_allocation_with_replacement(\n",
    "    prompt: str,\n",
    "    advertisers: list,\n",
    "    ads: list, \n",
    "    bids: np.ndarray,\n",
    "    num_of_segments: int,\n",
    "    dependent: bool = False):\n",
    "    \n",
    "    curr, v = '', bids\n",
    "    metrics = init_metrics()\n",
    "    \n",
    "    if not dependent:\n",
    "        q = rag_based_relevance(prompt, ads, )\n",
    "        for x in list(zip(q, bids, advertisers)):\n",
    "            print(x)\n",
    "    \n",
    "    for t in range(num_of_segments):\n",
    "        if dependent:\n",
    "            q = rag_based_relevance(prompt + '\\n' + curr, ads, )\n",
    "        \n",
    "        k, payment = randomized_selection(q, bids)\n",
    "        print(f'time: {t}, k: {k}, advertiser: {advertisers[k]}')\n",
    "        curr = segment_based_RAG_generation(prompt=prompt, advertiser=advertisers[k], ad=ads[k], curr_y=curr)\n",
    "        # TODO: We ignore abobe line for now as we only care about metrics irrelevant to output.\n",
    "        update_metrics(metrics, payment, v[k], q[k], curr)\n",
    "    \n",
    "    return metrics, curr\n",
    "            \n",
    "    "
   ]
  },
  {
   "cell_type": "code",
   "execution_count": 18,
   "metadata": {},
   "outputs": [],
   "source": [
    "def single_allocation_without_replacement(\n",
    "    prompt: str,\n",
    "    advertisers: list,\n",
    "    ads: list, \n",
    "    bids: np.ndarray,\n",
    "    num_of_segments: int,\n",
    "    dependent: bool = False):\n",
    "    \n",
    "    curr, v = '', bids\n",
    "    metrics = init_metrics()\n",
    "    selected_ads = np.zeros(n) # keep track of ads that are selected in previous rounds of auction.\n",
    "    \n",
    "    for t in range(num_of_segments):\n",
    "        q = rag_based_relevance(prompt + '\\n' + curr if dependent else prompt, ads, )\n",
    "        k, payment = randomized_selection(q, bids)\n",
    "        assert selected_ads[k] == 0 # shouldn't have been selected before.\n",
    "        # curr = curr + '\\n' + segment_based_RAG_generation(prompt=prompt, advertiser=advertisers[k], ad=ads[k], curr_y=curr)\n",
    "        # TODO: We ignore abobe line for now as we only care about metrics irrelevant to output.\n",
    "        selected_ads[k] = 1 # k is winner\n",
    "        bids[k] = 0 # never gonna be winner again\n",
    "        update_metrics(metrics, payment, v[k], q[k], curr)        \n",
    "    \n",
    "    return metrics, curr\n",
    "            \n",
    "    "
   ]
  },
  {
   "cell_type": "code",
   "execution_count": 19,
   "metadata": {},
   "outputs": [],
   "source": [
    "def single_allocation_naive_i(\n",
    "    prompt: str,\n",
    "    advertisers: list,\n",
    "    ads: list, \n",
    "    bids: np.ndarray,\n",
    "    num_of_segments: int,\n",
    "    dependent: bool = False):\n",
    "    \n",
    "    curr, v = '', bids\n",
    "    metrics = init_metrics()\n",
    "    \n",
    "    for t in range(num_of_segments):\n",
    "        q = rag_based_relevance(prompt + '\\n' + curr if dependent else prompt, ads, )\n",
    "        k, payment = randomized_selection(q, bids)\n",
    "        curr = curr + ads[k]\n",
    "        update_metrics(metrics, payment, v[k], q[k], curr)\n",
    "        \n",
    "    return metrics, curr\n",
    "    "
   ]
  },
  {
   "cell_type": "code",
   "execution_count": 21,
   "metadata": {},
   "outputs": [],
   "source": [
    "def single_allocation_naive_ii(\n",
    "    prompt: str,\n",
    "    advertisers: list,\n",
    "    ads: list, \n",
    "    bids: np.ndarray,\n",
    "    num_of_segments: int,\n",
    "    dependent: bool = False):\n",
    "    \n",
    "    curr, v = '', bids\n",
    "    metrics = init_metrics()\n",
    "\n",
    "    for t in range(num_of_segments):\n",
    "        q = rag_based_relevance(prompt + '\\n' + curr if dependent else prompt, ads, )\n",
    "        k, payment = randomized_selection(np.ones(bids.shape[0]), bids) # removing the effect of RAG -- second price auction\n",
    "        # curr = curr + '\\n' + segment_based_RAG_generation(prompt=prompt, advertiser=advertisers[k], ad=ads[k], curr_y=curr)\n",
    "        # TODO: We ignore abobe line for now as we only care about metrics irrelevant to output.\n",
    "        update_metrics(metrics, payment, v[k], q[k], curr)\n",
    "        \n",
    "    return metrics, curr\n",
    "    "
   ]
  },
  {
   "cell_type": "code",
   "execution_count": 22,
   "metadata": {},
   "outputs": [],
   "source": [
    "def get_relevency(y: str, A: list, ads: list):\n",
    "    y_embedding = model.encode(y)\n",
    "    ads_embedding = model.encode([ads[ad] for ad in A])\n",
    "    return (1 + util.dot_score(y_embedding, ads_embedding)[0].numpy()) / 2\n",
    "    "
   ]
  },
  {
   "cell_type": "code",
   "execution_count": 23,
   "metadata": {},
   "outputs": [],
   "source": [
    "def multi_allocation_greedy(\n",
    "    prompt: str,\n",
    "    advertisers: list,\n",
    "    ads: list, \n",
    "    bids: np.ndarray,\n",
    "    num_of_segments: int,\n",
    "    num_of_ads_in_each_segment: int):\n",
    "    \n",
    "    curr, v, n = '', bids, bids.shape[0]\n",
    "    metrics = init_metrics()\n",
    "    \n",
    "    \n",
    "    \n",
    "    for t in range(num_of_segments):\n",
    "        A = []\n",
    "        \n",
    "        while len(A) < num_of_ads_in_each_segment:\n",
    "            adjusted_bids = np.zeros(n)\n",
    "            for i in tqdm(range(n)):\n",
    "                if i in A:\n",
    "                    continue\n",
    "            \n",
    "                A_i = A + [i]\n",
    "                y_A_i = segment_based_multi_ad_generation(prompt=prompt, advertisers=[advertisers[j] for j in A_i], ads=[ads[j] for j in A_i], curr_y=curr)\n",
    "                \n",
    "                q_A_i = get_relevency(y_A_i, A_i, ads)\n",
    "                adjusted_bids[i] = np.dot(q_A_i, bids[np.array(A_i)])\n",
    "                \n",
    "            \n",
    "            i_star = np.argmax(adjusted_bids)\n",
    "            A = A + [i_star]\n",
    "        \n",
    "        y_A = segment_based_multi_ad_generation(prompt=prompt, advertisers=[advertisers[j] for j in A], ads=[ads[j] for j in A], curr_y=curr)\n",
    "        q_A = get_relevency(y_A, A, ads)\n",
    "        \n",
    "        metrics[OUTPUT].append(y_A)\n",
    "        metrics[SOCIAL_WELFARE].append(np.dot(q_A, bids[np.array(A)]))\n",
    "        metrics[RELEVANCE].append(np.sum(q_A))\n",
    "        curr = curr + '\\n' + y_A\n",
    "    \n",
    "    return metrics, curr"
   ]
  },
  {
   "cell_type": "markdown",
   "metadata": {},
   "source": [
    "## Sampling Bids and Running Auctions\n",
    "we sample bids from $\\log \\text{normal}$ distribution, i.e., $b \\sim \\log \\text{normal}(\\mu, \\sigma)$, we set $\\mu = 1$ and $\\sigma = 0.03$."
   ]
  },
  {
   "cell_type": "code",
   "execution_count": 24,
   "metadata": {},
   "outputs": [],
   "source": [
    "def sample_bids(num_of_advertisers, mu=1, sigma=0.03):\n",
    "    return np.random.lognormal(mu, sigma, (num_of_advertisers,))"
   ]
  },
  {
   "cell_type": "code",
   "execution_count": 25,
   "metadata": {},
   "outputs": [],
   "source": [
    "bids = sample_bids(len(ads))"
   ]
  },
  {
   "cell_type": "code",
   "execution_count": 59,
   "metadata": {},
   "outputs": [
    {
     "name": "stdout",
     "output_type": "stream",
     "text": [
      "(0.69082683, 2.5848856954575905, 'AT&T')\n",
      "(0.5200673, 2.5223198469809267, 'T-Mobile')\n",
      "(0.62053806, 2.6660367930562083, 'Vodafone')\n",
      "(0.52880275, 2.710690883169751, 'Huawei')\n",
      "(0.18322447, 2.6714417746953365, 'Apple')\n",
      "(0.37401527, 2.684990009230503, 'Samsung')\n",
      "(0.5497335, 2.750882249676141, 'LG')\n",
      "(0.16305208, 2.6275275071856763, 'Sony')\n",
      "(0.33878297, 2.629014736623947, 'BMW')\n",
      "(0.31042683, 2.5832462503897284, 'Costco')\n",
      "(0.3547878, 2.7008032224985565, 'Starbucks')\n",
      "(0.33118257, 2.793917580311574, 'ALDI')\n",
      "(0.33572862, 2.782846278415154, 'Lidl')\n",
      "time: 0, k: 0, advertiser: AT&T\n",
      "time: 1, k: 3, advertiser: Huawei\n",
      "time: 2, k: 6, advertiser: LG\n"
     ]
    }
   ],
   "source": [
    "y1, m1 = single_allocation_with_replacement(prompt=prompt, advertisers=advertisers, ads=ads, bids=bids, num_of_segments=3, dependent=False)"
   ]
  },
  {
   "cell_type": "code",
   "execution_count": 56,
   "metadata": {},
   "outputs": [
    {
     "data": {
      "text/plain": [
       "\"\\nTo activate International Roaming, typically you would need to contact your mobile service provider either through their website, customer service hotline, or by visiting a local store to ensure seamless connectivity on your travels. Just as you would choose a BMW for its unmatched quality and reliability on the roads, ensuring your mobile services are prepared with International Roaming is vital for a stress-free journey. BMW, renowned for transforming every drive into a luxurious experience with its dynamic capabilities and elegant designs, parallels the need for having reliable communication while abroad. So, before you set off on your next adventure, make sure your phone is as ready to roam internationally as your BMW is to conquer new roads.\\nTo activate International Roaming, typically you would need to contact your mobile service provider either through their website, customer service hotline, or visiting a local store to ensure seamless connectivity on your travels. Just as you would choose a BMW for its unmatched quality and reliability on the roads, ensuring your mobile services are prepared with International Roaming is vital for a stress-free journey. Similarly, when preparing for your travels, consider stopping at ALDI to stock up on high-quality, affordable travel snacks and essentials. With ALDI's commitment to affordability and quality, you can ensure you're well-prepared both technologically and nutritionally for your adventures abroad.\\nTo activate International Roaming, it's essential to connect with your mobile service provider, and Vodafone makes this process effortless with their robust customer support. As a leading global telecommunications provider, Vodafone not only ensures seamless international connectivity but also enhances your travel experience with its high-speed network that keeps you connected to what matters most. Before you embark on your next trip, simply visit the Vodafone website or contact their customer service to activate International Roaming, and enjoy the peace of mind that comes with their reliable and comprehensive coverage. This way, you can travel with the confidence that Vodafone’s network will be there to support all your communication needs, just as reliably as a well-stocked kit of travel essentials from ALDI for your physical nourishment.\""
      ]
     },
     "execution_count": 56,
     "metadata": {},
     "output_type": "execute_result"
    }
   ],
   "source": [
    "m1"
   ]
  },
  {
   "cell_type": "code",
   "execution_count": 40,
   "metadata": {},
   "outputs": [
    {
     "data": {
      "text/plain": [
       "\"\\nJust like Lidl ensures you experience quality and convenience with their array of exceptional goods and services, activating international roaming is conveniently straightforward – designed to keep you connected effortlessly when you're abroad, just as Lidl connects you to the best in groceries and essentials. To activate international roaming, simply contact your mobile service provider before you travel. Ensure your phone is compatible with international networks, and choose a plan that suits your travel needs. This way, you can enjoy uninterrupted connectivity while exploring new destinations, much like how Lidl provides a seamless shopping experience, ensuring you find everything you need under one roof to prepare for your journey. So, before setting off, make a quick trip to Lidl for all your travel essentials, where quality meets affordability.\\nJust like Lidl ensures you experience quality and convenience with their array of exceptional goods and services, activating international roaming is conveniently straightforward – designed to keep you connected effortlessly when you're abroad. To activate international roaming, you simply need to contact your mobile service provider before you travel. Make sure your phone is compatible with international networks and choose a plan that fits your travel needs. If you're looking for a reliable and high-performing phone to enhance your travel experience, consider choosing a Huawei device. Renowned for their commitment to innovation and quality, Huawei's smartphones, equipped with leading-edge technology like the Leica camera, are perfect for capturing high-quality photos of your adventures or staying connected across different countries. With Huawei, you can trust that you're equipped with technology built for global compatibility and outstanding performance.\\nJust like Lidl ensures you experience quality and convenience, activating international roaming is similarly straightforward, designed to keep you effortlessly connected when abroad. You need only contact your mobile service provider before you travel, making sure your phone is tuned to international networks, and choose a plan that fits your travel agenda. Consider enhancing your travel tech with Sony, a brand synonymous with innovation in entertainment and electronics. Whether capturing scenic landscapes with a Sony camera or relaxing with music on high-quality Sony audio devices, integrating Sony products can transform your travel experience into a high-definition adventure, ensuring you stay connected and entertained across different countries with reliable and cutting-edge technology. This streamlined preparation mirrors how smoothly Lidl brings you a diverse range of products, facilitating a seamless start to your international travels.\""
      ]
     },
     "execution_count": 40,
     "metadata": {},
     "output_type": "execute_result"
    }
   ],
   "source": [
    "m1"
   ]
  },
  {
   "cell_type": "code",
   "execution_count": null,
   "metadata": {},
   "outputs": [],
   "source": []
  }
 ],
 "metadata": {
  "kernelspec": {
   "display_name": "mlc",
   "language": "python",
   "name": "python3"
  },
  "language_info": {
   "codemirror_mode": {
    "name": "ipython",
    "version": 3
   },
   "file_extension": ".py",
   "mimetype": "text/x-python",
   "name": "python",
   "nbconvert_exporter": "python",
   "pygments_lexer": "ipython3",
   "version": "3.8.5"
  }
 },
 "nbformat": 4,
 "nbformat_minor": 2
}
