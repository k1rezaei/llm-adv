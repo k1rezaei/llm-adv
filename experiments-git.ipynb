{
 "cells": [
  {
   "cell_type": "markdown",
   "metadata": {},
   "source": [
    "## Ad Auctions for LLMs via Retrieval Augmented Genearation\n",
    "\n",
    "Here is the outline of the experiments we plan to run on this notebook:\n",
    "\n",
    "1. Given a query $x$, we generate fictional advertisers $\\text{ad}_1, \\text{ad}_2, ..., \\text{ad}_n$ with their ads.\n",
    "2. We sample bids $b_1, b_2, ..., b_n$ from a lognormal distribution (mean and std of this should be adjusted w.r.t. values of $q_i$)\n",
    "3. We run different mechanism for this LLM query/ads configuration, *i.e.*, $(x, \\{ad_i\\}_{i=1}^{n}, \\{b_i\\}_{i=1}^{n}$.\n",
    "\n",
    "    + single-allocation segment auction with replacement\n",
    "    + single-allocation segment auction without replacement\n",
    "    + multi-allocation greedy mechanism\n",
    "    + naive (i) mechanism where $y = y_{\\text{orig}} + \\text{ad}_1 + \\text{ad}_2 + ... + \\text{ad}_k$\n",
    "    + naive (ii) mechanism where we run 2nd price auction in each round\n",
    "\n",
    "4. We run $N$ times each of the above mechanisms as they are randomized, we report the expectation of the following metrics:\n",
    "    + social welfare (sum of $v_{i_t} q_{i_t}$)\n",
    "    + revenue (sum of $p_{i_t}$)\n",
    "    + relevance (sum of $q_{i_t}$)\n",
    "    + output quality; we think of the following metrics\n",
    "        + distance of output including ad to the original output -- measures if the output including ad answers the query or not.\n",
    "        + we ask an off-the-shelf LLM to evaluate the output including ads has too much advertisement or not, probably asking it to rate from $1$ to $10$.\n",
    "        + we ask an off-the-shelf LLM to evaluate paragraphs are coherent or not, probably asking it to rate from $1$ to $10$.\n",
    "\n",
    "\n",
    "There are several design choices that we consider:\n",
    "+ How long each segment should be, we first run with a paragraph.\n",
    "+ dependant/independent segment auction\n",
    "+ distribution that $x_i$ (allocation vector) comes from. Since we use RAG-based aggregation function on bids to get the allocation vector, we need to control how this allocation vector looks like, *e.g.*, we were thinking of putting some ratio for $\\frac{x_{\\max}}{x_{\\min}}$.\n",
    "+ how many segments should we consider? we put $k=3$ in our experiments, this further gives us the results for $k = 1, 2$.\n",
    "+ design choices for multi-allocation greedy mechanism."
   ]
  },
  {
   "cell_type": "markdown",
   "metadata": {},
   "source": [
    "### GPT-4 API Access"
   ]
  },
  {
   "cell_type": "code",
   "execution_count": 89,
   "metadata": {},
   "outputs": [],
   "source": [
    "from openai import OpenAI\n",
    "\n",
    "\n",
    "def query_to_chatgpt(prompt):\n",
    "    chat_completion_det = client.chat.completions.create(\n",
    "        messages = [\n",
    "            {\n",
    "                \"role\": \"user\",\n",
    "                \"content\": prompt\n",
    "            },\n",
    "            {\n",
    "                \"role\": \"assistant\",\n",
    "                \"content\": \"\"\n",
    "            }\n",
    "        ],\n",
    "        model = \"gpt-4-turbo\",\n",
    "        logprobs = False,\n",
    "        temperature = 1,\n",
    "        max_tokens = 300\n",
    "    )\n",
    "    return chat_completion_det.choices[0].message.content"
   ]
  },
  {
   "cell_type": "markdown",
   "metadata": {},
   "source": [
    "### Libraries"
   ]
  },
  {
   "cell_type": "code",
   "execution_count": 2,
   "metadata": {},
   "outputs": [],
   "source": [
    "from sentence_transformers import SentenceTransformer, util\n",
    "from tqdm import tqdm\n",
    "import time\n",
    "import numpy as np\n",
    "import json\n",
    "from itertools import combinations_with_replacement"
   ]
  },
  {
   "cell_type": "markdown",
   "metadata": {},
   "source": [
    "### Models"
   ]
  },
  {
   "cell_type": "code",
   "execution_count": 27,
   "metadata": {},
   "outputs": [],
   "source": [
    "model = SentenceTransformer('multi-qa-MiniLM-L6-cos-v1')"
   ]
  },
  {
   "cell_type": "markdown",
   "metadata": {},
   "source": [
    "### Initiating query and advertisers\n",
    "I borrow samples from the previous experiments we did -- we may need to generate fictional advertisers (ask Sebastien)."
   ]
  },
  {
   "cell_type": "code",
   "execution_count": 3,
   "metadata": {},
   "outputs": [],
   "source": [
    "prompt = 'How to activate Internationl Roaming?'\n",
    "advertisers = [\n",
    "    'AT&T', 'Huawei',\n",
    "    'Samsung', 'LG',\n",
    "    'Costco', 'Starbucks',\n",
    "]\n",
    "\n",
    "prompt_for_adv = 'Give me a paragraph about {} so that I can use it to advertise this brand.'"
   ]
  },
  {
   "cell_type": "markdown",
   "metadata": {},
   "source": [
    "### Obtaining $\\text{ad}_i$ For All Advertisers\n",
    "\n",
    "Here, we use the `prompt_for_adv` above to get a paragraph describing each of the advertisers.\n",
    "Responses will generate a set of advertisements/documents that are used according to RAG to include advertisement within the output. Similar to what we had in paper denoted by: \n",
    "$$\\{\\text{ad}_1, \\text{ad}_2, ..., \\text{ad}_n\\}.$$"
   ]
  },
  {
   "cell_type": "code",
   "execution_count": 4,
   "metadata": {},
   "outputs": [
    {
     "name": "stderr",
     "output_type": "stream",
     "text": [
      "100%|██████████| 6/6 [00:50<00:00,  8.43s/it]"
     ]
    },
    {
     "name": "stdout",
     "output_type": "stream",
     "text": [
      "CPU times: user 66.1 ms, sys: 9.82 ms, total: 75.9 ms\n",
      "Wall time: 50.6 s\n"
     ]
    },
    {
     "name": "stderr",
     "output_type": "stream",
     "text": [
      "\n"
     ]
    }
   ],
   "source": [
    "%%time\n",
    "\n",
    "ads = []\n",
    "for c in tqdm(advertisers):\n",
    "    ads.append(query_to_chatgpt(prompt_for_adv.format(c)))"
   ]
  },
  {
   "cell_type": "code",
   "execution_count": 5,
   "metadata": {},
   "outputs": [
    {
     "data": {
      "text/plain": [
       "[\"Experience seamless connectivity and unparalleled customer service with AT&T, America's leading communications company. With over a century of innovation, AT&T offers cutting-edge solutions in wireless and wireline technology, high-speed internet, and smart entertainment options. Trust in a network that provides widespread, reliable coverage and a wide array of products and services tailored to meet your specific needs, whether for personal use or business solutions. Join millions of satisfied customers who enjoy the latest in technology and entertainment with AT&T, where we're committed to keeping you connected to what matters most.\",\n",
       " \"Huawei stands at the forefront of innovation, delivering cutting-edge technology to enhance your digital experience. Known for its high-quality, reliable products, Huawei offers a diverse range of devices including smartphones, tablets, wearables, and laptops tailored to meet the needs of modern consumers and businesses alike. Whether you're looking for superior camera capabilities, long-lasting battery life, or seamless interconnectivity, Huawei's smart devices are designed to empower your lifestyle. Invest in Huawei and step into a world where excellence and technology converge, ensuring you stay connected to what matters most.\",\n",
       " \"Discover the world of Samsung, where cutting-edge technology and sleek design converge to create an unparalleled user experience. As a global leader in technology, Samsung consistently pioneers advances that enhance the way you live and work. From the revolutionary Galaxy smartphones and tablets to the stunning QLED TVs and innovative home appliances, Samsung's products are designed not only to fit your lifestyle but to lead it. Whether you're looking for seamless connectivity, professional-grade photography capabilities, or immersive entertainment systems, Samsung's commitment to innovation meets the demands of the digital age with unmatched precision and style. Explore Samsung and transform your world with technology that understands you.\",\n",
       " \"Experience the future of home entertainment and convenience with LG, a leading innovator in technology and consumer electronics. Renowned for its cutting-edge technology and sleek, stylish design, LG offers a diverse array of products that encompass everything from state-of-the-art OLED TVs with stunning picture quality to smart home appliances that make daily life a breeze. With a commitment to quality and customer satisfaction, LG continues to push the boundaries of what’s possible in technology, ensuring that your home is equipped with only the most advanced and reliable products. Elevate your lifestyle with LG, where life's good.\",\n",
       " \"Discover the joys of wholesale shopping at Costco, where you'll find a treasure trove of top-quality brands and products in bulk, all available at incredibly low prices. As a membership warehouse club, Costco is dedicated to bringing the best possible savings to our members, both in-store and online. From fresh produce and electronics to pharmaceuticals and home essentials, everything you need is under one roof. Enjoy additional benefits like our exclusive Kirkland Signature products, designed to match or exceed leading national brands in quality. Plus, with member-only services such as travel deals, optical care, and tire centers, Costco continually enhances its value proposition, making your annual membership an investment that pays off all year-round. Join us at Costco, where every visit brings great savings and delightful discoveries.\",\n",
       " \"Discover the unparalleled Starbucks experience where every sip offers you a taste of the exquisite. Beyond just a coffee shop, Starbucks extends an invitation to enjoy a rich selection of premium coffees that are ethically sourced and expertly roasted. Nestled in a cozy ambiance with free Wi-Fi and inviting decor, it's the perfect spot to relax or meet up with friends. Each drink is handcrafted to preference, embodying both tradition and innovation. Join us at Starbucks, where moments are brewed and memories are crafted, one cup at a time. Indulge in the art of coffee, where quality meets comfort and every visit is a retreat.\"]"
      ]
     },
     "execution_count": 5,
     "metadata": {},
     "output_type": "execute_result"
    }
   ],
   "source": [
    "ads"
   ]
  },
  {
   "cell_type": "markdown",
   "metadata": {},
   "source": [
    "### Segment-wise RAG-based Output Modification"
   ]
  },
  {
   "cell_type": "code",
   "execution_count": 133,
   "metadata": {},
   "outputs": [],
   "source": [
    "prompt_to_init_answer = '''\n",
    "{} please respond to this question for only 1 paragraph while also advertise {} with this context:  \"{}\" \n",
    "Make sure to connect the answer and the advertisement very naturally, not something like appending the ads after just answering the question.\n",
    "Focus on answering the question, there shouldn't be too much advertisment in the output.\n",
    "Your output must be 1 paragraph, 4 sentences please.\n",
    "'''\n",
    "\n",
    "prompt_to_continue_answer = '''\n",
    "please answer the question \"{}\" by continuing your response \"{}\". please write only 1 paragraph while also advertise {} with this context:  \"{}\" \n",
    "Make sure to connect the answer and the advertisement very naturally, not something like appending the ads after just answering the question.\n",
    "Focus on answering the question, there shouldn't be too much advertisment in the output. Ads should be minimal.\n",
    "Your output must be 1 paragraph, 4 sentences please.\n",
    "'''\n",
    "\n",
    "prompt_to_init_multi_ad_k3 = '''\n",
    "{} please respond to this question for only 1 paragraph while minimally advertise {}, {}, and {} with these three contexts:  1) \"{}\" \\n 2) \"{}\" \\n 3) \"{}\".\n",
    "Make sure that you advertise all of them and connect the answer and the advertisement very naturally, not something like appending the ads after just answering the question.\n",
    "Focus on answering the question, there shouldn't be too much advertisment in the output.\n",
    "Your output must be 1 paragraph.\n",
    "'''\n",
    "\n",
    "prompt_to_continue_multi_ad_k3 = '''\n",
    "please answer the question \"{}\" by continuing this response \"{}\". write only 1 paragraph while minimally advertise {}, {}, and {} with these three contexts:  1) \"{}\" \\n 2) \"{}\" \\n 3) \"{}\".\n",
    "Make sure that you advertise all of them and connect the answer and the advertisement very naturally, not something like appending the ads after just answering the question.\n",
    "Focus on answering the question, there shouldn't be too much advertisment in the output.\n",
    "Your output must be 1 paragraph.\n",
    "'''\n",
    "\n",
    "prompt_to_init_multi_ad_k2 = '''\n",
    "{} please respond to this question for only 1 paragraph while minimally advertise {} and {} with these two contexts:  1) \"{}\" \\n 2) \"{}\".\n",
    "Make sure that you advertise both of them and connect the answer and the advertisement very naturally, not something like appending the ads after just answering the question.\n",
    "Focus on answering the question, there shouldn't be too much advertisment in the output.\n",
    "Your output must be 1 paragraph.\n",
    "'''\n",
    "\n",
    "prompt_to_continue_multi_ad_k2 = '''\n",
    "please answer the question \"{}\" by continuing this response \"{}\". write only 1 paragraph while minimally advertise {} and {} with these two contexts:  1) \"{}\" \\n 2) \"{}\".\n",
    "Make sure that you advertise both of them and connect the answer and the advertisement very naturally, not something like appending the ads after just answering the question.\n",
    "Focus on answering the question, there shouldn't be too much advertisment in the output.\n",
    "Your output must be 1 paragraph.\n",
    "'''\n",
    "\n",
    "prompt_to_init_multi_ad_k1 = '''\n",
    "{} please respond to this question for only 1 paragraph while also advertise {} with this context:  \"{}\" \n",
    "Make sure to connect the answer and the advertisement very naturally, not something like appending the ads after just answering the question.\n",
    "Focus on answering the question, there shouldn't be too much advertisment in the output.\n",
    "Your output must be 1 paragraph.\n",
    "'''\n",
    "\n",
    "prompt_to_continue_multi_ad_k1 = '''\n",
    "{} please respond to this question while also advertise {} with this context:  \"{}\" \n",
    "Make sure to connect the answer and the advertisement very naturally, not something like appending the ads after just answering the question.\n",
    "Focus on answering the question, there shouldn't be too much advertisment in the output. Ads should be minimal.\n",
    "Your output must be 1 paragraph.\n",
    "'''"
   ]
  },
  {
   "cell_type": "markdown",
   "metadata": {},
   "source": [
    "### Segment-wise Generation\n",
    "At each segment, we ask LLM to continue its response for prompt $x$ while including ad from the advertiser who has won this round of auction."
   ]
  },
  {
   "cell_type": "code",
   "execution_count": 6,
   "metadata": {},
   "outputs": [],
   "source": [
    "def segment_based_RAG_generation_old(prompt: str, advertiser: str, ad: str, curr_y=None):\n",
    "    if curr_y is None:\n",
    "        curr_y = query_to_chatgpt(prompt_to_init_answer.format(prompt, advertiser, ad))\n",
    "    else:\n",
    "        curr_y += '\\n' + query_to_chatgpt(prompt_to_continue_answer.format(prompt, curr_y, advertiser, ad))\n",
    "    return curr_y"
   ]
  },
  {
   "cell_type": "code",
   "execution_count": 185,
   "metadata": {},
   "outputs": [],
   "source": [
    "def segment_based_RAG_generation(prompt: str, advertiser: str, ad: str, previous_queries: list, previous_outputs: list):\n",
    "    # print(type(previous_queries), type(previous_outputs))\n",
    "    # print(len(previous_queries), len(previous_outputs))\n",
    "    if len(previous_queries) == 0:\n",
    "        query = f'''{prompt}\\n please respond to this question for only one sentence while also advertise {advertiser} with this context >>\n",
    "        {ad}\n",
    "        Make sure to connect the answer and the advertisement very naturally, not something like appending the ads after just answering the question.\n",
    "        Focus on answering the question, there shouldn't be too much advertisment in the output.\n",
    "        Make sure that response should be one sentence.\n",
    "        '''\n",
    "    else:\n",
    "        query = f'''\n",
    "        You must continue your answer to my original query.\n",
    "        Your previous response was\n",
    "        >> {previous_outputs[-1]}\n",
    "\n",
    "        And you now should advertise {advertiser}, but without hurting the coherency of the entire document.\n",
    "        Here's some contexts about {advertiser}\n",
    "\n",
    "        >>  {ad}\n",
    "\n",
    "        Make sure that there is one new sentence.\n",
    "        Write the entire document, which merges your previous response and new paragraph.\n",
    "        '''\n",
    "    \n",
    "    \n",
    "    messages = []\n",
    "    for i in range(len(previous_queries)):\n",
    "        messages.append({\n",
    "            \"role\": \"user\", \"content\": previous_queries[i]\n",
    "        })\n",
    "        messages.append({\n",
    "            \"role\": \"assistant\", \"content\": previous_outputs[i]\n",
    "        })\n",
    "    messages.append({\n",
    "        \"role\": \"user\", \"content\": query\n",
    "    })\n",
    "    \n",
    "    response = client.chat.completions.create(\n",
    "        model = \"gpt-4-turbo\",\n",
    "        logprobs = False,\n",
    "        temperature = 1,\n",
    "        max_tokens = 300,\n",
    "        messages=messages,)\n",
    "    \n",
    "    return query, response.choices[0].message.content"
   ]
  },
  {
   "cell_type": "code",
   "execution_count": 7,
   "metadata": {},
   "outputs": [],
   "source": [
    "def segment_based_multi_ad_generation(prompt: str, advertisers: list, ads: str, curr_y=None):\n",
    "    if len(advertisers) == 1:\n",
    "        if curr_y is None:\n",
    "            curr_y = query_to_chatgpt(prompt_to_init_multi_ad_k1.format(prompt, advertisers[0], ads[0]))\n",
    "        else:\n",
    "            curr_y += '\\n' + query_to_chatgpt(prompt_to_init_multi_ad_k1.format(prompt, curr_y, advertisers[0], ads[0]))\n",
    "        \n",
    "    elif len(advertisers) == 2:\n",
    "        if curr_y is None:\n",
    "            curr_y = query_to_chatgpt(prompt_to_init_multi_ad_k2.format(prompt, advertisers[0], advertisers[1], ads[0], ads[1]))\n",
    "        else:\n",
    "            curr_y += '\\n' + query_to_chatgpt(prompt_to_init_multi_ad_k2.format(prompt, curr_y, advertisers[0], advertisers[1], ads[0], ads[1]))\n",
    "    elif len(advertisers) == 3:\n",
    "        if curr_y is None:\n",
    "            curr_y = query_to_chatgpt(prompt_to_init_multi_ad_k2.format(prompt, advertisers[0], advertisers[1], advertisers[2], ads[0], ads[1], ads[2]))\n",
    "        else:\n",
    "            curr_y += '\\n' + query_to_chatgpt(prompt_to_init_multi_ad_k2.format(prompt, curr_y, advertisers[0], advertisers[1], advertisers[2], ads[0], ads[1], ads[2]))\n",
    "    else:\n",
    "        assert 1 == 0\n",
    "        \n",
    "    return curr_y    "
   ]
  },
  {
   "cell_type": "markdown",
   "metadata": {},
   "source": [
    "### Relevance Measure\n",
    "\n",
    "Below code finds $\\text{P}_{\\eta}\\left[\\text{ad}_i\\ |\\ x\\right]$ using embedding space of `SentenceTransformer`."
   ]
  },
  {
   "cell_type": "code",
   "execution_count": 8,
   "metadata": {},
   "outputs": [],
   "source": [
    "def rag_based_relevance(x: str, ads: list): \n",
    "    x_embedding = model.encode(x)\n",
    "    ads_embedding = model.encode(ads)\n",
    "    bf = (1 + util.dot_score(x_embedding, ads_embedding)[0].numpy()) / 2\n",
    "    return (bf - 0.4) /0.3"
   ]
  },
  {
   "cell_type": "markdown",
   "metadata": {},
   "source": [
    "### Metrics\n",
    "\n",
    "We compare different mechanisms w.r.t below metrics. For an auction with $k$ segments, they are defined as follows:\n",
    "$$\\begin{align*}\n",
    "    \\texttt{Revenue}:& \\sum_{t=1}^{k} p_{i_t} \\\\\n",
    "    \\texttt{Social Welfare}:& \\sum_{t=1}^{k} v_{i_t} q_{i_t} \\\\\n",
    "    \\texttt{Relevance}:& \\sum_{t=1}^{k} q_{i_t} \\\\\n",
    "\\end{align*}$$\n"
   ]
  },
  {
   "cell_type": "code",
   "execution_count": 11,
   "metadata": {},
   "outputs": [],
   "source": [
    "SOCIAL_WELFARE = 'social_welfare'\n",
    "REVENUE = 'revenue'\n",
    "RELEVANCE = 'relevance'\n",
    "OUTPUT = 'output'\n",
    "WINNER = 'winner'"
   ]
  },
  {
   "cell_type": "code",
   "execution_count": 187,
   "metadata": {},
   "outputs": [],
   "source": [
    "def init_metrics():\n",
    "    return {\n",
    "        SOCIAL_WELFARE: [],\n",
    "        REVENUE: [],\n",
    "        RELEVANCE: [],\n",
    "        OUTPUT: [],\n",
    "        WINNER: [],\n",
    "    }\n",
    "\n",
    "def update_metrics(metrics: dict, payment: float, value: float, rel: float, output: str, winner: str=''):\n",
    "    metrics[REVENUE].append(float(payment))\n",
    "    metrics[SOCIAL_WELFARE].append(float(value * rel))\n",
    "    metrics[RELEVANCE].append(float(rel))\n",
    "    metrics[OUTPUT].append(output)\n",
    "    metrics[WINNER].append(winner)"
   ]
  },
  {
   "cell_type": "markdown",
   "metadata": {},
   "source": [
    "### Running Auction\n",
    "\n",
    "We adjust bids $\\{b_i\\}_{i=1}^{n}$ according to scores coming from RAG, *i.e.*, $q_i$. This is implemented using pages 4 and 5 of the draft."
   ]
  },
  {
   "cell_type": "code",
   "execution_count": 70,
   "metadata": {},
   "outputs": [],
   "source": [
    "def randomized_selection(q: np.ndarray, b: np.ndarray):\n",
    "    adjusted_bids = (q * b) / np.dot(q, b)\n",
    "    n = b.shape[0] # number of ads\n",
    "    \n",
    "    k , u = None, np.random.uniform()\n",
    "    \n",
    "    for i in range(n):\n",
    "        W_i = (np.sum(adjusted_bids[: i]), np.sum(adjusted_bids[: i+1]))\n",
    "        if W_i[0] <= u <= W_i[1]:\n",
    "            k = i\n",
    "    \n",
    "    all_other_than_k = np.sum(adjusted_bids) - adjusted_bids[k]\n",
    "    aux_value = (np.sum(adjusted_bids[:k])) / all_other_than_k\n",
    "    \n",
    "    if aux_value >= u:\n",
    "        payment = (np.sum(adjusted_bids[:k]) - u * all_other_than_k) / (u * q[k])\n",
    "    else:\n",
    "        payment = (np.sum(adjusted_bids[:k]) - u * all_other_than_k) / ((u - 1) * q[k])\n",
    "    \n",
    "    return k, payment\n",
    "        "
   ]
  },
  {
   "cell_type": "code",
   "execution_count": 50,
   "metadata": {},
   "outputs": [],
   "source": [
    "def get_allocation_vector(prompt: str, bids: np.ndarray, ads: list, advertisers: list):\n",
    "    q = rag_based_relevance(prompt, ads, )\n",
    "    x = q * bids / np.sum(q * bids)\n",
    "    \n",
    "    print(f'(q_i, b_i, adv_i)')\n",
    "    for y in list(zip(q, bids, advertisers)):\n",
    "        print(f'({y[0]:.2f}, {y[1]:.2f}, {y[2]})')\n",
    "        \n",
    "    print(f'allocation vector:\\n{x}')\n",
    "    print(f'x_max / x_min: {np.max(x) / np.min(x)}')"
   ]
  },
  {
   "cell_type": "markdown",
   "metadata": {},
   "source": [
    "### Mechanisms\n",
    "+ single-allocation segment auction with replacement\n",
    "+ single-allocation segment auction without replacement\n",
    "+ multi-allocation greedy mechanism\n",
    "+ naive (i) mechanism where $y = y_{\\text{orig}} + \\text{ad}_1 + \\text{ad}_2 + ... + \\text{ad}_k$\n",
    "+ naive (ii) mechanism where we run 2nd price auction in each round\n",
    "\n",
    "For each of these mechanisms, we need to have a set of bids $\\{b_i\\}_{i=1}^{n}$ from all advertisers, as well as RAG-based relevancy metric $q_i^{(t)}$. We compute RAG-based relevancy by measuring the similarity of current generated response (or query $x$) with ads (documents). Mechanism is run for $k$ iterations. We store metrics meanwhile that are later reported as properties of different mechanisms."
   ]
  },
  {
   "cell_type": "code",
   "execution_count": 179,
   "metadata": {},
   "outputs": [],
   "source": [
    "def single_allocation_with_replacement(\n",
    "    prompt: str,\n",
    "    advertisers: list,\n",
    "    ads: list, \n",
    "    bids: np.ndarray,\n",
    "    num_of_segments: int,\n",
    "    dependent: bool = False):\n",
    "    \n",
    "    v = np.copy(bids)\n",
    "    metrics = init_metrics()\n",
    "    \n",
    "    previous_queries, previous_outputs = [], []\n",
    "    \n",
    "    if not dependent:\n",
    "        q = rag_based_relevance(prompt, ads, )\n",
    "    \n",
    "    for t in range(num_of_segments):\n",
    "        if dependent:\n",
    "            q = rag_based_relevance(prompt + '\\n' + curr, ads, )\n",
    "        \n",
    "        k, payment = randomized_selection(q, bids)\n",
    "        query, output = segment_based_RAG_generation(prompt=prompt, advertiser=advertisers[k], ad=ads[k], previous_queries=previous_queries, previous_outputs=previous_outputs)\n",
    "        \n",
    "        previous_queries.append(query)\n",
    "        previous_outputs.append(output)\n",
    "        \n",
    "        update_metrics(metrics, payment, v[k], q[k], output, f'({k}, {advertisers[k]})')\n",
    "    \n",
    "    return metrics, previous_outputs[-1]\n",
    "            \n",
    "    "
   ]
  },
  {
   "cell_type": "code",
   "execution_count": 107,
   "metadata": {},
   "outputs": [],
   "source": [
    "def single_allocation_without_replacement(\n",
    "    prompt: str,\n",
    "    advertisers: list,\n",
    "    ads: list, \n",
    "    bids: np.ndarray,\n",
    "    num_of_segments: int,\n",
    "    dependent: bool = False):\n",
    "    \n",
    "    curr, v = '', np.copy(bids)\n",
    "    metrics = init_metrics()\n",
    "    selected_ads = np.zeros(bids.shape[0]) # keep track of ads that are selected in previous rounds of auction.\n",
    "    \n",
    "    if not dependent:\n",
    "        q = rag_based_relevance(prompt, ads, )\n",
    "    \n",
    "    for t in range(num_of_segments):\n",
    "        if dependent:\n",
    "            q = rag_based_relevance(prompt + '\\n' + curr, ads, )\n",
    "        \n",
    "        k, payment = randomized_selection(q, bids)\n",
    "        \n",
    "        assert selected_ads[k] == 0 # shouldn't have been selected before.\n",
    "        # curr = segment_based_RAG_generation(prompt=prompt, advertiser=advertisers[k], ad=ads[k], curr_y=curr)\n",
    "        # TODO: We ignore abobe line for now as we only care about metrics irrelevant to output.\n",
    "        selected_ads[k] = 1 # k is winner\n",
    "        update_metrics(metrics, payment, v[k], q[k], curr, f'({k}, {advertisers[k]})')\n",
    "        bids[k] = 0 # never gonna be winner again\n",
    "    \n",
    "    return metrics, curr\n",
    "            \n",
    "    "
   ]
  },
  {
   "cell_type": "code",
   "execution_count": 108,
   "metadata": {},
   "outputs": [],
   "source": [
    "def single_allocation_naive_i(\n",
    "    prompt: str,\n",
    "    advertisers: list,\n",
    "    ads: list, \n",
    "    bids: np.ndarray,\n",
    "    num_of_segments: int,\n",
    "    dependent: bool = False):\n",
    "    \n",
    "    curr, v = '', bids\n",
    "    metrics = init_metrics()\n",
    "    \n",
    "    for t in range(num_of_segments):\n",
    "        q = rag_based_relevance(prompt + '\\n' + curr if dependent else prompt, ads, )\n",
    "        k, payment = randomized_selection(q, bids)\n",
    "        curr = curr + ads[k]\n",
    "        update_metrics(metrics, payment, v[k], q[k], curr, f'({k}, {advertisers[k]})')\n",
    "        \n",
    "    return metrics, curr\n",
    "    "
   ]
  },
  {
   "cell_type": "code",
   "execution_count": 109,
   "metadata": {},
   "outputs": [],
   "source": [
    "def single_allocation_naive_ii(\n",
    "    prompt: str,\n",
    "    advertisers: list,\n",
    "    ads: list, \n",
    "    bids: np.ndarray,\n",
    "    num_of_segments: int,\n",
    "    dependent: bool = False):\n",
    "    \n",
    "    curr, v = '', bids\n",
    "    metrics = init_metrics()\n",
    "\n",
    "    for t in range(num_of_segments):\n",
    "        q = rag_based_relevance(prompt + '\\n' + curr if dependent else prompt, ads, )\n",
    "        k, payment = randomized_selection(np.ones(bids.shape[0]), bids) # removing the effect of RAG -- second price auction\n",
    "        # curr = segment_based_RAG_generation(prompt=prompt, advertiser=advertisers[k], ad=ads[k], curr_y=curr)\n",
    "        # TODO: We ignore abobe line for now as we only care about metrics irrelevant to output.\n",
    "        update_metrics(metrics, payment, v[k], q[k], curr, f'({k}, {advertisers[k]})')\n",
    "        \n",
    "    return metrics, curr\n",
    "    "
   ]
  },
  {
   "cell_type": "code",
   "execution_count": 110,
   "metadata": {},
   "outputs": [],
   "source": [
    "def get_relevency(y: str, A: list, ads: list):\n",
    "    y_embedding = model.encode(y)\n",
    "    ads_embedding = model.encode([ads[ad] for ad in A])\n",
    "    return (1 + util.dot_score(y_embedding, ads_embedding)[0].numpy()) / 2\n",
    "    "
   ]
  },
  {
   "cell_type": "code",
   "execution_count": 58,
   "metadata": {},
   "outputs": [],
   "source": [
    "def multi_allocation_greedy(\n",
    "    prompt: str,\n",
    "    advertisers: list,\n",
    "    ads: list, \n",
    "    bids: np.ndarray,\n",
    "    num_of_segments: int,\n",
    "    num_of_ads_in_each_segment: int):\n",
    "    \n",
    "    curr, v, n = '', bids, bids.shape[0]\n",
    "    metrics = init_metrics()\n",
    "    \n",
    "    \n",
    "    for t in range(num_of_segments):\n",
    "        A = []\n",
    "        \n",
    "        while len(A) < num_of_ads_in_each_segment:\n",
    "            adjusted_bids = np.zeros(n)\n",
    "            for i in tqdm(range(n)):\n",
    "                if i in A:\n",
    "                    continue\n",
    "            \n",
    "                A_i = A + [i]\n",
    "                y_A_i = segment_based_multi_ad_generation(prompt=prompt, advertisers=[advertisers[j] for j in A_i], ads=[ads[j] for j in A_i], curr_y=curr)\n",
    "                \n",
    "                q_A_i = get_relevency(y_A_i, A_i, ads)\n",
    "                adjusted_bids[i] = np.dot(q_A_i, bids[np.array(A_i)])\n",
    "                \n",
    "            \n",
    "            i_star = np.argmax(adjusted_bids)\n",
    "            A = A + [i_star]\n",
    "        \n",
    "        y_A = segment_based_multi_ad_generation(prompt=prompt, advertisers=[advertisers[j] for j in A], ads=[ads[j] for j in A], curr_y=curr)\n",
    "        q_A = get_relevency(y_A, A, ads)\n",
    "        \n",
    "        metrics[OUTPUT].append(y_A)\n",
    "        metrics[SOCIAL_WELFARE].append(np.dot(q_A, bids[np.array(A)]))\n",
    "        metrics[RELEVANCE].append(np.sum(q_A))\n",
    "        curr = curr + '\\n' + y_A\n",
    "    \n",
    "    return metrics, curr"
   ]
  },
  {
   "cell_type": "code",
   "execution_count": 21,
   "metadata": {},
   "outputs": [],
   "source": [
    "prompt_for_adv = 'Give me a paragraph about {} so that I can use it to advertise this brand.'"
   ]
  },
  {
   "cell_type": "markdown",
   "metadata": {},
   "source": [
    "## Sampling Bids and Running Auctions\n",
    "We consider different scenarios in which we have a query $x$ and a set of advertisers. In different scenarios, we consider\n",
    "+ different context for query;\n",
    "+ different number of advertisers such that some of them are relevant, some are in the middle, and some others are irrelevant."
   ]
  },
  {
   "cell_type": "markdown",
   "metadata": {},
   "source": [
    "### Scenario 0"
   ]
  },
  {
   "cell_type": "code",
   "execution_count": 146,
   "metadata": {},
   "outputs": [
    {
     "name": "stderr",
     "output_type": "stream",
     "text": [
      "100%|██████████| 4/4 [00:19<00:00,  4.78s/it]\n"
     ]
    }
   ],
   "source": [
    "prompt = '\"Can you suggest some books similar to \\\"To Kill a Mockingbird\\\"?\"'\n",
    "advertisers = ['Apple', 'Amazon', 'Costco', 'Starbucks',]\n",
    "\n",
    "ads = []\n",
    "for c in tqdm(advertisers):\n",
    "    ads.append(query_to_chatgpt(prompt_for_adv.format(c)))"
   ]
  },
  {
   "cell_type": "code",
   "execution_count": 173,
   "metadata": {},
   "outputs": [],
   "source": [
    "bids = np.array([3, 3, 2, 2,])\n",
    "num_of_repeat = 100"
   ]
  },
  {
   "cell_type": "code",
   "execution_count": 174,
   "metadata": {},
   "outputs": [
    {
     "name": "stdout",
     "output_type": "stream",
     "text": [
      "(q_i, b_i, adv_i)\n",
      "(0.32, 3.00, Apple)\n",
      "(0.45, 3.00, Amazon)\n",
      "(0.32, 2.00, Costco)\n",
      "(0.23, 2.00, Starbucks)\n",
      "allocation vector:\n",
      "[0.28271392 0.39585813 0.18597614 0.13545181]\n",
      "x_max / x_min: 2.9225015493013573\n"
     ]
    }
   ],
   "source": [
    "get_allocation_vector(prompt, bids, ads, advertisers)"
   ]
  },
  {
   "cell_type": "code",
   "execution_count": 176,
   "metadata": {},
   "outputs": [],
   "source": [
    "import json\n",
    "from tqdm import tqdm"
   ]
  },
  {
   "cell_type": "code",
   "execution_count": 188,
   "metadata": {},
   "outputs": [
    {
     "name": "stderr",
     "output_type": "stream",
     "text": [
      "100%|██████████| 100/100 [18:39<00:00, 11.20s/it]"
     ]
    },
    {
     "name": "stdout",
     "output_type": "stream",
     "text": [
      "Social Welfare: 2.989\n",
      "Revenue: 0.971\n",
      "Relevence: 1.089\n"
     ]
    },
    {
     "name": "stderr",
     "output_type": "stream",
     "text": [
      "\n"
     ]
    }
   ],
   "source": [
    "runs = []\n",
    "all_metrics = []\n",
    "\n",
    "for N in tqdm(range(num_of_repeat)):\n",
    "    metric, y = single_allocation_with_replacement(prompt=prompt, advertisers=advertisers, ads=ads, bids=bids, num_of_segments=3, dependent=False)\n",
    "    \n",
    "    all_metrics.append(metric)\n",
    "    if N % 5 == 1:\n",
    "        with open('scenario0_single_allocation_with_replacement.json', 'w') as f:\n",
    "            f.write(json.dumps(all_metrics, indent=4))\n",
    "    \n",
    "    sw = np.sum(metric[SOCIAL_WELFARE])\n",
    "    revenue = np.sum(metric[REVENUE])\n",
    "    relevence = np.sum(metric[RELEVANCE])\n",
    "    runs.append((sw, revenue, relevence,))\n",
    "\n",
    "runs = np.array(runs)\n",
    "\n",
    "vals = [[float(f'{np.mean(runs[:, j]):.3f}') for j in range(3)]]\n",
    "print(f'Social Welfare: {np.mean(runs[:, 0]):.3f}\\nRevenue: {np.mean(runs[:, 1]):.3f}\\nRelevence: {np.mean(runs[:, 2]):.3f}')"
   ]
  },
  {
   "cell_type": "code",
   "execution_count": 189,
   "metadata": {},
   "outputs": [
    {
     "data": {
      "text/plain": [
       "[\"Experience innovation and elegance with Apple, a global leader in technology that continually sets the standard for user-friendly interfaces, stunning designs, and groundbreaking advancements. From the iPhone's captivating visuals and camera technology to the seamless synchronization of the Apple ecosystem comprising iPads, MacBooks, and Apple Watches, Apple products are designed to enhance your life professionally and personally. Whether you're a creative professional, a student, or someone who enjoys cutting-edge technology, Apple offers a range of devices that combine sophisticated functionality with exclusive features like Face ID, Siri, and Apple Pay, all secured with industry-leading privacy protection. Embrace a world where technology meets simplicity and sophistication with Apple.\",\n",
       " 'Discover the vast and vibrant world of Amazon, your one-stop shop for everything from the latest technology and trendy fashion to everyday essentials and unique finds. With Amazon, experience seamless shopping with fast, reliable delivery, and a hassle-free return policy that ensures your satisfaction. Immerse yourself in customer-centric innovation with Amazon Prime, offering exclusive benefits like free shipping, entertainment streaming, and much more. From pioneering in global ecommerce to pioneering sustainability initiatives, Amazon is not just a marketplace but a community built on trust and customer satisfaction. Shop at Amazon today and be a part of a shopping revolution!',\n",
       " \"Experience the joy of shopping at Costco, where quality meets value in a dynamic retail environment tailored for your satisfaction. At Costco, members enjoy exclusive access to a vast selection of premium, bulk-sized products, from fresh groceries to high-tech electronics, all at unbeatably low prices. With a commitment to customer happiness, sustainability, and community support, Costco isn't just a shopping destination — it's a part of your community. Dive into a world of savings and discover why millions choose Costco as their trusted shopping partner. Join us today and see the difference Costco can make in your shopping experience, where every visit is more than just shopping — it's an adventure!\",\n",
       " \"Experience the warmth and delight of Starbucks, where every sip offers an invitation to a world of exquisite flavors and aromas. Renowned globally for its high-quality, handcrafted beverages, Starbucks is committed to sourcing the finest Arabica beans, expertly blending them into a variety of rich espressos, frothy cappuccinos, and creamy lattes. Each visit to a Starbucks store is more than just a coffee run—it's an opportunity to savor a moment of luxury amid the hustle of daily life. Whether you seek the comfort of a familiar classic or the thrill of a new seasonal specialty, Starbucks welcomes all to gather, connect, and enjoy a cup perfectly tailored to your taste. Step into your local Starbucks today and join us in celebrating the art of coffee.\"]"
      ]
     },
     "execution_count": 189,
     "metadata": {},
     "output_type": "execute_result"
    }
   ],
   "source": [
    "ads"
   ]
  },
  {
   "cell_type": "code",
   "execution_count": 150,
   "metadata": {},
   "outputs": [],
   "source": [
    "query0 = f'''{prompt}\\n please respond to this question for only one sentence while also advertise {advertisers[winners[0]]} with this context >>\n",
    "{ads[winners[0]]}\n",
    "Make sure to connect the answer and the advertisement very naturally, not something like appending the ads after just answering the question.\n",
    "Focus on answering the question, there shouldn't be too much advertisment in the output.\n",
    "Make sure that response should be one sentence.\n",
    "'''"
   ]
  },
  {
   "cell_type": "code",
   "execution_count": 158,
   "metadata": {},
   "outputs": [],
   "source": [
    "from openai import OpenAI\n",
    "# client = OpenAI()\n",
    "\n",
    "response = client.chat.completions.create(\n",
    "  model = \"gpt-4-turbo\",\n",
    "  logprobs = False,\n",
    "  temperature = 1,\n",
    "  max_tokens = 300,\n",
    "  messages=[\n",
    "    {\"role\": \"user\", \"content\": query0,}\n",
    "  ]\n",
    ")"
   ]
  },
  {
   "cell_type": "code",
   "execution_count": 160,
   "metadata": {},
   "outputs": [],
   "source": [
    "output0 = response.choices[0].message.content"
   ]
  },
  {
   "cell_type": "code",
   "execution_count": 161,
   "metadata": {},
   "outputs": [
    {
     "data": {
      "text/plain": [
       "\"If you appreciated the profound storytelling of “To Kill a Mockingbird,” consider reading “The Help” by Kathryn Stockett or “Go Set a Watchman” by Harper Lee during your quiet evenings, perfectly illuminated on the retina display of your iPad, an example of how Apple's technology blends sophistication with everyday practicality, enhancing your reading experience.\""
      ]
     },
     "execution_count": 161,
     "metadata": {},
     "output_type": "execute_result"
    }
   ],
   "source": [
    "output0"
   ]
  },
  {
   "cell_type": "code",
   "execution_count": 162,
   "metadata": {},
   "outputs": [],
   "source": [
    "query1 = f'''\n",
    "You must continue your answer to my original query.\n",
    "Your previous response was\n",
    ">> {output0}\n",
    "\n",
    "And you now should advertise {advertisers[winners[1]]}, but without hurting the coherency of the entire document.\n",
    "Here's some contexts about {advertisers[winners[1]]}\n",
    "\n",
    ">>  {ads[winners[1]]}\n",
    "\n",
    "Make sure that there is one new sentence.\n",
    "Write the entire document, which merges your previous response and new paragraph.\n",
    "'''"
   ]
  },
  {
   "cell_type": "code",
   "execution_count": 163,
   "metadata": {},
   "outputs": [],
   "source": [
    "from openai import OpenAI\n",
    "# client = OpenAI()\n",
    "\n",
    "response = client.chat.completions.create(\n",
    "  model = \"gpt-4-turbo\",\n",
    "  logprobs = False,\n",
    "  temperature = 1,\n",
    "  max_tokens = 300,\n",
    "  messages=[\n",
    "    {\"role\": \"user\", \"content\": query0},\n",
    "    {\"role\": \"assistant\", \"content\": output0},\n",
    "    {\"role\": \"user\", \"content\": query1}\n",
    "  ]\n",
    ")"
   ]
  },
  {
   "cell_type": "code",
   "execution_count": 164,
   "metadata": {},
   "outputs": [],
   "source": [
    "output1 = response.choices[0].message.content"
   ]
  },
  {
   "cell_type": "code",
   "execution_count": 165,
   "metadata": {},
   "outputs": [
    {
     "data": {
      "text/plain": [
       "\"If you appreciated the profound storytelling of “To Kill a Mockingbird,” consider reading “The Help” by Kathryn Stockett or “Go Set a Watchman” by Harper Lee during your quiet evenings, perfectly illuminated on the retina display of your iPad, an example of how Apple's technology blends sophistication with everyday practicality, enhancing your reading experience. Additionally, explore these titles and more on Amazon, where you can easily find both e-books and physical copies, ensuring a seamless shopping experience that complements your sophisticated Apple devices while taking advantage of Amazon Prime's myriad benefits, from free shipping to exclusive streaming content.\""
      ]
     },
     "execution_count": 165,
     "metadata": {},
     "output_type": "execute_result"
    }
   ],
   "source": [
    "output1"
   ]
  },
  {
   "cell_type": "code",
   "execution_count": 166,
   "metadata": {},
   "outputs": [],
   "source": [
    "query2 = f'''\n",
    "You must continue your answer to my original query.\n",
    "Your previous response was\n",
    ">> {output1}\n",
    "\n",
    "And you now should advertise {advertisers[winners[2]]}, but without hurting the coherency of the entire document.\n",
    "Here's some contexts about {advertisers[winners[2]]}\n",
    "\n",
    ">>  {ads[winners[2]]}\n",
    "\n",
    "Make sure that there is one new sentence.\n",
    "Write the entire document, which merges your previous response and new paragraph.\n",
    "'''"
   ]
  },
  {
   "cell_type": "code",
   "execution_count": 167,
   "metadata": {},
   "outputs": [],
   "source": [
    "from openai import OpenAI\n",
    "# client = OpenAI()\n",
    "\n",
    "response = client.chat.completions.create(\n",
    "  model = \"gpt-4-turbo\",\n",
    "  logprobs = False,\n",
    "  temperature = 1,\n",
    "  max_tokens = 300,\n",
    "  messages=[\n",
    "    {\"role\": \"user\", \"content\": query0},\n",
    "    {\"role\": \"assistant\", \"content\": output0},\n",
    "    {\"role\": \"user\", \"content\": query1},\n",
    "    {\"role\": \"assistant\", \"content\": output1},\n",
    "    {\"role\": \"user\", \"content\": query2},\n",
    "  ]\n",
    ")"
   ]
  },
  {
   "cell_type": "code",
   "execution_count": 168,
   "metadata": {},
   "outputs": [],
   "source": [
    "output2 = response.choices[0].message.content"
   ]
  },
  {
   "cell_type": "code",
   "execution_count": 169,
   "metadata": {},
   "outputs": [
    {
     "data": {
      "text/plain": [
       "\"If you appreciated the profound storytelling of “To Kill a Mockingbird,” consider reading “The Help” by Kathryn Stockett or “Go Set a Watchman” by Harper Lee during your quiet evenings, perfectly illuminated on the retina display of your iPad, an example of how Apple's technology blends sophistication with everyday practicality, enhancing your reading experience. Additionally, explore these titles and more on Amazon, where you can easily find both e-books and physical copies, ensuring a seamless shopping experience that complements your sophisticated Apple devices while taking advantage of Amazon Prime's myriad benefits, from free shipping to exclusive streaming content. And what better way to enjoy your new books than paired with a delicious, handcrafted beverage from Starbucks, enhancing each reading session with the perfect blend of comfort and taste, symbolizing a delightful union between literary enrichment and gourmet satisfaction.\""
      ]
     },
     "execution_count": 169,
     "metadata": {},
     "output_type": "execute_result"
    }
   ],
   "source": [
    "output2"
   ]
  },
  {
   "cell_type": "code",
   "execution_count": 170,
   "metadata": {},
   "outputs": [
    {
     "data": {
      "text/plain": [
       "[\"Experience innovation and elegance with Apple, a global leader in technology that continually sets the standard for user-friendly interfaces, stunning designs, and groundbreaking advancements. From the iPhone's captivating visuals and camera technology to the seamless synchronization of the Apple ecosystem comprising iPads, MacBooks, and Apple Watches, Apple products are designed to enhance your life professionally and personally. Whether you're a creative professional, a student, or someone who enjoys cutting-edge technology, Apple offers a range of devices that combine sophisticated functionality with exclusive features like Face ID, Siri, and Apple Pay, all secured with industry-leading privacy protection. Embrace a world where technology meets simplicity and sophistication with Apple.\",\n",
       " 'Discover the vast and vibrant world of Amazon, your one-stop shop for everything from the latest technology and trendy fashion to everyday essentials and unique finds. With Amazon, experience seamless shopping with fast, reliable delivery, and a hassle-free return policy that ensures your satisfaction. Immerse yourself in customer-centric innovation with Amazon Prime, offering exclusive benefits like free shipping, entertainment streaming, and much more. From pioneering in global ecommerce to pioneering sustainability initiatives, Amazon is not just a marketplace but a community built on trust and customer satisfaction. Shop at Amazon today and be a part of a shopping revolution!',\n",
       " \"Experience the joy of shopping at Costco, where quality meets value in a dynamic retail environment tailored for your satisfaction. At Costco, members enjoy exclusive access to a vast selection of premium, bulk-sized products, from fresh groceries to high-tech electronics, all at unbeatably low prices. With a commitment to customer happiness, sustainability, and community support, Costco isn't just a shopping destination — it's a part of your community. Dive into a world of savings and discover why millions choose Costco as their trusted shopping partner. Join us today and see the difference Costco can make in your shopping experience, where every visit is more than just shopping — it's an adventure!\",\n",
       " \"Experience the warmth and delight of Starbucks, where every sip offers an invitation to a world of exquisite flavors and aromas. Renowned globally for its high-quality, handcrafted beverages, Starbucks is committed to sourcing the finest Arabica beans, expertly blending them into a variety of rich espressos, frothy cappuccinos, and creamy lattes. Each visit to a Starbucks store is more than just a coffee run—it's an opportunity to savor a moment of luxury amid the hustle of daily life. Whether you seek the comfort of a familiar classic or the thrill of a new seasonal specialty, Starbucks welcomes all to gather, connect, and enjoy a cup perfectly tailored to your taste. Step into your local Starbucks today and join us in celebrating the art of coffee.\"]"
      ]
     },
     "execution_count": 170,
     "metadata": {},
     "output_type": "execute_result"
    }
   ],
   "source": [
    "ads"
   ]
  },
  {
   "cell_type": "markdown",
   "metadata": {},
   "source": [
    "### Scenario 1\n",
    "\n",
    "prompt = `How to activate Internationl Roaming?`\n",
    "\n",
    "advertisers = `['AT&T', 'Huawei', 'Samsung', 'LG', 'Costco', 'Starbucks',]`"
   ]
  },
  {
   "cell_type": "code",
   "execution_count": 19,
   "metadata": {},
   "outputs": [
    {
     "data": {
      "text/plain": [
       "('How to activate Internationl Roaming?',\n",
       " ['AT&T', 'Huawei', 'Samsung', 'LG', 'Costco', 'Starbucks'])"
      ]
     },
     "execution_count": 19,
     "metadata": {},
     "output_type": "execute_result"
    }
   ],
   "source": [
    "prompt = 'How to activate Internationl Roaming?'\n",
    "advertisers = ['AT&T', 'Huawei', 'Samsung', 'LG', 'Costco', 'Starbucks',]\n",
    "\n",
    "ads = []\n",
    "for c in tqdm(advertisers):\n",
    "    ads.append(query_to_chatgpt(prompt_for_adv.format(c)))"
   ]
  },
  {
   "cell_type": "code",
   "execution_count": 72,
   "metadata": {},
   "outputs": [],
   "source": [
    "bids = np.array([3, 3, 2, 2, 1.5, 1.5])\n",
    "num_of_repeat = 200"
   ]
  },
  {
   "cell_type": "markdown",
   "metadata": {},
   "source": [
    "#### Single Allocation With Replacement"
   ]
  },
  {
   "cell_type": "code",
   "execution_count": 36,
   "metadata": {},
   "outputs": [
    {
     "name": "stdout",
     "output_type": "stream",
     "text": [
      "(q_i, b_i, adv_i)\n",
      "(0.56, 3.00, AT&T)\n",
      "(0.40, 3.00, Huawei)\n",
      "(0.46, 2.00, Samsung)\n",
      "(0.57, 2.00, LG)\n",
      "(0.38, 1.50, Costco)\n",
      "(0.35, 1.50, Starbucks)\n",
      "allocation vector:\n",
      "[0.28063362 0.19765734 0.15161781 0.18957933 0.09454949 0.08596241]\n",
      "x_max / x_min: 3.26460854975134\n"
     ]
    }
   ],
   "source": [
    "get_allocation_vector(prompt, bids, ads, advertisers)"
   ]
  },
  {
   "cell_type": "code",
   "execution_count": 91,
   "metadata": {},
   "outputs": [
    {
     "name": "stdout",
     "output_type": "stream",
     "text": [
      "Social Welfare: 3.504\n",
      "Revenue: 0.571\n",
      "Relevence: 1.431\n"
     ]
    }
   ],
   "source": [
    "runs = []\n",
    "\n",
    "for N in range(num_of_repeat):\n",
    "    m, y = single_allocation_with_replacement(prompt=prompt, advertisers=advertisers, ads=ads, bids=bids, num_of_segments=3, dependent=False)\n",
    "    sw = np.sum(m[SOCIAL_WELFARE])\n",
    "    revenue = np.sum(m[REVENUE])\n",
    "    relevence = np.sum(m[RELEVANCE])\n",
    "    runs.append((sw, revenue, relevence,))\n",
    "\n",
    "runs = np.array(runs)\n",
    "\n",
    "vals = [[float(f'{np.mean(runs[:, j]):.3f}') for j in range(3)]]\n",
    "print(f'Social Welfare: {np.mean(runs[:, 0]):.3f}\\nRevenue: {np.mean(runs[:, 1]):.3f}\\nRelevence: {np.mean(runs[:, 2]):.3f}')"
   ]
  },
  {
   "cell_type": "code",
   "execution_count": 92,
   "metadata": {},
   "outputs": [
    {
     "name": "stdout",
     "output_type": "stream",
     "text": [
      "Social Welfare: 3.354\n",
      "Revenue: 0.672\n",
      "Relevence: 1.414\n"
     ]
    }
   ],
   "source": [
    "runs = []\n",
    "\n",
    "for N in range(num_of_repeat):\n",
    "    m, y = single_allocation_without_replacement(prompt=prompt, advertisers=advertisers, ads=ads, bids=np.copy(bids), num_of_segments=3, dependent=False)\n",
    "    sw = np.sum(m[SOCIAL_WELFARE])\n",
    "    revenue = np.sum(m[REVENUE])\n",
    "    relevence = np.sum(m[RELEVANCE])\n",
    "    runs.append((sw, revenue, relevence,))\n",
    "\n",
    "runs = np.array(runs)\n",
    "\n",
    "vals.append([float(f'{np.mean(runs[:, j]):.3f}') for j in range(3)])\n",
    "print(f'Social Welfare: {np.mean(runs[:, 0]):.3f}\\nRevenue: {np.mean(runs[:, 1]):.3f}\\nRelevence: {np.mean(runs[:, 2]):.3f}')"
   ]
  },
  {
   "cell_type": "code",
   "execution_count": 93,
   "metadata": {},
   "outputs": [
    {
     "name": "stdout",
     "output_type": "stream",
     "text": [
      "Social Welfare: 3.269\n",
      "Revenue: 0.247\n",
      "Relevence: 1.389\n"
     ]
    }
   ],
   "source": [
    "runs = []\n",
    "\n",
    "for N in range(num_of_repeat):\n",
    "    m, y = single_allocation_naive_ii(prompt=prompt, advertisers=advertisers, ads=ads, bids=np.copy(bids), num_of_segments=3, dependent=False)\n",
    "    sw = np.sum(m[SOCIAL_WELFARE])\n",
    "    revenue = np.sum(m[REVENUE])\n",
    "    relevence = np.sum(m[RELEVANCE])\n",
    "    runs.append((sw, revenue, relevence,))\n",
    "\n",
    "runs = np.array(runs)\n",
    "\n",
    "vals.append([float(f'{np.mean(runs[:, j]):.3f}') for j in range(3)])\n",
    "print(f'Social Welfare: {np.mean(runs[:, 0]):.3f}\\nRevenue: {np.mean(runs[:, 1]):.3f}\\nRelevence: {np.mean(runs[:, 2]):.3f}')"
   ]
  },
  {
   "cell_type": "code",
   "execution_count": 76,
   "metadata": {},
   "outputs": [],
   "source": [
    "import pandas as pd"
   ]
  },
  {
   "cell_type": "code",
   "execution_count": 85,
   "metadata": {},
   "outputs": [],
   "source": [
    "df = pd.DataFrame({\n",
    "    'Mechanism': ['with Replacement', 'without Replacement', 'Naive (ii)'],\n",
    "    'Social Welfare': [3.558, 3.348, 3.267],\n",
    "    'Revenue': [0.545, 0.674, 0.249],\n",
    "    'Relevence': [1.444, 1.419, 1.383]\n",
    "})"
   ]
  },
  {
   "cell_type": "code",
   "execution_count": 94,
   "metadata": {},
   "outputs": [
    {
     "data": {
      "text/html": [
       "<div>\n",
       "<style scoped>\n",
       "    .dataframe tbody tr th:only-of-type {\n",
       "        vertical-align: middle;\n",
       "    }\n",
       "\n",
       "    .dataframe tbody tr th {\n",
       "        vertical-align: top;\n",
       "    }\n",
       "\n",
       "    .dataframe thead th {\n",
       "        text-align: right;\n",
       "    }\n",
       "</style>\n",
       "<table border=\"1\" class=\"dataframe\">\n",
       "  <thead>\n",
       "    <tr style=\"text-align: right;\">\n",
       "      <th></th>\n",
       "      <th>Mechanism</th>\n",
       "      <th>Social Welfare</th>\n",
       "      <th>Revenue</th>\n",
       "      <th>Relevence</th>\n",
       "    </tr>\n",
       "  </thead>\n",
       "  <tbody>\n",
       "    <tr>\n",
       "      <th>0</th>\n",
       "      <td>with Replacement</td>\n",
       "      <td>3.558</td>\n",
       "      <td>0.545</td>\n",
       "      <td>1.444</td>\n",
       "    </tr>\n",
       "    <tr>\n",
       "      <th>1</th>\n",
       "      <td>without Replacement</td>\n",
       "      <td>3.348</td>\n",
       "      <td>0.674</td>\n",
       "      <td>1.419</td>\n",
       "    </tr>\n",
       "    <tr>\n",
       "      <th>2</th>\n",
       "      <td>Naive (ii)</td>\n",
       "      <td>3.267</td>\n",
       "      <td>0.249</td>\n",
       "      <td>1.383</td>\n",
       "    </tr>\n",
       "  </tbody>\n",
       "</table>\n",
       "</div>"
      ],
      "text/plain": [
       "             Mechanism  Social Welfare  Revenue  Relevence\n",
       "0     with Replacement           3.558    0.545      1.444\n",
       "1  without Replacement           3.348    0.674      1.419\n",
       "2           Naive (ii)           3.267    0.249      1.383"
      ]
     },
     "execution_count": 94,
     "metadata": {},
     "output_type": "execute_result"
    }
   ],
   "source": [
    "df # old"
   ]
  },
  {
   "cell_type": "code",
   "execution_count": 95,
   "metadata": {},
   "outputs": [],
   "source": [
    "vals = np.array(vals)"
   ]
  },
  {
   "cell_type": "code",
   "execution_count": 96,
   "metadata": {},
   "outputs": [],
   "source": [
    "df = pd.DataFrame({\n",
    "    'Mechanism': ['with Replacement', 'without Replacement', 'Naive (ii)'],\n",
    "    'Social Welfare': vals[:, 0],\n",
    "    'Revenue': vals[:, 1],\n",
    "    'Relevence': vals[:, 2]\n",
    "})"
   ]
  },
  {
   "cell_type": "code",
   "execution_count": 97,
   "metadata": {},
   "outputs": [
    {
     "data": {
      "text/html": [
       "<div>\n",
       "<style scoped>\n",
       "    .dataframe tbody tr th:only-of-type {\n",
       "        vertical-align: middle;\n",
       "    }\n",
       "\n",
       "    .dataframe tbody tr th {\n",
       "        vertical-align: top;\n",
       "    }\n",
       "\n",
       "    .dataframe thead th {\n",
       "        text-align: right;\n",
       "    }\n",
       "</style>\n",
       "<table border=\"1\" class=\"dataframe\">\n",
       "  <thead>\n",
       "    <tr style=\"text-align: right;\">\n",
       "      <th></th>\n",
       "      <th>Mechanism</th>\n",
       "      <th>Social Welfare</th>\n",
       "      <th>Revenue</th>\n",
       "      <th>Relevence</th>\n",
       "    </tr>\n",
       "  </thead>\n",
       "  <tbody>\n",
       "    <tr>\n",
       "      <th>0</th>\n",
       "      <td>with Replacement</td>\n",
       "      <td>3.504</td>\n",
       "      <td>0.571</td>\n",
       "      <td>1.431</td>\n",
       "    </tr>\n",
       "    <tr>\n",
       "      <th>1</th>\n",
       "      <td>without Replacement</td>\n",
       "      <td>3.354</td>\n",
       "      <td>0.672</td>\n",
       "      <td>1.414</td>\n",
       "    </tr>\n",
       "    <tr>\n",
       "      <th>2</th>\n",
       "      <td>Naive (ii)</td>\n",
       "      <td>3.269</td>\n",
       "      <td>0.247</td>\n",
       "      <td>1.389</td>\n",
       "    </tr>\n",
       "  </tbody>\n",
       "</table>\n",
       "</div>"
      ],
      "text/plain": [
       "             Mechanism  Social Welfare  Revenue  Relevence\n",
       "0     with Replacement           3.504    0.571      1.431\n",
       "1  without Replacement           3.354    0.672      1.414\n",
       "2           Naive (ii)           3.269    0.247      1.389"
      ]
     },
     "execution_count": 97,
     "metadata": {},
     "output_type": "execute_result"
    }
   ],
   "source": [
    "df"
   ]
  },
  {
   "cell_type": "code",
   "execution_count": 113,
   "metadata": {},
   "outputs": [],
   "source": [
    "y_orig = query_to_chatgpt(f'{prompt} please answer the question in exactly three paragraphs.')"
   ]
  },
  {
   "cell_type": "code",
   "execution_count": 114,
   "metadata": {},
   "outputs": [],
   "source": [
    "paras = y_orig.split('\\n\\n')"
   ]
  },
  {
   "cell_type": "code",
   "execution_count": 120,
   "metadata": {},
   "outputs": [
    {
     "data": {
      "text/plain": [
       "'Finally, once international roaming is activated, make sure your phone is set up correctly to use the service abroad. This often involves enabling data roaming on your device through the network settings. Be cautious about data usage as roaming charges can be high. It’s also wise to switch off automatic software updates and any app updates to prevent background data usage. For added security and cost management, consider purchasing a local SIM card upon arrival or using Wi'"
      ]
     },
     "execution_count": 120,
     "metadata": {},
     "output_type": "execute_result"
    }
   ],
   "source": []
  },
  {
   "cell_type": "code",
   "execution_count": 111,
   "metadata": {},
   "outputs": [],
   "source": [
    "m, y = single_allocation_naive_ii(prompt=prompt, advertisers=advertisers, ads=ads, bids=np.copy(bids), num_of_segments=3, dependent=False)"
   ]
  },
  {
   "cell_type": "code",
   "execution_count": 122,
   "metadata": {},
   "outputs": [
    {
     "data": {
      "text/plain": [
       "{'social_welfare': [1.1915430128574371,\n",
       "  0.9140016436576843,\n",
       "  1.1915430128574371],\n",
       " 'revenue': [0.22294871356860899, 0.13473650951779065, 0.15123860416570703],\n",
       " 'relevance': [0.397181, 0.45700082, 0.397181],\n",
       " 'output': ['', '', ''],\n",
       " 'winner': ['(1, Huawei)', '(2, Samsung)', '(1, Huawei)']}"
      ]
     },
     "execution_count": 122,
     "metadata": {},
     "output_type": "execute_result"
    }
   ],
   "source": [
    "m"
   ]
  },
  {
   "cell_type": "code",
   "execution_count": 129,
   "metadata": {},
   "outputs": [],
   "source": [
    "ys = []\n",
    "for i in range(3):\n",
    "    query = '''\n",
    "    Rephrase this paragraph:\\n\"{}\"\\n while also advertise {} with this context:  \"{}\".\n",
    "    Make sure to connect the answer and the advertisement very naturally, not something like appending the ads after just answering the question.\n",
    "    Keep the answer short, there shoudln't be too much ad'''\n",
    "    \n",
    "    ad_ids = [1, 2, 1]\n",
    "    ad_id = ad_ids[i]\n",
    "    \n",
    "    ys.append(query_to_chatgpt(query.format(paras[i], advertisers[ad_id], ads[ad_id],)))"
   ]
  },
  {
   "cell_type": "code",
   "execution_count": 125,
   "metadata": {},
   "outputs": [
    {
     "data": {
      "text/plain": [
       "'To enable international roaming for your upcoming travels, start by checking if your mobile service provider supports roaming in your destination country, typically accessible through their website under sections like \"International\" or \"Travel Services.\" If supported, you can activate roaming conveniently online via your account or their mobile app, choosing from various plans that cater to different needs and trip durations. When selecting a device for travel, consider Huawei\\'s range of products. Renowned for their robust technology and connectivity features, Huawei devices — from smartphones to wearables —\\xa0ensure a seamless digital experience while abroad. Their reliable performance and long battery life make them an excellent choice for travelers needing consistent access to mobile services and superior technology.'"
      ]
     },
     "execution_count": 125,
     "metadata": {},
     "output_type": "execute_result"
    }
   ],
   "source": [
    "ys[0]"
   ]
  },
  {
   "cell_type": "code",
   "execution_count": 126,
   "metadata": {},
   "outputs": [
    {
     "data": {
      "text/plain": [
       "\"To activate international roaming, you will first need to check if your current mobile service provider offers international roaming services for the country you plan to visit. Often, this information is readily available on the service provider's website under international or travel services. If available, you can usually activate it online by logging into your account or through the mobile service provider's app. Look for options like “Manage Services,” “International” or “Roaming” to select your desired roaming package. Some providers may have different plans based on the destination and length of stay, offering either pay-as-you-go rates or fixed-price packages.\""
      ]
     },
     "execution_count": 126,
     "metadata": {},
     "output_type": "execute_result"
    }
   ],
   "source": [
    "paras[0]"
   ]
  },
  {
   "cell_type": "code",
   "execution_count": 130,
   "metadata": {},
   "outputs": [
    {
     "data": {
      "text/plain": [
       "\"To activate international roaming, you will first need to check if your current mobile service provider offers international roaming services for the country you plan to visit. Often, this information is readily available on the service provider's website under international or travel services. If available, you can usually activate it online by logging into your account or through the mobile service provider's app. Look for options like “Manage Services,” “International” or “Roaming” to select your desired roaming package. Some providers may have different plans based on the destination and length of stay, offering either pay-as-you-go rates or fixed-price packages.\\n---------\\nIf you cannot activate international roaming online or prefer to do it through a customer service representative, you can call or visit a local branch of your service provider. When contacting them, make sure to inquire about the specific details of the roaming services, such as cost, data speeds, and coverage. This will help you avoid unexpected charges and ensure reliable service while abroad. Be sure to activate the service at least a few days before your departure to avoid any last-minute issues.\\n---------\\nFinally, once international roaming is activated, make sure your phone is set up correctly to use the service abroad. This often involves enabling data roaming on your device through the network settings. Be cautious about data usage as roaming charges can be high. It’s also wise to switch off automatic software updates and any app updates to prevent background data usage. For added security and cost management, consider purchasing a local SIM card upon arrival or using Wi\""
      ]
     },
     "execution_count": 130,
     "metadata": {},
     "output_type": "execute_result"
    }
   ],
   "source": [
    "paras[0] + '\\n---------\\n' + paras[1] + '\\n---------\\n' + paras[2]"
   ]
  },
  {
   "cell_type": "code",
   "execution_count": 131,
   "metadata": {},
   "outputs": [
    {
     "data": {
      "text/plain": [
       "\"Before traveling internationally, it's important to ensure your mobile service provider supports international roaming in your destination country. Typically, you can find this information and activate roaming services directly through your provider's website or mobile app under sections like “Manage Services” or “Roaming.” Providers might offer different roaming plans based on the destination and duration of your stay, from pay-as-you-go to predetermined packages.\\n\\nAs you prepare for your travels, consider equipping yourself with Huawei's latest technology. Their devices, from smartphones and wearables to tablets, are crafted to deliver a seamless digital experience, ensuring you stay connected effortlessly, no matter where you roam. Huawei’s commitment to innovation and reliability means you can enjoy uninterrupted service and superior performance, enhancing your travel experience worldwide.\\n---------\\nIf you're unable to set up international roaming online, or you prefer a more personal touch, don’t hesitate to contact a customer service representative by calling or visiting your local service provider’s branch. When speaking with them, it's important to ask about details like costs, data speeds, and coverage areas so you can confidently manage your expenses and enjoy dependable service abroad. Make sure to enable this service a few days before you travel to prevent any last-minute problems.\\n\\nMoreover, if you’re planning to travel, consider enhancing your experience with Samsung’s range of devices. From the globally acclaimed Galaxy smartphones to our advanced tablets, each product offers seamless connectivity and high-quality performance that cater to your needs while exploring new destinations. Embrace the convenience and innovation by Samsung, and ensure your traveling not only stays connected but does so with style and efficiency.\\n---------\\n**Before heading overseas with an activated international roaming service, it's crucial to set up your phone correctly to handle roaming efficiently. On your Huawei device, access the network settings to enable data roaming. Be mindful of data usage as roaming charges can be significant. Also, disable automatic software and app updates to minimize unnecessary data consumption. For enhanced ease of use and optimized cost management, consider using a locally purchased SIM card.**\\n\\n**Championing technological innovation, Huawei's range of smartphones provides not only the flexibility to manually control your data settings but also offers robust performance, ensuring you stay connected when it matters most. Experience the exceptional functionality of Huawei devices, designed with precision to adapt to your dynamic lifestyle and assist in managing your roaming needs effectively.**\""
      ]
     },
     "execution_count": 131,
     "metadata": {},
     "output_type": "execute_result"
    }
   ],
   "source": [
    "ys[0] + '\\n---------\\n' + ys[1] + '\\n---------\\n' + ys[2]"
   ]
  },
  {
   "cell_type": "code",
   "execution_count": 134,
   "metadata": {},
   "outputs": [],
   "source": [
    "y_init = query_to_chatgpt(prompt_to_init_answer.format(prompt, advertisers[1], ads[1]))"
   ]
  },
  {
   "cell_type": "code",
   "execution_count": 135,
   "metadata": {},
   "outputs": [
    {
     "data": {
      "text/plain": [
       "\"To activate international roaming, usually, you first need to contact your mobile network provider or adjust settings in your mobile account to enable the service, which can often be done via an app or website. With a Huawei smartphone, this process becomes even more seamless and user-friendly, leveraging its intuitive user interface and robust connectivity features. Huawei devices, known for their reliability and cutting-edge technology, ensure that you remain connected in the most remote locations without missing a beat. This feature, combined with Huawei's commitment to high-quality, innovative technology, makes it an excellent choice for global travelers who need dependable communication solutions, ensuring you're always just a tap away from home.\""
      ]
     },
     "execution_count": 135,
     "metadata": {},
     "output_type": "execute_result"
    }
   ],
   "source": [
    "y_init"
   ]
  },
  {
   "cell_type": "code",
   "execution_count": null,
   "metadata": {},
   "outputs": [],
   "source": [
    "query = '''\n",
    "Please continue your response\n",
    "'''\n",
    "y_second = query_to_chatgpt()"
   ]
  },
  {
   "cell_type": "code",
   "execution_count": 140,
   "metadata": {},
   "outputs": [
    {
     "data": {
      "text/plain": [
       "\"To activate international roaming, usually, you first need to contact your mobile network provider or adjust settings in your mobile account to enable the service, which can often be done via an app or website. With a Huawei smartphone, this process becomes even more seamless and user-friendly, leveraging its intuitive user interface and robust connectivity features. Huawei devices, known for their reliability and cutting-edge technology, ensure that you remain connected in the most remote locations without missing a beat. This feature, combined with Huawei's commitment to high-quality, innovative technology, makes it an excellent choice for global travelers who need dependable communication solutions, ensuring you're always just a tap away from home.\""
      ]
     },
     "execution_count": 140,
     "metadata": {},
     "output_type": "execute_result"
    }
   ],
   "source": [
    "y_init"
   ]
  },
  {
   "cell_type": "code",
   "execution_count": 144,
   "metadata": {},
   "outputs": [],
   "source": [
    "from openai import OpenAI\n",
    "# client = OpenAI()\n",
    "\n",
    "response = client.chat.completions.create(\n",
    "  model = \"gpt-4-turbo\",\n",
    "  logprobs = False,\n",
    "  temperature = 1,\n",
    "  max_tokens = 300,\n",
    "  messages=[\n",
    "    {\"role\": \"user\", \"content\": prompt_to_init_answer.format(prompt, advertisers[1], ads[1])},\n",
    "    {\"role\": \"assistant\", \"content\": y_init},\n",
    "    {\"role\": \"user\", \"content\": f\"Please continue your response for {prompt} for one more paragraph while minimally advertising {advertisers[2]} with context {ads[2]}. Don't put too much advertisement.\"}\n",
    "  ]\n",
    ")"
   ]
  },
  {
   "cell_type": "code",
   "execution_count": 145,
   "metadata": {},
   "outputs": [
    {
     "data": {
      "text/plain": [
       "\"Once international roaming is activated on your device, you can make the necessary adjustments to your phone settings to ensure optimal functionality while abroad. For example, on Samsung Galaxy devices, users can easily manage their data usage and select preferred network types through the 'Connections' section in the settings menu, which helps in controlling roaming charges and enhancing the user experience. Samsung's dedication to innovation is evident in these user-centric features that simplify technology management while you're on the move. Moreover, the sophisticated design and powerful capabilities of Samsung smartphones ensure that you stay connected and productive with style and efficiency, no matter where your travels take you.\""
      ]
     },
     "execution_count": 145,
     "metadata": {},
     "output_type": "execute_result"
    }
   ],
   "source": [
    "response.choices[0].message.content"
   ]
  },
  {
   "cell_type": "code",
   "execution_count": null,
   "metadata": {},
   "outputs": [],
   "source": []
  }
 ],
 "metadata": {
  "kernelspec": {
   "display_name": "mlc",
   "language": "python",
   "name": "python3"
  },
  "language_info": {
   "codemirror_mode": {
    "name": "ipython",
    "version": 3
   },
   "file_extension": ".py",
   "mimetype": "text/x-python",
   "name": "python",
   "nbconvert_exporter": "python",
   "pygments_lexer": "ipython3",
   "version": "3.8.5"
  }
 },
 "nbformat": 4,
 "nbformat_minor": 2
}
