{
 "cells": [
  {
   "cell_type": "code",
   "execution_count": 1,
   "metadata": {},
   "outputs": [],
   "source": [
    "import numpy as np\n",
    "import pandas as pd\n",
    "import json\n",
    "import matplotlib.pyplot as plt\n",
    "from sentence_transformers import SentenceTransformer, util"
   ]
  },
  {
   "cell_type": "code",
   "execution_count": 6,
   "metadata": {},
   "outputs": [],
   "source": [
    "advertisers = ['Velora', 'BookHaven', 'MassMart', 'EspressoEdge']\n",
    "ads = [\n",
    "    \"Discover the future of technology with Velora, the brand that redefines innovation and elegance. Velora designs and sells a premium range of smartphones, tablets, laptops, and smartwatches, all crafted to seamlessly integrate into your lifestyle. Our products are engineered with user-friendly interfaces, stunning designs, and cutting-edge technology to keep you connected and productive. Velora's ecosystem offers unparalleled synchronization across devices, ensuring a smooth and efficient experience whether you're at work, school, or on the go. With Velora Pay, you can enjoy secure and convenient payment services, while our robust cloud service keeps your data safe and accessible anytime, anywhere. Elevate your tech experience with Velora, where sophistication meets simplicity and advanced functionality.\",\n",
    "    \"Introducing BookHaven, your ultimate online bookstore where the world of literature is just a click away. At BookHaven, we offer an extensive collection of books spanning every genre and interest, from timeless classics and gripping thrillers to insightful non-fiction and enchanting children's stories. Our user-friendly platform ensures a seamless shopping experience, with personalized recommendations and unbeatable prices. Whether you're a voracious reader or just looking for your next great read, BookHaven is dedicated to delivering literary treasures right to your doorstep with fast, reliable shipping and a hassle-free return policy. Discover the joy of reading with BookHaven, where every book finds its perfect reader. Dive into a world of endless possibilities and let your next adventure begin at BookHaven!\",\n",
    "    \"Experience the joy of shopping at MassMart, where quality meets value in a dynamic retail environment tailored for your satisfaction. At MassMart, members enjoy exclusive access to a vast selection of premium, bulk-sized products, from fresh groceries to high-tech electronics, all at unbeatably low prices. With a commitment to customer happiness, sustainability, and community support, MassMart isn't just a shopping destination — it's a part of your community. Dive into a world of savings and discover why millions choose MassMart as their trusted shopping partner. Join us today and see the difference MassMart can make in your shopping experience, where every visit is more than just shopping — it's an adventure!\",\n",
    "    \"Experience the warmth and delight of EspressoEdge, where every sip offers an invitation to a world of exquisite flavors and aromas. Renowned globally for its high-quality, handcrafted beverages, EspressoEdge is committed to sourcing the finest Arabica beans, expertly blending them into a variety of rich espressos, frothy cappuccinos, and creamy lattes. Each visit to an EspressoEdge store is more than just a coffee run—it's an opportunity to savor a moment of luxury amid the hustle of daily life. Whether you seek the comfort of a familiar classic or the thrill of a new seasonal specialty, EspressoEdge welcomes all to gather, connect, and enjoy a cup perfectly tailored to your taste. Step into your local EspressoEdge today and join us in celebrating the art of coffee.\",\n",
    "]\n",
    "prompt = '\"Can you suggest some books similar to \\\"To Kill a Mockingbird\\\"?\"'\n",
    "\n",
    "advertisers = ['Velora', 'BookHaven', 'MassMart', 'EspressoEdge', 'SocialHub', 'ColaBubbles', 'FizzyPop', 'SkyTech', 'AeroDynamics', 'MusicStream', 'BrainChips']\n",
    "ads = [\n",
    "    \"Discover the future of technology with Velora, the brand that redefines innovation and elegance. Velora designs and sells a premium range of smartphones, tablets, laptops, and smartwatches, all crafted to seamlessly integrate into your lifestyle. Our products are engineered with user-friendly interfaces, stunning designs, and cutting-edge technology to keep you connected and productive. Velora's ecosystem offers unparalleled synchronization across devices, ensuring a smooth and efficient experience whether you're at work, school, or on the go. With Velora Pay, you can enjoy secure and convenient payment services, while our robust cloud service keeps your data safe and accessible anytime, anywhere. Elevate your tech experience with Velora, where sophistication meets simplicity and advanced functionality.\",\n",
    "    \"Introducing BookHaven, your ultimate online bookstore where the world of literature is just a click away. At BookHaven, we offer an extensive collection of books spanning every genre and interest, from timeless classics and gripping thrillers to insightful non-fiction and enchanting children's stories. Our user-friendly platform ensures a seamless shopping experience, with personalized recommendations and unbeatable prices. Whether you're a voracious reader or just looking for your next great read, BookHaven is dedicated to delivering literary treasures right to your doorstep with fast, reliable shipping and a hassle-free return policy. Discover the joy of reading with BookHaven, where every book finds its perfect reader. Dive into a world of endless possibilities and let your next adventure begin at BookHaven!\",\n",
    "    \"Experience the joy of shopping at MassMart, where quality meets value in a dynamic retail environment tailored for your satisfaction. At MassMart, members enjoy exclusive access to a vast selection of premium, bulk-sized products, from fresh groceries to high-tech electronics, all at unbeatably low prices. With a commitment to customer happiness, sustainability, and community support, MassMart isn't just a shopping destination — it's a part of your community. Dive into a world of savings and discover why millions choose MassMart as their trusted shopping partner. Join us today and see the difference MassMart can make in your shopping experience, where every visit is more than just shopping — it's an adventure!\",\n",
    "    \"Experience the warmth and delight of EspressoEdge, where every sip offers an invitation to a world of exquisite flavors and aromas. Renowned globally for its high-quality, handcrafted beverages, EspressoEdge is committed to sourcing the finest Arabica beans, expertly blending them into a variety of rich espressos, frothy cappuccinos, and creamy lattes. Each visit to an EspressoEdge store is more than just a coffee run—it's an opportunity to savor a moment of luxury amid the hustle of daily life. Whether you seek the comfort of a familiar classic or the thrill of a new seasonal specialty, EspressoEdge welcomes all to gather, connect, and enjoy a cup perfectly tailored to your taste. Step into your local EspressoEdge today and join us in celebrating the art of coffee.\",\n",
    "    \"Discover the power of connection with SocialHub, the world's leading social media platform. With over two billion active users, SocialHub is your gateway to staying in touch with friends and family, discovering new communities, and sharing your life's moments. Our innovative features, from personalized news feeds to interactive groups, make it easy to engage with what matters most to you. Whether you're promoting your business, staying updated on the latest news, or simply keeping up with loved ones, SocialHub is the ultimate tool to enhance your digital experience. Join us today and be part of a global network where connections come to life!\",\n",
    "    \"Experience the refreshing taste of ColaBubbles, the world's favorite soft drink. With its unique blend of flavors and effervescent bubbles, ColaBubbles has been bringing joy to people of all ages for over a century. Whether you're enjoying a moment of relaxation, celebrating with friends, or on the go, ColaBubbles is the perfect companion to quench your thirst and uplift your spirits. Our commitment to quality and tradition ensures every sip is as delightful as the first. Indulge in the classic taste of ColaBubbles and make every moment special. Taste the feeling!\",\n",
    "    \"Unleash the bold taste of FizzyPop, the iconic soft drink that invigorates and refreshes like no other. Known for its crisp, refreshing flavor and vibrant effervescence, FizzyPop is the perfect choice for those who dare to live life to the fullest. Whether you're at a party, watching a game, or simply taking a break, FizzyPop brings a burst of excitement to any occasion. With a heritage of quality and a commitment to innovation, every sip of FizzyPop delivers an unmatched experience. Embrace the bold, and make every moment extraordinary with the unmistakable taste of FizzyPop.\",\n",
    "    \"Explore the skies with SkyTech, the world's leading aerospace company renowned for its innovation, quality, and reliability. SkyTech designs, manufactures, and services commercial airplanes, defense systems, and space technologies, making global connectivity and exploration possible. Whether you're traveling for business or leisure, SkyTech's state-of-the-art aircraft ensure a safe, comfortable, and efficient journey. With a legacy of pioneering advancements and a commitment to excellence, SkyTech continues to shape the future of aviation. Choose SkyTech and experience the pinnacle of aerospace engineering and performance. Fly with confidence, fly with SkyTech.\",\n",
    "    \"Experience the future of aviation with AeroDynamics, the global leader in aerospace innovation and excellence. AeroDynamics designs and manufactures the world’s most advanced commercial aircraft, providing unparalleled comfort, efficiency, and reliability. From cutting-edge technology to sustainable solutions, AeroDynamics is dedicated to shaping the future of air travel. Whether you're embarking on a long-haul journey or a short domestic flight, AeroDynamics ensures a superior flying experience with spacious cabins, innovative features, and top-notch safety standards. Trust AeroDynamics for a seamless and enjoyable journey every time. Fly smarter, fly with AeroDynamics.\",\n",
    "    \"Immerse yourself in the world of music with MusicStream, the ultimate destination for streaming your favorite tunes anytime, anywhere. With a vast library of millions of songs, playlists curated just for you, and personalized recommendations, MusicStream puts the power of music discovery in your hands. Whether you're in the mood for chart-topping hits, underground gems, or soothing melodies, MusicStream has something for everyone. Plus, with offline listening capabilities and seamless integration across devices, you can take your music with you wherever you go. Join the millions of music lovers worldwide and unlock endless possibilities with MusicStream. Discover, stream, and experience the joy of music like never before.\", \n",
    "    \"Experience the cutting-edge innovation of BrainChips, the global leader in semiconductor technology. BrainChips' groundbreaking processors power the devices that fuel our modern world, from laptops and desktops to servers and cloud computing systems. With a legacy of pushing the boundaries of technology, BrainChips continues to deliver industry-leading performance, reliability, and security. Whether you're a professional tackling complex tasks or a gamer seeking immersive experiences, BrainChips processors provide the power and efficiency you need. Trust BrainChips to deliver the performance you demand and the reliability you can count on. Join the millions who rely on BrainChips technology and unlock new possibilities for productivity, creativity, and entertainment.\",\n",
    "]\n"
   ]
  },
  {
   "cell_type": "code",
   "execution_count": 2,
   "metadata": {},
   "outputs": [],
   "source": [
    "\n",
    "methods = ['single_alloc_with_replacement', 'single_alloc_without_replacement', 'single_alloc_naive_i', 'single_alloc_naive_ii']\n",
    "# bids = np.array([2, 1, 3, 3,])\n",
    "# bids = np.array([3, 3, 2, 2])\n",
    "bids = np.array([1, 1, 1, 1, 1, 1, 1, 1, 1, 1, 1]) # Scenario 3"
   ]
  },
  {
   "cell_type": "code",
   "execution_count": 3,
   "metadata": {},
   "outputs": [],
   "source": [
    "model = SentenceTransformer('multi-qa-MiniLM-L6-cos-v1')"
   ]
  },
  {
   "cell_type": "code",
   "execution_count": 4,
   "metadata": {},
   "outputs": [],
   "source": [
    "def rag_based_relevance(x: str, ads: list): \n",
    "    x_embedding = model.encode(x)\n",
    "    ads_embedding = model.encode(ads)\n",
    "    bf = (1 + util.dot_score(x_embedding, ads_embedding)[0].numpy()) / 2\n",
    "    return (bf - 0.4) /0.35\n",
    "\n",
    "def get_allocation_vector(prompt: str, bids: np.ndarray, ads: list, advertisers: list):\n",
    "    q = rag_based_relevance(prompt, ads, )\n",
    "    x = q * bids / np.sum(q * bids)\n",
    "    \n",
    "    output = { i: { 'q': float(q[i]), 'bid': float(bids[i]), 'adv': advertisers[i], 'x': float(x[i])} for i in range(len(advertisers))}\n",
    "    \n",
    "    print(f'(q_i, b_i, adv_i)')\n",
    "    for y in list(zip(q, bids, advertisers)):\n",
    "        print(f'({y[0]:.2f}, {y[1]:.2f}, {y[2]})')\n",
    "        \n",
    "    print(f'allocation vector:\\n{x}')\n",
    "    print(f'x_max / x_min: {np.max(x) / np.min(x)}')\n",
    "\n",
    "    return output"
   ]
  },
  {
   "cell_type": "code",
   "execution_count": 7,
   "metadata": {},
   "outputs": [
    {
     "name": "stdout",
     "output_type": "stream",
     "text": [
      "(q_i, b_i, adv_i)\n",
      "(0.36, 1.00, Velora)\n",
      "(0.87, 1.00, BookHaven)\n",
      "(0.31, 1.00, MassMart)\n",
      "(0.26, 1.00, EspressoEdge)\n",
      "(0.21, 1.00, SocialHub)\n",
      "(0.36, 1.00, ColaBubbles)\n",
      "(0.38, 1.00, FizzyPop)\n",
      "(0.28, 1.00, SkyTech)\n",
      "(0.33, 1.00, AeroDynamics)\n",
      "(0.34, 1.00, MusicStream)\n",
      "(0.33, 1.00, BrainChips)\n",
      "allocation vector:\n",
      "[0.08853651 0.21578052 0.07629691 0.06459284 0.05317406 0.0880366\n",
      " 0.09470903 0.07033001 0.08184636 0.08430283 0.08239433]\n",
      "x_max / x_min: 4.058003763758804\n"
     ]
    },
    {
     "data": {
      "text/plain": [
       "{0: {'q': 0.3573685884475708,\n",
       "  'bid': 1.0,\n",
       "  'adv': 'Velora',\n",
       "  'x': 0.08853651255656816},\n",
       " 1: {'q': 0.8709760308265686,\n",
       "  'bid': 1.0,\n",
       "  'adv': 'BookHaven',\n",
       "  'x': 0.21578052123923475},\n",
       " 2: {'q': 0.3079646825790405,\n",
       "  'bid': 1.0,\n",
       "  'adv': 'MassMart',\n",
       "  'x': 0.07629690987835361},\n",
       " 3: {'q': 0.26072239875793457,\n",
       "  'bid': 1.0,\n",
       "  'adv': 'EspressoEdge',\n",
       "  'x': 0.06459283965523174},\n",
       " 4: {'q': 0.21463164687156677,\n",
       "  'bid': 1.0,\n",
       "  'adv': 'SocialHub',\n",
       "  'x': 0.0531740564575928},\n",
       " 5: {'q': 0.3553507328033447,\n",
       "  'bid': 1.0,\n",
       "  'adv': 'ColaBubbles',\n",
       "  'x': 0.08803659760221125},\n",
       " 6: {'q': 0.3822833299636841,\n",
       "  'bid': 1.0,\n",
       "  'adv': 'FizzyPop',\n",
       "  'x': 0.09470903134079431},\n",
       " 7: {'q': 0.2838799059391022,\n",
       "  'bid': 1.0,\n",
       "  'adv': 'SkyTech',\n",
       "  'x': 0.07033001128027808},\n",
       " 8: {'q': 0.330364465713501,\n",
       "  'bid': 1.0,\n",
       "  'adv': 'AeroDynamics',\n",
       "  'x': 0.08184635866836532},\n",
       " 9: {'q': 0.340279757976532,\n",
       "  'bid': 1.0,\n",
       "  'adv': 'MusicStream',\n",
       "  'x': 0.08430282917619977},\n",
       " 10: {'q': 0.33257630467414856,\n",
       "  'bid': 1.0,\n",
       "  'adv': 'BrainChips',\n",
       "  'x': 0.08239433214517022}}"
      ]
     },
     "execution_count": 7,
     "metadata": {},
     "output_type": "execute_result"
    }
   ],
   "source": [
    "get_allocation_vector(prompt, bids, ads, advertisers)"
   ]
  },
  {
   "cell_type": "code",
   "execution_count": 8,
   "metadata": {},
   "outputs": [],
   "source": [
    "SOCIAL_WELFARE = 'social_welfare'\n",
    "REVENUE = 'revenue'\n",
    "RELEVANCE = 'relevance'\n",
    "OUTPUT = 'output'\n",
    "WINNER = 'winner'\n",
    "AUCTION_SCORES = 'auction_scores'"
   ]
  },
  {
   "cell_type": "code",
   "execution_count": 9,
   "metadata": {},
   "outputs": [],
   "source": [
    "max_payment = np.max(bids) * 3"
   ]
  },
  {
   "cell_type": "code",
   "execution_count": 11,
   "metadata": {},
   "outputs": [
    {
     "name": "stdout",
     "output_type": "stream",
     "text": [
      "0 --> 500\n",
      "1 --> 500\n",
      "2 --> 500\n",
      "3 --> 500\n"
     ]
    }
   ],
   "source": [
    "vals = []\n",
    "stds = []\n",
    "mins = []\n",
    "\n",
    "\n",
    "\n",
    "for method_id in range(4):\n",
    "    cnt = 0\n",
    "    runs = []\n",
    "    ind_sw = np.zeros(len(advertisers))\n",
    "    \n",
    "    path_file = f'scenario3_output_0/{methods[method_id]}_dep0.json'\n",
    "    with open(path_file, 'r') as f:\n",
    "        metrics = json.loads(f.read())\n",
    "    \n",
    "    for metric in metrics:\n",
    "        \n",
    "        sw = np.sum(metric[SOCIAL_WELFARE])\n",
    "        revenue = np.sum(metric[REVENUE])\n",
    "        relevence = np.sum(metric[RELEVANCE])\n",
    "        max_sw, max_rel = metric['(Max SW, Max Relv)']\n",
    "        \n",
    "        sw /= max_sw\n",
    "        revenue /= max_payment\n",
    "        relevence /= max_rel\n",
    "        \n",
    "        for i in range(3):\n",
    "            ind_sw[metric[WINNER][i][0]] += metric[SOCIAL_WELFARE][i]\n",
    "        \n",
    "        runs.append((sw, revenue, relevence,))\n",
    "    \n",
    "    ind_sw /= len(runs)\n",
    "    \n",
    "    min_id, min_sw = np.argmin(ind_sw), np.min(ind_sw)\n",
    "    mins.append((min_id, f'{min_sw:.3f}', ))\n",
    "    runs = np.array(runs)\n",
    "    \n",
    "    vals.append([float(f'{np.mean(runs[:, j]):.3f}') for j in range(3)])\n",
    "    stds.append([float(f'{np.std(runs[:, j]):.3f}') for j in range(3)])\n",
    "    \n",
    "    print(f'{method_id} --> {len(runs)}')"
   ]
  },
  {
   "cell_type": "code",
   "execution_count": 12,
   "metadata": {},
   "outputs": [
    {
     "data": {
      "text/plain": [
       "(4, 3)"
      ]
     },
     "execution_count": 12,
     "metadata": {},
     "output_type": "execute_result"
    }
   ],
   "source": [
    "len(vals), len(vals[0])"
   ]
  },
  {
   "cell_type": "code",
   "execution_count": 13,
   "metadata": {},
   "outputs": [
    {
     "data": {
      "text/plain": [
       "[(3, '0.039'), (4, '0.034'), (4, '0.039'), (4, '0.052')]"
      ]
     },
     "execution_count": 13,
     "metadata": {},
     "output_type": "execute_result"
    }
   ],
   "source": [
    "mins "
   ]
  },
  {
   "cell_type": "code",
   "execution_count": 36,
   "metadata": {},
   "outputs": [
    {
     "data": {
      "text/plain": [
       "[(0, '0.439'), (0, '0.490'), (0, '0.472'), (1, '0.287')]"
      ]
     },
     "execution_count": 36,
     "metadata": {},
     "output_type": "execute_result"
    }
   ],
   "source": [
    "mins"
   ]
  },
  {
   "cell_type": "code",
   "execution_count": 14,
   "metadata": {},
   "outputs": [],
   "source": [
    "vals = np.array(vals)\n",
    "\n",
    "df = pd.DataFrame({\n",
    "        'Mechanism': methods,\n",
    "        'Social Welfare': vals[:, 0],\n",
    "        'Revenue': vals[:, 1],\n",
    "        'Relevence': vals[:, 2],\n",
    "        'Min. Social Welfare': np.array(mins)[:, 1],\n",
    "    })"
   ]
  },
  {
   "cell_type": "code",
   "execution_count": 15,
   "metadata": {},
   "outputs": [
    {
     "data": {
      "text/html": [
       "<div>\n",
       "<style scoped>\n",
       "    .dataframe tbody tr th:only-of-type {\n",
       "        vertical-align: middle;\n",
       "    }\n",
       "\n",
       "    .dataframe tbody tr th {\n",
       "        vertical-align: top;\n",
       "    }\n",
       "\n",
       "    .dataframe thead th {\n",
       "        text-align: right;\n",
       "    }\n",
       "</style>\n",
       "<table border=\"1\" class=\"dataframe\">\n",
       "  <thead>\n",
       "    <tr style=\"text-align: right;\">\n",
       "      <th></th>\n",
       "      <th>Mechanism</th>\n",
       "      <th>Social Welfare</th>\n",
       "      <th>Revenue</th>\n",
       "      <th>Relevence</th>\n",
       "      <th>Min. Social Welfare</th>\n",
       "    </tr>\n",
       "  </thead>\n",
       "  <tbody>\n",
       "    <tr>\n",
       "      <th>0</th>\n",
       "      <td>single_alloc_with_replacement</td>\n",
       "      <td>0.507</td>\n",
       "      <td>0.482</td>\n",
       "      <td>0.507</td>\n",
       "      <td>0.039</td>\n",
       "    </tr>\n",
       "    <tr>\n",
       "      <th>1</th>\n",
       "      <td>single_alloc_without_replacement</td>\n",
       "      <td>0.489</td>\n",
       "      <td>0.481</td>\n",
       "      <td>0.489</td>\n",
       "      <td>0.034</td>\n",
       "    </tr>\n",
       "    <tr>\n",
       "      <th>2</th>\n",
       "      <td>single_alloc_naive_i</td>\n",
       "      <td>0.513</td>\n",
       "      <td>0.479</td>\n",
       "      <td>0.513</td>\n",
       "      <td>0.039</td>\n",
       "    </tr>\n",
       "    <tr>\n",
       "      <th>3</th>\n",
       "      <td>single_alloc_naive_ii</td>\n",
       "      <td>0.423</td>\n",
       "      <td>0.495</td>\n",
       "      <td>0.423</td>\n",
       "      <td>0.052</td>\n",
       "    </tr>\n",
       "  </tbody>\n",
       "</table>\n",
       "</div>"
      ],
      "text/plain": [
       "                          Mechanism  Social Welfare  Revenue  Relevence  \\\n",
       "0     single_alloc_with_replacement           0.507    0.482      0.507   \n",
       "1  single_alloc_without_replacement           0.489    0.481      0.489   \n",
       "2              single_alloc_naive_i           0.513    0.479      0.513   \n",
       "3             single_alloc_naive_ii           0.423    0.495      0.423   \n",
       "\n",
       "  Min. Social Welfare  \n",
       "0               0.039  \n",
       "1               0.034  \n",
       "2               0.039  \n",
       "3               0.052  "
      ]
     },
     "execution_count": 15,
     "metadata": {},
     "output_type": "execute_result"
    }
   ],
   "source": [
    "df"
   ]
  },
  {
   "cell_type": "code",
   "execution_count": 39,
   "metadata": {},
   "outputs": [
    {
     "data": {
      "text/plain": [
       "array([[0.898, 0.347, 0.527],\n",
       "       [0.896, 0.317, 0.521],\n",
       "       [0.899, 0.339, 0.519],\n",
       "       [0.897, 0.378, 0.418]])"
      ]
     },
     "execution_count": 39,
     "metadata": {},
     "output_type": "execute_result"
    }
   ],
   "source": [
    "vals"
   ]
  },
  {
   "cell_type": "code",
   "execution_count": 16,
   "metadata": {},
   "outputs": [
    {
     "data": {
      "text/plain": [
       "500"
      ]
     },
     "execution_count": 16,
     "metadata": {},
     "output_type": "execute_result"
    }
   ],
   "source": [
    "N = 500\n",
    "N"
   ]
  },
  {
   "cell_type": "code",
   "execution_count": 17,
   "metadata": {},
   "outputs": [
    {
     "data": {
      "text/html": [
       "<div>\n",
       "<style scoped>\n",
       "    .dataframe tbody tr th:only-of-type {\n",
       "        vertical-align: middle;\n",
       "    }\n",
       "\n",
       "    .dataframe tbody tr th {\n",
       "        vertical-align: top;\n",
       "    }\n",
       "\n",
       "    .dataframe thead th {\n",
       "        text-align: right;\n",
       "    }\n",
       "</style>\n",
       "<table border=\"1\" class=\"dataframe\">\n",
       "  <thead>\n",
       "    <tr style=\"text-align: right;\">\n",
       "      <th></th>\n",
       "      <th>Mechanism</th>\n",
       "      <th>Social Welfare</th>\n",
       "      <th>Revenue</th>\n",
       "      <th>Relevence</th>\n",
       "    </tr>\n",
       "  </thead>\n",
       "  <tbody>\n",
       "    <tr>\n",
       "      <th>0</th>\n",
       "      <td>single_alloc_with_replacement</td>\n",
       "      <td>0.006753</td>\n",
       "      <td>0.006977</td>\n",
       "      <td>0.006753</td>\n",
       "    </tr>\n",
       "    <tr>\n",
       "      <th>1</th>\n",
       "      <td>single_alloc_without_replacement</td>\n",
       "      <td>0.004830</td>\n",
       "      <td>0.007379</td>\n",
       "      <td>0.004830</td>\n",
       "    </tr>\n",
       "    <tr>\n",
       "      <th>2</th>\n",
       "      <td>single_alloc_naive_i</td>\n",
       "      <td>0.006798</td>\n",
       "      <td>0.007290</td>\n",
       "      <td>0.006798</td>\n",
       "    </tr>\n",
       "    <tr>\n",
       "      <th>3</th>\n",
       "      <td>single_alloc_naive_ii</td>\n",
       "      <td>0.004875</td>\n",
       "      <td>0.007066</td>\n",
       "      <td>0.004875</td>\n",
       "    </tr>\n",
       "  </tbody>\n",
       "</table>\n",
       "</div>"
      ],
      "text/plain": [
       "                          Mechanism  Social Welfare   Revenue  Relevence\n",
       "0     single_alloc_with_replacement        0.006753  0.006977   0.006753\n",
       "1  single_alloc_without_replacement        0.004830  0.007379   0.004830\n",
       "2              single_alloc_naive_i        0.006798  0.007290   0.006798\n",
       "3             single_alloc_naive_ii        0.004875  0.007066   0.004875"
      ]
     },
     "execution_count": 17,
     "metadata": {},
     "output_type": "execute_result"
    }
   ],
   "source": [
    "import math\n",
    "stds = np.array(stds)\n",
    "\n",
    "df = pd.DataFrame({\n",
    "        'Mechanism': methods,\n",
    "        'Social Welfare': stds[:, 0] / N**0.5,\n",
    "        'Revenue': stds[:, 1] / N**0.5,\n",
    "        'Relevence': stds[:, 2] / N**0.5\n",
    "    })\n",
    "df"
   ]
  },
  {
   "cell_type": "code",
   "execution_count": 18,
   "metadata": {},
   "outputs": [
    {
     "name": "stdout",
     "output_type": "stream",
     "text": [
      "0.507 ($\\pm$ 0.0068)\t |0.482 ($\\pm$ 0.0070)\t |0.507 ($\\pm$ 0.0068)\t |\n",
      "\n",
      "0.489 ($\\pm$ 0.0048)\t |0.481 ($\\pm$ 0.0074)\t |0.489 ($\\pm$ 0.0048)\t |\n",
      "\n",
      "0.513 ($\\pm$ 0.0068)\t |0.479 ($\\pm$ 0.0073)\t |0.513 ($\\pm$ 0.0068)\t |\n",
      "\n",
      "0.423 ($\\pm$ 0.0049)\t |0.495 ($\\pm$ 0.0071)\t |0.423 ($\\pm$ 0.0049)\t |\n",
      "\n"
     ]
    }
   ],
   "source": [
    "for i in range(4):\n",
    "    row = ''\n",
    "    for j in range(3):\n",
    "        row += f'{vals[i, j]} ($\\pm$ {(stds[i, j]/N**0.5):.4f})\\t |'\n",
    "    row += '\\n';\n",
    "    print(row)"
   ]
  },
  {
   "cell_type": "markdown",
   "metadata": {},
   "source": [
    "### OLD (uniform distribution)"
   ]
  },
  {
   "cell_type": "code",
   "execution_count": 14,
   "metadata": {},
   "outputs": [
    {
     "data": {
      "text/html": [
       "<div>\n",
       "<style scoped>\n",
       "    .dataframe tbody tr th:only-of-type {\n",
       "        vertical-align: middle;\n",
       "    }\n",
       "\n",
       "    .dataframe tbody tr th {\n",
       "        vertical-align: top;\n",
       "    }\n",
       "\n",
       "    .dataframe thead th {\n",
       "        text-align: right;\n",
       "    }\n",
       "</style>\n",
       "<table border=\"1\" class=\"dataframe\">\n",
       "  <thead>\n",
       "    <tr style=\"text-align: right;\">\n",
       "      <th></th>\n",
       "      <th>Mechanism</th>\n",
       "      <th>Social Welfare</th>\n",
       "      <th>Revenue</th>\n",
       "      <th>Relevence</th>\n",
       "    </tr>\n",
       "  </thead>\n",
       "  <tbody>\n",
       "    <tr>\n",
       "      <th>0</th>\n",
       "      <td>single_alloc_with_replacement</td>\n",
       "      <td>2.986</td>\n",
       "      <td>0.979</td>\n",
       "      <td>1.088</td>\n",
       "    </tr>\n",
       "    <tr>\n",
       "      <th>1</th>\n",
       "      <td>single_alloc_without_replacement</td>\n",
       "      <td>2.725</td>\n",
       "      <td>1.427</td>\n",
       "      <td>1.027</td>\n",
       "    </tr>\n",
       "    <tr>\n",
       "      <th>2</th>\n",
       "      <td>single_alloc_naive_i</td>\n",
       "      <td>2.888</td>\n",
       "      <td>1.066</td>\n",
       "      <td>1.066</td>\n",
       "    </tr>\n",
       "    <tr>\n",
       "      <th>3</th>\n",
       "      <td>single_alloc_naive_ii</td>\n",
       "      <td>2.699</td>\n",
       "      <td>0.346</td>\n",
       "      <td>1.007</td>\n",
       "    </tr>\n",
       "  </tbody>\n",
       "</table>\n",
       "</div>"
      ],
      "text/plain": [
       "                          Mechanism  Social Welfare  Revenue  Relevence\n",
       "0     single_alloc_with_replacement           2.986    0.979      1.088\n",
       "1  single_alloc_without_replacement           2.725    1.427      1.027\n",
       "2              single_alloc_naive_i           2.888    1.066      1.066\n",
       "3             single_alloc_naive_ii           2.699    0.346      1.007"
      ]
     },
     "execution_count": 14,
     "metadata": {},
     "output_type": "execute_result"
    }
   ],
   "source": [
    "df"
   ]
  },
  {
   "cell_type": "code",
   "execution_count": 31,
   "metadata": {},
   "outputs": [],
   "source": [
    "sw = runs[:, 0]"
   ]
  },
  {
   "cell_type": "code",
   "execution_count": 32,
   "metadata": {},
   "outputs": [
    {
     "data": {
      "text/plain": [
       "array([0.80343606, 1.        , 0.41030818, 0.2818651 , 0.54867733,\n",
       "       0.34005989, 0.74524127, 0.35211339, 0.80343606, 0.2818651 ,\n",
       "       0.47842905, 0.54867733, 0.34005989, 0.49048254, 0.35211339,\n",
       "       0.54867733, 0.2818651 , 0.53662383, 0.26981161, 0.60687212,\n",
       "       0.35211339, 0.54867733, 0.47842905, 0.26981161, 0.53662383,\n",
       "       0.49048254, 0.80343606, 0.54867733, 0.34005989, 0.35211339,\n",
       "       0.53662383, 0.74524127, 0.47842905, 0.35211339, 0.35211339,\n",
       "       0.73318778, 0.74524127, 0.53662383, 0.53662383, 1.        ,\n",
       "       0.54867733, 0.47842905, 0.53662383, 0.60687212, 0.47842905,\n",
       "       0.41030818, 0.73318778, 0.54867733, 0.73318778, 0.54867733,\n",
       "       0.47842905, 0.26981161, 0.80343606, 0.53662383, 0.54867733,\n",
       "       0.47842905, 0.41030818, 0.34005989, 0.54867733, 0.60687212,\n",
       "       0.54867733, 0.74524127, 1.        , 0.74524127, 0.47842905,\n",
       "       0.41030818, 0.21161682, 0.53662383, 0.73318778, 0.54867733,\n",
       "       0.41030818, 0.2818651 , 0.2939186 , 0.80343606, 0.60687212,\n",
       "       0.60687212, 0.34005989, 0.73318778, 0.47842905, 0.53662383,\n",
       "       0.35211339, 0.34005989, 0.35211339, 0.74524127, 0.80343606,\n",
       "       0.60687212, 0.80343606, 0.41030818, 0.41030818, 0.21161682,\n",
       "       0.35211339, 0.41030818, 0.47842905, 0.80343606, 0.54867733,\n",
       "       0.41030818, 0.47842905, 0.2818651 , 0.60687212, 0.2818651 ])"
      ]
     },
     "execution_count": 32,
     "metadata": {},
     "output_type": "execute_result"
    }
   ],
   "source": [
    "sw"
   ]
  },
  {
   "cell_type": "code",
   "execution_count": null,
   "metadata": {},
   "outputs": [],
   "source": []
  }
 ],
 "metadata": {
  "kernelspec": {
   "display_name": "base",
   "language": "python",
   "name": "python3"
  },
  "language_info": {
   "codemirror_mode": {
    "name": "ipython",
    "version": 3
   },
   "file_extension": ".py",
   "mimetype": "text/x-python",
   "name": "python",
   "nbconvert_exporter": "python",
   "pygments_lexer": "ipython3",
   "version": "3.8.5"
  }
 },
 "nbformat": 4,
 "nbformat_minor": 2
}
