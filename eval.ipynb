{
 "cells": [
  {
   "cell_type": "code",
   "execution_count": 1,
   "metadata": {},
   "outputs": [],
   "source": [
    "import numpy as np\n",
    "import pandas as pd\n",
    "import json\n",
    "import matplotlib.pyplot as plt"
   ]
  },
  {
   "cell_type": "code",
   "execution_count": 2,
   "metadata": {},
   "outputs": [],
   "source": [
    "methods = ['single_alloc_with_replacement', 'single_alloc_without_replacement', 'single_alloc_naive_i', 'single_alloc_naive_ii']"
   ]
  },
  {
   "cell_type": "code",
   "execution_count": 3,
   "metadata": {},
   "outputs": [],
   "source": [
    "SOCIAL_WELFARE = 'social_welfare'\n",
    "REVENUE = 'revenue'\n",
    "RELEVANCE = 'relevance'\n",
    "OUTPUT = 'output'\n",
    "WINNER = 'winner'"
   ]
  },
  {
   "cell_type": "code",
   "execution_count": 11,
   "metadata": {},
   "outputs": [],
   "source": [
    "vals = []\n",
    "\n",
    "for method_id in range(4):\n",
    "    runs = []\n",
    "    path_file = f'scenario0/{methods[method_id]}_dep0.json'\n",
    "    with open(path_file, 'r') as f:\n",
    "        metrics = json.loads(f.read())\n",
    "    \n",
    "    for metric in metrics:\n",
    "        sw = np.sum(metric[SOCIAL_WELFARE])\n",
    "        revenue = np.sum(metric[REVENUE])\n",
    "        relevence = np.sum(metric[RELEVANCE])\n",
    "        runs.append((sw, revenue, relevence,))\n",
    "\n",
    "    runs = np.array(runs)\n",
    "    vals.append([float(f'{np.mean(runs[:, j]):.3f}') for j in range(3)])"
   ]
  },
  {
   "cell_type": "code",
   "execution_count": 12,
   "metadata": {},
   "outputs": [
    {
     "data": {
      "text/plain": [
       "(4, 3)"
      ]
     },
     "execution_count": 12,
     "metadata": {},
     "output_type": "execute_result"
    }
   ],
   "source": [
    "len(vals), len(vals[0])"
   ]
  },
  {
   "cell_type": "code",
   "execution_count": 13,
   "metadata": {},
   "outputs": [],
   "source": [
    "vals = np.array(vals)\n",
    "\n",
    "df = pd.DataFrame({\n",
    "        'Mechanism': methods,\n",
    "        'Social Welfare': vals[:, 0],\n",
    "        'Revenue': vals[:, 1],\n",
    "        'Relevence': vals[:, 2]\n",
    "    })\n"
   ]
  },
  {
   "cell_type": "code",
   "execution_count": 14,
   "metadata": {},
   "outputs": [
    {
     "data": {
      "text/html": [
       "<div>\n",
       "<style scoped>\n",
       "    .dataframe tbody tr th:only-of-type {\n",
       "        vertical-align: middle;\n",
       "    }\n",
       "\n",
       "    .dataframe tbody tr th {\n",
       "        vertical-align: top;\n",
       "    }\n",
       "\n",
       "    .dataframe thead th {\n",
       "        text-align: right;\n",
       "    }\n",
       "</style>\n",
       "<table border=\"1\" class=\"dataframe\">\n",
       "  <thead>\n",
       "    <tr style=\"text-align: right;\">\n",
       "      <th></th>\n",
       "      <th>Mechanism</th>\n",
       "      <th>Social Welfare</th>\n",
       "      <th>Revenue</th>\n",
       "      <th>Relevence</th>\n",
       "    </tr>\n",
       "  </thead>\n",
       "  <tbody>\n",
       "    <tr>\n",
       "      <th>0</th>\n",
       "      <td>single_alloc_with_replacement</td>\n",
       "      <td>2.986</td>\n",
       "      <td>0.979</td>\n",
       "      <td>1.088</td>\n",
       "    </tr>\n",
       "    <tr>\n",
       "      <th>1</th>\n",
       "      <td>single_alloc_without_replacement</td>\n",
       "      <td>2.725</td>\n",
       "      <td>1.427</td>\n",
       "      <td>1.027</td>\n",
       "    </tr>\n",
       "    <tr>\n",
       "      <th>2</th>\n",
       "      <td>single_alloc_naive_i</td>\n",
       "      <td>2.888</td>\n",
       "      <td>1.066</td>\n",
       "      <td>1.066</td>\n",
       "    </tr>\n",
       "    <tr>\n",
       "      <th>3</th>\n",
       "      <td>single_alloc_naive_ii</td>\n",
       "      <td>2.699</td>\n",
       "      <td>0.346</td>\n",
       "      <td>1.007</td>\n",
       "    </tr>\n",
       "  </tbody>\n",
       "</table>\n",
       "</div>"
      ],
      "text/plain": [
       "                          Mechanism  Social Welfare  Revenue  Relevence\n",
       "0     single_alloc_with_replacement           2.986    0.979      1.088\n",
       "1  single_alloc_without_replacement           2.725    1.427      1.027\n",
       "2              single_alloc_naive_i           2.888    1.066      1.066\n",
       "3             single_alloc_naive_ii           2.699    0.346      1.007"
      ]
     },
     "execution_count": 14,
     "metadata": {},
     "output_type": "execute_result"
    }
   ],
   "source": [
    "df"
   ]
  },
  {
   "cell_type": "code",
   "execution_count": null,
   "metadata": {},
   "outputs": [],
   "source": []
  }
 ],
 "metadata": {
  "kernelspec": {
   "display_name": "base",
   "language": "python",
   "name": "python3"
  },
  "language_info": {
   "codemirror_mode": {
    "name": "ipython",
    "version": 3
   },
   "file_extension": ".py",
   "mimetype": "text/x-python",
   "name": "python",
   "nbconvert_exporter": "python",
   "pygments_lexer": "ipython3",
   "version": "3.8.5"
  }
 },
 "nbformat": 4,
 "nbformat_minor": 2
}
